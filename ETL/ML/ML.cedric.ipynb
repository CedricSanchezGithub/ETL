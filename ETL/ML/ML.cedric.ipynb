{
 "cells": [
  {
   "metadata": {},
   "cell_type": "code",
   "source": [
    "class Identifiants:\n",
    "    user = 'root'\n",
    "    password = 'root'\n",
    "    host = 'localhost'\n",
    "    port = 3306\n",
    "    database = 'wildlens'"
   ],
   "id": "3fe26f2a37953293",
   "outputs": [],
   "execution_count": null
  },
  {
   "cell_type": "code",
   "id": "initial_id",
   "metadata": {
    "collapsed": true
   },
   "source": [
    "import pandas as pd\n",
    "from sqlalchemy import create_engine\n",
    "import matplotlib.pyplot as plt\n",
    "\n",
    "engine = create_engine(f\"mysql+pymysql://{Identifiants.user}:{Identifiants.password}@{Identifiants.host}:{Identifiants.port}/{Identifiants.database}\")\n",
    "\n",
    "df_images = pd.read_sql(\"SELECT * FROM wildlens_images\", engine)\n",
    "df_facts= pd.read_sql(\"SELECT * FROM wildlens_facts\", engine)\n",
    "df_etat = pd.read_sql(\"SELECT * FROM wildlens_etat\", engine)"
   ],
   "outputs": [],
   "execution_count": null
  },
  {
   "metadata": {},
   "cell_type": "code",
   "source": "df_images.describe()",
   "id": "b6cac3677d298d79",
   "outputs": [],
   "execution_count": null
  },
  {
   "metadata": {},
   "cell_type": "code",
   "source": "df_facts.describe()",
   "id": "2b52d0593958d568",
   "outputs": [],
   "execution_count": null
  },
  {
   "metadata": {},
   "cell_type": "code",
   "source": "df_etat.describe()",
   "id": "8163370e12f6691c",
   "outputs": [],
   "execution_count": null
  },
  {
   "metadata": {},
   "cell_type": "code",
   "source": [
    "# 📊 Visualisation : Comparaison du nombre d'images par dossier\n",
    "plt.figure(figsize=(12, 6))\n",
    "\n",
    "x_labels = df_images[\"Nom du dossier\"]\n",
    "x_range = range(len(x_labels))\n",
    "\n",
    "plt.bar(x_range, df[\"Nombre d'images\"], width=0.3, label=\"Images\", color='blue')\n",
    "\n",
    "plt.xticks([x for x in x_range], x_labels, rotation=90)  # Centrage des labels\n",
    "plt.ylabel(\"Nombre d'images\")\n",
    "plt.title(\"Comparaison du nombre d'images par dossier\")\n",
    "plt.legend()\n",
    "plt.tight_layout()\n",
    "plt.show()\n"
   ],
   "id": "af6d9ec1dc7dfb26",
   "outputs": [],
   "execution_count": null
  }
 ],
 "metadata": {
  "kernelspec": {
   "display_name": "Python 3",
   "language": "python",
   "name": "python3"
  },
  "language_info": {
   "codemirror_mode": {
    "name": "ipython",
    "version": 2
   },
   "file_extension": ".py",
   "mimetype": "text/x-python",
   "name": "python",
   "nbconvert_exporter": "python",
   "pygments_lexer": "ipython2",
   "version": "2.7.6"
  }
 },
 "nbformat": 4,
 "nbformat_minor": 5
}
