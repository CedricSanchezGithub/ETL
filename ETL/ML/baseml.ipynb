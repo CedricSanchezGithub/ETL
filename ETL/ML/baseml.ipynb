{
 "cells": [
  {
   "cell_type": "code",
   "id": "3fe26f2a37953293",
   "metadata": {
    "ExecuteTime": {
     "end_time": "2025-06-14T19:10:59.982920Z",
     "start_time": "2025-06-14T19:10:54.841533Z"
    }
   },
   "source": [
    "import os\n",
    "import pandas as pd\n",
    "from PIL import Image\n",
    "from torchvision import transforms, models\n",
    "from torch.utils.data import Dataset, DataLoader\n",
    "import torch\n",
    "import torch.nn as nn\n",
    "import torch.optim as optim\n",
    "from pyspark.sql import SparkSession\n"
   ],
   "outputs": [],
   "execution_count": 1
  },
  {
   "cell_type": "code",
   "id": "initial_id",
   "metadata": {
    "collapsed": true,
    "ExecuteTime": {
     "end_time": "2025-06-14T19:19:14.775052Z",
     "start_time": "2025-06-14T19:18:58.944872Z"
    }
   },
   "source": [
    "spark = SparkSession.builder \\\n",
    "    .appName(\"Wildlens SQL Loader\") \\\n",
    "    .config(\"spark.jars\", \"ETL/installation/mysql-connector-j-9.1.0.jar\") \\\n",
    "    .getOrCreate()\n",
    "\n",
    "images_df = spark.read \\\n",
    "    .format(\"jdbc\") \\\n",
    "    .option(\"url\", \"jdbc:mysql://localhost:3306/wildlens\") \\\n",
    "    .option(\"driver\", \"com.mysql.cj.jdbc.Driver\") \\\n",
    "    .option(\"dbtable\", \"wildlens_images\") \\\n",
    "    .option(\"user\", \"root\") \\\n",
    "    .option(\"password\", \"root\") \\\n",
    "    .load()\n",
    "\n",
    "facts_df = spark.read \\\n",
    "    .format(\"jdbc\") \\\n",
    "    .option(\"url\", \"jdbc:mysql://localhost:3306/wildlens\") \\\n",
    "    .option(\"driver\", \"com.mysql.cj.jdbc.Driver\") \\\n",
    "    .option(\"dbtable\", \"wildlens_facts\") \\\n",
    "    .option(\"user\", \"root\") \\\n",
    "    .option(\"password\", \"root\") \\\n",
    "    .load()\n",
    "\n",
    "joined_df = images_df.join(facts_df, images_df.id_espece == facts_df.id_espece) \\\n",
    "                     .select(\"image\", \"nom_fr\", \"id_etat\")\n",
    "\n",
    "df = joined_df.toPandas()\n"
   ],
   "outputs": [
    {
     "name": "stderr",
     "output_type": "stream",
     "text": [
      "25/06/14 21:19:01 WARN Utils: Your hostname, DESKTOP-V5T7J8A resolves to a loopback address: 127.0.1.1; using 172.25.127.84 instead (on interface eth0)\n",
      "25/06/14 21:19:01 WARN Utils: Set SPARK_LOCAL_IP if you need to bind to another address\n",
      "25/06/14 21:19:02 WARN NativeCodeLoader: Unable to load native-hadoop library for your platform... using builtin-java classes where applicable\n",
      "Setting default log level to \"WARN\".\n",
      "To adjust logging level use sc.setLogLevel(newLevel). For SparkR, use setLogLevel(newLevel).\n",
      "                                                                                \r"
     ]
    }
   ],
   "execution_count": 2
  },
  {
   "cell_type": "code",
   "id": "b6cac3677d298d79",
   "metadata": {
    "ExecuteTime": {
     "end_time": "2025-06-14T19:19:59.340540Z",
     "start_time": "2025-06-14T19:19:59.302785Z"
    }
   },
   "source": [
    "train_df = df[df['id_etat'] == 1]\n",
    "val_df = df[df['id_etat'] == 2]\n",
    "test_df = df[df['id_etat'] == 3]"
   ],
   "outputs": [],
   "execution_count": 3
  },
  {
   "cell_type": "code",
   "id": "2b52d0593958d568",
   "metadata": {
    "ExecuteTime": {
     "end_time": "2025-06-14T19:20:02.251323Z",
     "start_time": "2025-06-14T19:20:02.244186Z"
    }
   },
   "source": [
    "class WildlensDataset(Dataset):\n",
    "    def __init__(self, dataframe, root_dir, transform=None, label2idx=None):\n",
    "        self.data = dataframe.reset_index(drop=True)\n",
    "        self.root_dir = root_dir\n",
    "        self.transform = transform\n",
    "        self.label2idx = label2idx or {label: idx for idx, label in enumerate(sorted(dataframe['nom_fr'].unique()))}\n",
    "\n",
    "    def __len__(self):\n",
    "        return len(self.data)\n",
    "\n",
    "    def __getitem__(self, idx):\n",
    "        img_path = os.path.join(self.root_dir, self.data.iloc[idx]['image'])\n",
    "        image = Image.open(img_path).convert('RGB')\n",
    "        label = self.label2idx[self.data.iloc[idx]['nom_fr']]\n",
    "        if self.transform:\n",
    "            image = self.transform(image)\n",
    "        return image, label"
   ],
   "outputs": [],
   "execution_count": 4
  },
  {
   "cell_type": "code",
   "id": "8163370e12f6691c",
   "metadata": {
    "ExecuteTime": {
     "end_time": "2025-06-14T19:20:35.141735Z",
     "start_time": "2025-06-14T19:20:35.135292Z"
    }
   },
   "source": [
    "train_transforms = transforms.Compose([\n",
    "    transforms.Resize((224, 224)),\n",
    "    transforms.RandomHorizontalFlip(),\n",
    "    transforms.ToTensor(),\n",
    "])"
   ],
   "outputs": [],
   "execution_count": 5
  },
  {
   "metadata": {
    "ExecuteTime": {
     "end_time": "2025-06-14T19:20:41.938812Z",
     "start_time": "2025-06-14T19:20:41.933040Z"
    }
   },
   "cell_type": "code",
   "source": [
    "val_transforms = transforms.Compose([\n",
    "    transforms.Resize((224, 224)),\n",
    "    transforms.ToTensor(),\n",
    "])"
   ],
   "id": "d3a4a2f729c288d0",
   "outputs": [],
   "execution_count": 6
  },
  {
   "cell_type": "code",
   "id": "af6d9ec1dc7dfb26",
   "metadata": {
    "ExecuteTime": {
     "end_time": "2025-06-14T19:21:19.883862Z",
     "start_time": "2025-06-14T19:21:19.874158Z"
    }
   },
   "source": [
    "label2idx = {label: idx for idx, label in enumerate(sorted(df['nom_fr'].unique()))}\n",
    "\n",
    "train_dataset = WildlensDataset(train_df, 'ressource/image/augmented_train', transform=train_transforms, label2idx=label2idx)\n",
    "val_dataset = WildlensDataset(val_df, 'ressource/image/augmented_train', transform=val_transforms, label2idx=label2idx)\n",
    "test_dataset = WildlensDataset(test_df, 'ressource/image/augmented_train', transform=val_transforms, label2idx=label2idx)\n",
    "\n",
    "train_loader = DataLoader(train_dataset, batch_size=32, shuffle=True)\n",
    "val_loader = DataLoader(val_dataset, batch_size=32)\n",
    "test_loader = DataLoader(test_dataset, batch_size=32)\n"
   ],
   "outputs": [],
   "execution_count": 7
  },
  {
   "metadata": {},
   "cell_type": "code",
   "outputs": [],
   "execution_count": null,
   "source": "",
   "id": "f29237187a7ea148"
  }
 ],
 "metadata": {
  "kernelspec": {
   "display_name": "Python 3",
   "language": "python",
   "name": "python3"
  },
  "language_info": {
   "codemirror_mode": {
    "name": "ipython",
    "version": 2
   },
   "file_extension": ".py",
   "mimetype": "text/x-python",
   "name": "python",
   "nbconvert_exporter": "python",
   "pygments_lexer": "ipython2",
   "version": "2.7.6"
  }
 },
 "nbformat": 4,
 "nbformat_minor": 5
}
