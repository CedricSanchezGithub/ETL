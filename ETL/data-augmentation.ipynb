{
 "cells": [
  {
   "cell_type": "code",
   "execution_count": 1,
   "id": "fbc121e30a2defb3",
   "metadata": {
    "ExecuteTime": {
     "end_time": "2025-02-25T15:46:21.700891Z",
     "start_time": "2025-02-25T15:46:19.007570Z"
    }
   },
   "outputs": [],
   "source": [
    "import os\n",
    "\n",
    "import albumentations as A\n",
    "import cv2\n",
    "\n",
    "# Définir les transformations d'augmentation\n",
    "transform = A.Compose(\n",
    "    [\n",
    "        A.VerticalFlip(p=0.5),\n",
    "        A.HorizontalFlip(p=0.5),\n",
    "        A.RandomBrightnessContrast(p=0.2),\n",
    "        A.Rotate(limit=40, p=0.5),\n",
    "    ]\n",
    ")"
   ]
  },
  {
   "cell_type": "code",
   "execution_count": 2,
   "id": "2a91f17eba3147fb",
   "metadata": {
    "ExecuteTime": {
     "end_time": "2025-02-25T15:46:21.726293Z",
     "start_time": "2025-02-25T15:46:21.719836Z"
    }
   },
   "outputs": [],
   "source": [
    "# Fonction pour augmenter les images dans un dossier\n",
    "def augment_images_in_directory(input_dir, output_dir, num_augmentations=5):\n",
    "    # Créer le répertoire de sortie s'il n'existe pas\n",
    "    if not os.path.exists(output_dir):\n",
    "        os.makedirs(output_dir)\n",
    "\n",
    "    # Parcourir les fichiers dans le répertoire d'entrée\n",
    "    for filename in os.listdir(input_dir):\n",
    "        if filename.endswith((\".png\", \".jpg\", \".jpeg\")):\n",
    "            # Lire l'image\n",
    "            image_path = os.path.join(input_dir, filename)\n",
    "            image = cv2.imread(image_path)\n",
    "\n",
    "            # Créer un sous-dossier pour chaque image dans le dossier de sortie\n",
    "            image_output_dir = os.path.join(output_dir, os.path.splitext(filename)[0])\n",
    "            if not os.path.exists(image_output_dir):\n",
    "                os.makedirs(image_output_dir)\n",
    "\n",
    "            # Appliquer les augmentations\n",
    "            for i in range(num_augmentations):\n",
    "                augmented = transform(image=image)\n",
    "                augmented_image = augmented[\"image\"]\n",
    "\n",
    "                # Sauvegarder l'image augmentée\n",
    "                augmented_filename = f\"aug_{i}.png\"\n",
    "                augmented_image_path = os.path.join(\n",
    "                    image_output_dir, augmented_filename\n",
    "                )\n",
    "                cv2.imwrite(augmented_image_path, augmented_image)"
   ]
  },
  {
   "cell_type": "code",
   "execution_count": 3,
   "id": "31f1b19df9766576",
   "metadata": {
    "ExecuteTime": {
     "end_time": "2025-02-25T15:46:29.517068Z",
     "start_time": "2025-02-25T15:46:21.740469Z"
    }
   },
   "outputs": [],
   "source": [
    "# Exemple d'utilisation de la fonction\n",
    "input_directories = [\"dossier1\", \"dossier2\", \"dossier3\"]\n",
    "output_directory = \"images_augmentees\"\n",
    "\n",
    "for input_dir in input_directories:\n",
    "    # Créer un dossier de sortie distinct pour chaque dossier d'entrée\n",
    "    specific_output_dir = os.path.join(output_directory, os.path.basename(input_dir))\n",
    "    augment_images_in_directory(input_dir, specific_output_dir)"
   ]
  }
 ],
 "metadata": {
  "kernelspec": {
   "display_name": "Python 3",
   "language": "python",
   "name": "python3"
  },
  "language_info": {
   "codemirror_mode": {
    "name": "ipython",
    "version": 2
   },
   "file_extension": ".py",
   "mimetype": "text/x-python",
   "name": "python",
   "nbconvert_exporter": "python",
   "pygments_lexer": "ipython2",
   "version": "2.7.6"
  }
 },
 "nbformat": 4,
 "nbformat_minor": 5
}
