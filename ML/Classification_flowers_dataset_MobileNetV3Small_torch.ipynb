{
 "cells": [
  {
   "cell_type": "markdown",
   "id": "31fee02c-ad40-40d1-973b-ac3ad9cc5d90",
   "metadata": {},
   "source": [
    "# Classification multiclasses des images du dataset 5 flowers\n",
    "\n",
    "# Data Augmentation + Transfer Learning avec MobileNetV3Small + Fine Tuning\n",
    "\n",
    "- Auteur : Laurent PISSOT\n",
    "- Date : 12 Mai 2025\n",
    "- Statut : **Validé**\n",
    "- Références : <br>https://docs.pytorch.org/vision/main/models/generated/torchvision.models.mobilenet_v3_small.html, <br> https://pytorch.org/blog/torchvision-mobilenet-v3-implementation/..., <br> https://docs.pytorch.org/vision/0.22/models.html, <br> https://pypi.org/project/torch/2.6.0/, <br> requêtes Copilot !"
   ]
  },
  {
   "cell_type": "code",
   "id": "863496cc-659d-4ed5-8472-6a9c98008afc",
   "metadata": {
    "ExecuteTime": {
     "end_time": "2025-06-07T13:20:13.991583Z",
     "start_time": "2025-06-07T13:20:13.856302Z"
    }
   },
   "source": [
    "!python --version"
   ],
   "outputs": [
    {
     "name": "stdout",
     "output_type": "stream",
     "text": [
      "Python 3.12.3\r\n"
     ]
    }
   ],
   "execution_count": 21
  },
  {
   "cell_type": "markdown",
   "id": "60f9fbf7-03d1-4b71-a31a-a63de611b477",
   "metadata": {},
   "source": [
    "### Introduction"
   ]
  },
  {
   "cell_type": "markdown",
   "id": "f4402f02-de6f-4641-b5c6-1abb67ffe94a",
   "metadata": {},
   "source": [
    "MobileNetV3, une architecture de pointe pour des modèles de deep learning efficaces conçus pour les appareils mobiles. Il s’agit de la troisième génération de la famille MobileNet.\n",
    "\n",
    "Les MobileNet sont des réseaux neuronaux convolutifs (CNN) légers optimisés pour la vitesse et la précision. MobileNetV3 introduit de nouvelles améliorations de l’architecture, telles que la recherche d’architecture neuronale (NAS) sensible à la plate-forme et NetAdapt, afin d’améliorer encore les performances.\n",
    "\n",
    "**Qu'est-ce que MobileNet ?**<br>\n",
    "MobileNet est une famille de réseaux neuronaux conçus pour une inférence efficace sur les appareils mobiles et intégrés. Le MobileNetV1 original a introduit une technique appelée convolutions séparables en profondeur, qui a considérablement réduit le nombre de calculs par rapport aux convolutions traditionnelles.\n",
    "\n",
    "Les MobileNet sont particulièrement bien adaptés aux tâches telles que la classification d’images, la détection d’objets et la segmentation sémantique sur des appareils disposant d’une puissance de calcul limitée."
   ]
  },
  {
   "cell_type": "markdown",
   "id": "33e8b102-e7d9-41a8-9a18-5c5521bbe579",
   "metadata": {},
   "source": [
    "**MobileNetV1 vs V2 vs V3 : quelle est la différence ?**\n",
    "\n",
    "**MobileNetV1** : Introduction de convolutions séparables en profondeur pour réduire le calcul et la taille du modèle.\n",
    "\n",
    "**MobileNetV2** : Ajout de résidus inversés et de goulets d’étranglement linéaires pour rendre le réseau plus efficace.\n",
    "\n",
    "**MobileNetV3** : Combine le meilleur des deux versions précédentes et les améliore avec :\n",
    "\n",
    "- NAS sensible à la plate-forme pour optimiser l’architecture des processeurs mobiles.\n",
    "- NetAdapt pour affiner les couches réseau pour plus d’efficacité.\n",
    "- Modules Squeeze-and-Excite (SE) pour stimuler l’apprentissage des fonctionnalités.\n",
    "- Fonction d’activation H-Swish pour améliorer l’efficacité du modèle."
   ]
  },
  {
   "cell_type": "markdown",
   "id": "14cacd11-e26f-49ac-b686-c7942f5b3c36",
   "metadata": {},
   "source": [
    "## Étape 1 : Configuration de l'environnement d'exécution"
   ]
  },
  {
   "cell_type": "code",
   "id": "234ca7c5-7f20-458c-8db5-999780c8178f",
   "metadata": {
    "ExecuteTime": {
     "end_time": "2025-06-07T13:20:14.013955Z",
     "start_time": "2025-06-07T13:20:14.011104Z"
    }
   },
   "source": [
    "import torch\n",
    "import torchvision.models as models\n",
    "import torch.nn as nn\n",
    "from torchvision import datasets, transforms\n",
    "from torch.utils.data import DataLoader\n",
    "import torch.optim as optim\n",
    "from torchvision.models import resnet50, ResNet50_Weights, mobilenet_v3_small, MobileNet_V3_Small_Weights\n",
    "from PIL import Image\n",
    "from sklearn.metrics import confusion_matrix, classification_report, accuracy_score\n",
    "import pathlib\n",
    "\n",
    "# Définition des constantes\n",
    "IMG_SIZE = 224\n",
    "BATCH_SIZE = 32\n",
    "LR = 0.001\n",
    "NB_EPOCHS = 10\n",
    "NB_CLASSES = 5"
   ],
   "outputs": [],
   "execution_count": 22
  },
  {
   "cell_type": "code",
   "id": "c23b0705-e922-4c77-b245-d2798c92d0ff",
   "metadata": {
    "ExecuteTime": {
     "end_time": "2025-06-07T13:20:14.071412Z",
     "start_time": "2025-06-07T13:20:14.068648Z"
    }
   },
   "source": [
    "torch.__version__"
   ],
   "outputs": [
    {
     "data": {
      "text/plain": [
       "'2.7.1+cu126'"
      ]
     },
     "execution_count": 23,
     "metadata": {},
     "output_type": "execute_result"
    }
   ],
   "execution_count": 23
  },
  {
   "cell_type": "markdown",
   "id": "8ce561af-4085-4890-aa4b-40d94a0e67be",
   "metadata": {},
   "source": [
    "#### Définition des fonctions locales"
   ]
  },
  {
   "cell_type": "code",
   "id": "09a57d7d-933f-498d-b6f9-01327430e9cf",
   "metadata": {
    "ExecuteTime": {
     "end_time": "2025-06-07T13:20:14.140284Z",
     "start_time": "2025-06-07T13:20:14.132722Z"
    }
   },
   "source": [
    "# Our function needs a different name to sklearn's plot_confusion_matrix\n",
    "def f_make_confusion_matrix(y_true, y_pred, classes=None, figsize=(10, 10), text_size=15, norm=False, savefig=False):\n",
    "    \"\"\"Makes a labelled confusion matrix comparing predictions and ground truth labels.\n",
    "\n",
    "      If classes is passed, confusion matrix will be labelled, if not, integer class values\n",
    "      will be used.\n",
    "\n",
    "      Args:\n",
    "        y_true: Array of truth labels (must be same shape as y_pred).\n",
    "        y_pred: Array of predicted labels (must be same shape as y_true).\n",
    "        classes: Array of class labels (e.g. string form). If `None`, integer labels are used.\n",
    "        figsize: Size of output figure (default=(10, 10)).\n",
    "        text_size: Size of output figure text (default=15).\n",
    "        norm: normalize values or not (default=False).\n",
    "        savefig: save confusion matrix to file (default=False).\n",
    "  \n",
    "      Returns:\n",
    "        A labelled confusion matrix plot comparing y_true and y_pred.\n",
    "\n",
    "      Example usage:\n",
    "        make_confusion_matrix(y_true=test_labels, # ground truth test labels\n",
    "                              y_pred=y_preds, # predicted labels\n",
    "                              classes=class_names, # array of class label names\n",
    "                              figsize=(15, 15),\n",
    "                              text_size=10)\n",
    "    \"\"\"\n",
    "    import itertools\n",
    "    import matplotlib.pyplot as plt\n",
    "    import numpy as np\n",
    "    from sklearn.metrics import confusion_matrix\n",
    "    # Create the confustion matrix\n",
    "    cm = confusion_matrix(y_true, y_pred)\n",
    "    cm_norm = cm.astype(\"float\") / cm.sum(axis=1)[:, np.newaxis] # normalize it\n",
    "    n_classes = cm.shape[0] # find the number of classes we're dealing with\n",
    "\n",
    "    # Plot the figure and make it pretty\n",
    "    fig, ax = plt.subplots(figsize=figsize)\n",
    "    cax = ax.matshow(cm, cmap=plt.cm.Blues) # colors will represent how 'correct' a class is, darker == better\n",
    "    fig.colorbar(cax)\n",
    "  \n",
    "    # Are there a list of classes?\n",
    "    if classes:  labels = classes\n",
    "    else:  labels = np.arange(cm.shape[0])\n",
    "  \n",
    "    # Label the axes\n",
    "    ax.set(title=\"Confusion Matrix\",\n",
    "           xlabel=\"Predicted label\",\n",
    "           ylabel=\"True label\",\n",
    "           xticks=np.arange(n_classes), # create enough axis slots for each class\n",
    "           yticks=np.arange(n_classes), \n",
    "           xticklabels=labels, # axes will labeled with class names (if they exist) or ints\n",
    "           yticklabels=labels)\n",
    "  \n",
    "    # Make x-axis labels appear on bottom\n",
    "    ax.xaxis.set_label_position(\"bottom\")\n",
    "    ax.xaxis.tick_bottom()\n",
    "\n",
    "    ### Added: Rotate xticks for readability & increase font size (required due to such a large confusion matrix)\n",
    "    plt.xticks(rotation=70, fontsize=text_size)\n",
    "    plt.yticks(fontsize=text_size)\n",
    "\n",
    "    # Set the threshold for different colors\n",
    "    threshold = (cm.max() + cm.min()) / 2.\n",
    "\n",
    "    # Plot the text on each cell\n",
    "    for i, j in itertools.product(range(cm.shape[0]), range(cm.shape[1])):\n",
    "        if norm:\n",
    "            plt.text(j, i, f\"{cm[i, j]} ({cm_norm[i, j]*100:.1f}%)\",\n",
    "                     horizontalalignment=\"center\",\n",
    "                     color=\"white\" if cm[i, j] > threshold else \"black\",\n",
    "                     size=text_size)\n",
    "        else:\n",
    "           plt.text(j, i, f\"{cm[i, j]}\",\n",
    "                    horizontalalignment=\"center\",\n",
    "                    color=\"white\" if cm[i, j] > threshold else \"black\",\n",
    "                    size=text_size)\n",
    "    plt.show()"
   ],
   "outputs": [],
   "execution_count": 24
  },
  {
   "cell_type": "code",
   "id": "c2c5a4c4-4cda-4bda-b04d-928be8ef1ee5",
   "metadata": {
    "ExecuteTime": {
     "end_time": "2025-06-07T13:20:14.198119Z",
     "start_time": "2025-06-07T13:20:14.195478Z"
    }
   },
   "source": [
    "def preprocess_image(image_path):\n",
    "    image = Image.open(image_path).convert(\"RGB\")  # Ensure 3 channels (RGB)\n",
    "    return transform(image).unsqueeze(0)  # Add batch dimension"
   ],
   "outputs": [],
   "execution_count": 25
  },
  {
   "cell_type": "markdown",
   "id": "9f286c53-1fe6-44fd-ab33-dd42676d3638",
   "metadata": {},
   "source": [
    "## Étape 2 : Chargement du modèle pré entrainé MobileNetV3"
   ]
  },
  {
   "cell_type": "code",
   "id": "37015d8c-3eec-444a-924c-3d93a4cff5a1",
   "metadata": {
    "ExecuteTime": {
     "end_time": "2025-06-07T13:20:14.301655Z",
     "start_time": "2025-06-07T13:20:14.250907Z"
    }
   },
   "source": [
    "# Load MobileNetV3-Large pretrained on ImageNet\n",
    "# Pre-trained Model: The pretrained=True argument loads a model trained on ImageNet.\n",
    "#mobilenet_v3_large = models.mobilenet_v3_large(pretrained=True)  # Use mobilenet_v3_small for the smaller version\n",
    "mobilenet_v3 = models.mobilenet_v3_small(pretrained=True, weights=models.MobileNet_V3_Small_Weights.DEFAULT)\n",
    "\n",
    "# Modify the final layer for a custom number of classes (e.g., 10)\n",
    "mobilenet_v3.classifier[3] = nn.Linear(mobilenet_v3.classifier[3].in_features, NB_CLASSES)   # mobilenet_v3_small\n",
    "\n",
    "# Verify the modified model\n",
    "print(mobilenet_v3)\n",
    "\n",
    "#train on GPU if CUDA is available, else on CPU\n",
    "device = torch.device(\"cuda:0\" if torch.cuda.is_available() else \"cpu\")\n",
    "mobilenet_v3 = mobilenet_v3.to(device)\n",
    "\n",
    "#print training information\n",
    "print(\"\")\n",
    "if torch.cuda.is_available():  hardware = \"GPU \" + str(device) \n",
    "else:    hardware = \"CPU (CUDA was not found)\" \n",
    "print(\"Training information:\")\n",
    "print(\"iterations:\", NB_EPOCHS)\n",
    "print(\"batch size:\", BATCH_SIZE)\n",
    "print(\"\")"
   ],
   "outputs": [
    {
     "name": "stdout",
     "output_type": "stream",
     "text": [
      "MobileNetV3(\n",
      "  (features): Sequential(\n",
      "    (0): Conv2dNormActivation(\n",
      "      (0): Conv2d(3, 16, kernel_size=(3, 3), stride=(2, 2), padding=(1, 1), bias=False)\n",
      "      (1): BatchNorm2d(16, eps=0.001, momentum=0.01, affine=True, track_running_stats=True)\n",
      "      (2): Hardswish()\n",
      "    )\n",
      "    (1): InvertedResidual(\n",
      "      (block): Sequential(\n",
      "        (0): Conv2dNormActivation(\n",
      "          (0): Conv2d(16, 16, kernel_size=(3, 3), stride=(2, 2), padding=(1, 1), groups=16, bias=False)\n",
      "          (1): BatchNorm2d(16, eps=0.001, momentum=0.01, affine=True, track_running_stats=True)\n",
      "          (2): ReLU(inplace=True)\n",
      "        )\n",
      "        (1): SqueezeExcitation(\n",
      "          (avgpool): AdaptiveAvgPool2d(output_size=1)\n",
      "          (fc1): Conv2d(16, 8, kernel_size=(1, 1), stride=(1, 1))\n",
      "          (fc2): Conv2d(8, 16, kernel_size=(1, 1), stride=(1, 1))\n",
      "          (activation): ReLU()\n",
      "          (scale_activation): Hardsigmoid()\n",
      "        )\n",
      "        (2): Conv2dNormActivation(\n",
      "          (0): Conv2d(16, 16, kernel_size=(1, 1), stride=(1, 1), bias=False)\n",
      "          (1): BatchNorm2d(16, eps=0.001, momentum=0.01, affine=True, track_running_stats=True)\n",
      "        )\n",
      "      )\n",
      "    )\n",
      "    (2): InvertedResidual(\n",
      "      (block): Sequential(\n",
      "        (0): Conv2dNormActivation(\n",
      "          (0): Conv2d(16, 72, kernel_size=(1, 1), stride=(1, 1), bias=False)\n",
      "          (1): BatchNorm2d(72, eps=0.001, momentum=0.01, affine=True, track_running_stats=True)\n",
      "          (2): ReLU(inplace=True)\n",
      "        )\n",
      "        (1): Conv2dNormActivation(\n",
      "          (0): Conv2d(72, 72, kernel_size=(3, 3), stride=(2, 2), padding=(1, 1), groups=72, bias=False)\n",
      "          (1): BatchNorm2d(72, eps=0.001, momentum=0.01, affine=True, track_running_stats=True)\n",
      "          (2): ReLU(inplace=True)\n",
      "        )\n",
      "        (2): Conv2dNormActivation(\n",
      "          (0): Conv2d(72, 24, kernel_size=(1, 1), stride=(1, 1), bias=False)\n",
      "          (1): BatchNorm2d(24, eps=0.001, momentum=0.01, affine=True, track_running_stats=True)\n",
      "        )\n",
      "      )\n",
      "    )\n",
      "    (3): InvertedResidual(\n",
      "      (block): Sequential(\n",
      "        (0): Conv2dNormActivation(\n",
      "          (0): Conv2d(24, 88, kernel_size=(1, 1), stride=(1, 1), bias=False)\n",
      "          (1): BatchNorm2d(88, eps=0.001, momentum=0.01, affine=True, track_running_stats=True)\n",
      "          (2): ReLU(inplace=True)\n",
      "        )\n",
      "        (1): Conv2dNormActivation(\n",
      "          (0): Conv2d(88, 88, kernel_size=(3, 3), stride=(1, 1), padding=(1, 1), groups=88, bias=False)\n",
      "          (1): BatchNorm2d(88, eps=0.001, momentum=0.01, affine=True, track_running_stats=True)\n",
      "          (2): ReLU(inplace=True)\n",
      "        )\n",
      "        (2): Conv2dNormActivation(\n",
      "          (0): Conv2d(88, 24, kernel_size=(1, 1), stride=(1, 1), bias=False)\n",
      "          (1): BatchNorm2d(24, eps=0.001, momentum=0.01, affine=True, track_running_stats=True)\n",
      "        )\n",
      "      )\n",
      "    )\n",
      "    (4): InvertedResidual(\n",
      "      (block): Sequential(\n",
      "        (0): Conv2dNormActivation(\n",
      "          (0): Conv2d(24, 96, kernel_size=(1, 1), stride=(1, 1), bias=False)\n",
      "          (1): BatchNorm2d(96, eps=0.001, momentum=0.01, affine=True, track_running_stats=True)\n",
      "          (2): Hardswish()\n",
      "        )\n",
      "        (1): Conv2dNormActivation(\n",
      "          (0): Conv2d(96, 96, kernel_size=(5, 5), stride=(2, 2), padding=(2, 2), groups=96, bias=False)\n",
      "          (1): BatchNorm2d(96, eps=0.001, momentum=0.01, affine=True, track_running_stats=True)\n",
      "          (2): Hardswish()\n",
      "        )\n",
      "        (2): SqueezeExcitation(\n",
      "          (avgpool): AdaptiveAvgPool2d(output_size=1)\n",
      "          (fc1): Conv2d(96, 24, kernel_size=(1, 1), stride=(1, 1))\n",
      "          (fc2): Conv2d(24, 96, kernel_size=(1, 1), stride=(1, 1))\n",
      "          (activation): ReLU()\n",
      "          (scale_activation): Hardsigmoid()\n",
      "        )\n",
      "        (3): Conv2dNormActivation(\n",
      "          (0): Conv2d(96, 40, kernel_size=(1, 1), stride=(1, 1), bias=False)\n",
      "          (1): BatchNorm2d(40, eps=0.001, momentum=0.01, affine=True, track_running_stats=True)\n",
      "        )\n",
      "      )\n",
      "    )\n",
      "    (5): InvertedResidual(\n",
      "      (block): Sequential(\n",
      "        (0): Conv2dNormActivation(\n",
      "          (0): Conv2d(40, 240, kernel_size=(1, 1), stride=(1, 1), bias=False)\n",
      "          (1): BatchNorm2d(240, eps=0.001, momentum=0.01, affine=True, track_running_stats=True)\n",
      "          (2): Hardswish()\n",
      "        )\n",
      "        (1): Conv2dNormActivation(\n",
      "          (0): Conv2d(240, 240, kernel_size=(5, 5), stride=(1, 1), padding=(2, 2), groups=240, bias=False)\n",
      "          (1): BatchNorm2d(240, eps=0.001, momentum=0.01, affine=True, track_running_stats=True)\n",
      "          (2): Hardswish()\n",
      "        )\n",
      "        (2): SqueezeExcitation(\n",
      "          (avgpool): AdaptiveAvgPool2d(output_size=1)\n",
      "          (fc1): Conv2d(240, 64, kernel_size=(1, 1), stride=(1, 1))\n",
      "          (fc2): Conv2d(64, 240, kernel_size=(1, 1), stride=(1, 1))\n",
      "          (activation): ReLU()\n",
      "          (scale_activation): Hardsigmoid()\n",
      "        )\n",
      "        (3): Conv2dNormActivation(\n",
      "          (0): Conv2d(240, 40, kernel_size=(1, 1), stride=(1, 1), bias=False)\n",
      "          (1): BatchNorm2d(40, eps=0.001, momentum=0.01, affine=True, track_running_stats=True)\n",
      "        )\n",
      "      )\n",
      "    )\n",
      "    (6): InvertedResidual(\n",
      "      (block): Sequential(\n",
      "        (0): Conv2dNormActivation(\n",
      "          (0): Conv2d(40, 240, kernel_size=(1, 1), stride=(1, 1), bias=False)\n",
      "          (1): BatchNorm2d(240, eps=0.001, momentum=0.01, affine=True, track_running_stats=True)\n",
      "          (2): Hardswish()\n",
      "        )\n",
      "        (1): Conv2dNormActivation(\n",
      "          (0): Conv2d(240, 240, kernel_size=(5, 5), stride=(1, 1), padding=(2, 2), groups=240, bias=False)\n",
      "          (1): BatchNorm2d(240, eps=0.001, momentum=0.01, affine=True, track_running_stats=True)\n",
      "          (2): Hardswish()\n",
      "        )\n",
      "        (2): SqueezeExcitation(\n",
      "          (avgpool): AdaptiveAvgPool2d(output_size=1)\n",
      "          (fc1): Conv2d(240, 64, kernel_size=(1, 1), stride=(1, 1))\n",
      "          (fc2): Conv2d(64, 240, kernel_size=(1, 1), stride=(1, 1))\n",
      "          (activation): ReLU()\n",
      "          (scale_activation): Hardsigmoid()\n",
      "        )\n",
      "        (3): Conv2dNormActivation(\n",
      "          (0): Conv2d(240, 40, kernel_size=(1, 1), stride=(1, 1), bias=False)\n",
      "          (1): BatchNorm2d(40, eps=0.001, momentum=0.01, affine=True, track_running_stats=True)\n",
      "        )\n",
      "      )\n",
      "    )\n",
      "    (7): InvertedResidual(\n",
      "      (block): Sequential(\n",
      "        (0): Conv2dNormActivation(\n",
      "          (0): Conv2d(40, 120, kernel_size=(1, 1), stride=(1, 1), bias=False)\n",
      "          (1): BatchNorm2d(120, eps=0.001, momentum=0.01, affine=True, track_running_stats=True)\n",
      "          (2): Hardswish()\n",
      "        )\n",
      "        (1): Conv2dNormActivation(\n",
      "          (0): Conv2d(120, 120, kernel_size=(5, 5), stride=(1, 1), padding=(2, 2), groups=120, bias=False)\n",
      "          (1): BatchNorm2d(120, eps=0.001, momentum=0.01, affine=True, track_running_stats=True)\n",
      "          (2): Hardswish()\n",
      "        )\n",
      "        (2): SqueezeExcitation(\n",
      "          (avgpool): AdaptiveAvgPool2d(output_size=1)\n",
      "          (fc1): Conv2d(120, 32, kernel_size=(1, 1), stride=(1, 1))\n",
      "          (fc2): Conv2d(32, 120, kernel_size=(1, 1), stride=(1, 1))\n",
      "          (activation): ReLU()\n",
      "          (scale_activation): Hardsigmoid()\n",
      "        )\n",
      "        (3): Conv2dNormActivation(\n",
      "          (0): Conv2d(120, 48, kernel_size=(1, 1), stride=(1, 1), bias=False)\n",
      "          (1): BatchNorm2d(48, eps=0.001, momentum=0.01, affine=True, track_running_stats=True)\n",
      "        )\n",
      "      )\n",
      "    )\n",
      "    (8): InvertedResidual(\n",
      "      (block): Sequential(\n",
      "        (0): Conv2dNormActivation(\n",
      "          (0): Conv2d(48, 144, kernel_size=(1, 1), stride=(1, 1), bias=False)\n",
      "          (1): BatchNorm2d(144, eps=0.001, momentum=0.01, affine=True, track_running_stats=True)\n",
      "          (2): Hardswish()\n",
      "        )\n",
      "        (1): Conv2dNormActivation(\n",
      "          (0): Conv2d(144, 144, kernel_size=(5, 5), stride=(1, 1), padding=(2, 2), groups=144, bias=False)\n",
      "          (1): BatchNorm2d(144, eps=0.001, momentum=0.01, affine=True, track_running_stats=True)\n",
      "          (2): Hardswish()\n",
      "        )\n",
      "        (2): SqueezeExcitation(\n",
      "          (avgpool): AdaptiveAvgPool2d(output_size=1)\n",
      "          (fc1): Conv2d(144, 40, kernel_size=(1, 1), stride=(1, 1))\n",
      "          (fc2): Conv2d(40, 144, kernel_size=(1, 1), stride=(1, 1))\n",
      "          (activation): ReLU()\n",
      "          (scale_activation): Hardsigmoid()\n",
      "        )\n",
      "        (3): Conv2dNormActivation(\n",
      "          (0): Conv2d(144, 48, kernel_size=(1, 1), stride=(1, 1), bias=False)\n",
      "          (1): BatchNorm2d(48, eps=0.001, momentum=0.01, affine=True, track_running_stats=True)\n",
      "        )\n",
      "      )\n",
      "    )\n",
      "    (9): InvertedResidual(\n",
      "      (block): Sequential(\n",
      "        (0): Conv2dNormActivation(\n",
      "          (0): Conv2d(48, 288, kernel_size=(1, 1), stride=(1, 1), bias=False)\n",
      "          (1): BatchNorm2d(288, eps=0.001, momentum=0.01, affine=True, track_running_stats=True)\n",
      "          (2): Hardswish()\n",
      "        )\n",
      "        (1): Conv2dNormActivation(\n",
      "          (0): Conv2d(288, 288, kernel_size=(5, 5), stride=(2, 2), padding=(2, 2), groups=288, bias=False)\n",
      "          (1): BatchNorm2d(288, eps=0.001, momentum=0.01, affine=True, track_running_stats=True)\n",
      "          (2): Hardswish()\n",
      "        )\n",
      "        (2): SqueezeExcitation(\n",
      "          (avgpool): AdaptiveAvgPool2d(output_size=1)\n",
      "          (fc1): Conv2d(288, 72, kernel_size=(1, 1), stride=(1, 1))\n",
      "          (fc2): Conv2d(72, 288, kernel_size=(1, 1), stride=(1, 1))\n",
      "          (activation): ReLU()\n",
      "          (scale_activation): Hardsigmoid()\n",
      "        )\n",
      "        (3): Conv2dNormActivation(\n",
      "          (0): Conv2d(288, 96, kernel_size=(1, 1), stride=(1, 1), bias=False)\n",
      "          (1): BatchNorm2d(96, eps=0.001, momentum=0.01, affine=True, track_running_stats=True)\n",
      "        )\n",
      "      )\n",
      "    )\n",
      "    (10): InvertedResidual(\n",
      "      (block): Sequential(\n",
      "        (0): Conv2dNormActivation(\n",
      "          (0): Conv2d(96, 576, kernel_size=(1, 1), stride=(1, 1), bias=False)\n",
      "          (1): BatchNorm2d(576, eps=0.001, momentum=0.01, affine=True, track_running_stats=True)\n",
      "          (2): Hardswish()\n",
      "        )\n",
      "        (1): Conv2dNormActivation(\n",
      "          (0): Conv2d(576, 576, kernel_size=(5, 5), stride=(1, 1), padding=(2, 2), groups=576, bias=False)\n",
      "          (1): BatchNorm2d(576, eps=0.001, momentum=0.01, affine=True, track_running_stats=True)\n",
      "          (2): Hardswish()\n",
      "        )\n",
      "        (2): SqueezeExcitation(\n",
      "          (avgpool): AdaptiveAvgPool2d(output_size=1)\n",
      "          (fc1): Conv2d(576, 144, kernel_size=(1, 1), stride=(1, 1))\n",
      "          (fc2): Conv2d(144, 576, kernel_size=(1, 1), stride=(1, 1))\n",
      "          (activation): ReLU()\n",
      "          (scale_activation): Hardsigmoid()\n",
      "        )\n",
      "        (3): Conv2dNormActivation(\n",
      "          (0): Conv2d(576, 96, kernel_size=(1, 1), stride=(1, 1), bias=False)\n",
      "          (1): BatchNorm2d(96, eps=0.001, momentum=0.01, affine=True, track_running_stats=True)\n",
      "        )\n",
      "      )\n",
      "    )\n",
      "    (11): InvertedResidual(\n",
      "      (block): Sequential(\n",
      "        (0): Conv2dNormActivation(\n",
      "          (0): Conv2d(96, 576, kernel_size=(1, 1), stride=(1, 1), bias=False)\n",
      "          (1): BatchNorm2d(576, eps=0.001, momentum=0.01, affine=True, track_running_stats=True)\n",
      "          (2): Hardswish()\n",
      "        )\n",
      "        (1): Conv2dNormActivation(\n",
      "          (0): Conv2d(576, 576, kernel_size=(5, 5), stride=(1, 1), padding=(2, 2), groups=576, bias=False)\n",
      "          (1): BatchNorm2d(576, eps=0.001, momentum=0.01, affine=True, track_running_stats=True)\n",
      "          (2): Hardswish()\n",
      "        )\n",
      "        (2): SqueezeExcitation(\n",
      "          (avgpool): AdaptiveAvgPool2d(output_size=1)\n",
      "          (fc1): Conv2d(576, 144, kernel_size=(1, 1), stride=(1, 1))\n",
      "          (fc2): Conv2d(144, 576, kernel_size=(1, 1), stride=(1, 1))\n",
      "          (activation): ReLU()\n",
      "          (scale_activation): Hardsigmoid()\n",
      "        )\n",
      "        (3): Conv2dNormActivation(\n",
      "          (0): Conv2d(576, 96, kernel_size=(1, 1), stride=(1, 1), bias=False)\n",
      "          (1): BatchNorm2d(96, eps=0.001, momentum=0.01, affine=True, track_running_stats=True)\n",
      "        )\n",
      "      )\n",
      "    )\n",
      "    (12): Conv2dNormActivation(\n",
      "      (0): Conv2d(96, 576, kernel_size=(1, 1), stride=(1, 1), bias=False)\n",
      "      (1): BatchNorm2d(576, eps=0.001, momentum=0.01, affine=True, track_running_stats=True)\n",
      "      (2): Hardswish()\n",
      "    )\n",
      "  )\n",
      "  (avgpool): AdaptiveAvgPool2d(output_size=1)\n",
      "  (classifier): Sequential(\n",
      "    (0): Linear(in_features=576, out_features=1024, bias=True)\n",
      "    (1): Hardswish()\n",
      "    (2): Dropout(p=0.2, inplace=True)\n",
      "    (3): Linear(in_features=1024, out_features=5, bias=True)\n",
      "  )\n",
      ")\n",
      "\n",
      "Training information:\n",
      "iterations: 10\n",
      "batch size: 32\n",
      "\n"
     ]
    }
   ],
   "execution_count": 26
  },
  {
   "cell_type": "markdown",
   "id": "2511ba35-13b9-480e-bec8-75f23f694dc6",
   "metadata": {},
   "source": [
    "### Étape 3 : Réglage de précision du modèle MobileNetV3 sur les couches de classification"
   ]
  },
  {
   "cell_type": "markdown",
   "id": "3406f58c-f359-4d8b-be7b-fe8114ae40fa",
   "metadata": {},
   "source": [
    "* Prétraitement et enrichissement des données (Data Augmentation) :"
   ]
  },
  {
   "cell_type": "code",
   "id": "87d7da81-4d81-42a3-919b-a597c941ef59",
   "metadata": {
    "ExecuteTime": {
     "end_time": "2025-06-07T13:20:14.337660Z",
     "start_time": "2025-06-07T13:20:14.335257Z"
    }
   },
   "source": [
    "DIR_IMG_TRAIN = 'flower_photos'  # localisation a adapter\n",
    "DIR_IMG_TEST = 'flower_photos_test'  # localisation a adapter"
   ],
   "outputs": [],
   "execution_count": 27
  },
  {
   "cell_type": "code",
   "id": "debffc3b-0b75-4316-a55b-25e5ff731cd5",
   "metadata": {
    "ExecuteTime": {
     "end_time": "2025-06-07T13:20:14.398992Z",
     "start_time": "2025-06-07T13:20:14.392531Z"
    }
   },
   "source": [
    "# Pour l'entraînement (avec augmentation)\n",
    "# 1. Image Preprocessing: The input image must be resized, normalized, and converted to a tensor.\n",
    "NORM_MEANS = (0.485, 0.456, 0.406) #precomputed channel means of ImageNet(train) for normalization\n",
    "NORM_STDS = (0.229, 0.224, 0.225) #precomputed standard deviations\n",
    "\n",
    "train_transform = transforms.Compose([transforms.Resize((IMG_SIZE,IMG_SIZE)),  # Resize image to 224x224\n",
    "                                      #transforms.RandomResizedCrop(224),\n",
    "                                      transforms.RandomHorizontalFlip(),   \n",
    "                                      transforms.RandomRotation(degrees=15),   \n",
    "                                      transforms.ColorJitter(0.2, 0.2, 0.2, 0.1),\n",
    "                                      transforms.ToTensor(),\n",
    "                                      transforms.Normalize(mean=NORM_MEANS, std=NORM_STDS)])\n",
    "\n",
    "# Load dataset et configure DataLoaders\n",
    "image_train_path = DIR_IMG_TRAIN\n",
    "train_dataset = datasets.ImageFolder(root=image_train_path, transform=train_transform)\n",
    "train_loader = DataLoader(train_dataset, batch_size=BATCH_SIZE, shuffle=True)"
   ],
   "outputs": [],
   "execution_count": 28
  },
  {
   "cell_type": "code",
   "id": "8f48e4a6-1133-4bfb-b325-123c86e0993d",
   "metadata": {
    "ExecuteTime": {
     "end_time": "2025-06-07T13:20:14.463936Z",
     "start_time": "2025-06-07T13:20:14.461716Z"
    }
   },
   "source": [
    "# Constantes pour l'apprentissage\n",
    "LR = 0.001\n",
    "NB_EPOCHS = 10"
   ],
   "outputs": [],
   "execution_count": 29
  },
  {
   "cell_type": "code",
   "id": "bc9ad512-b928-4ae3-b653-4bfb50c05dd4",
   "metadata": {
    "ExecuteTime": {
     "end_time": "2025-06-07T13:27:08.356553Z",
     "start_time": "2025-06-07T13:20:14.526021Z"
    }
   },
   "source": [
    "# Definition de la fonction de perte et de l'optimiseur\n",
    "criterion = nn.CrossEntropyLoss()\n",
    "optimizer = optim.Adam(mobilenet_v3.parameters(), lr=LR)\n",
    "\n",
    "# Itération d'entrainement du modèle\n",
    "num_epochs = NB_EPOCHS\n",
    "mobilenet_v3.train()\n",
    "for epoch in range(num_epochs):\n",
    "    running_loss = 0.0\n",
    "    correct, total = 0, 0\n",
    "    for inputs, labels in train_loader:\n",
    "        #optimizer.zero_grad()\n",
    "        \n",
    "        # Forward pass\n",
    "        outputs = mobilenet_v3(inputs)\n",
    "        loss = criterion(outputs, labels)\n",
    "        \n",
    "        # Backward pass and optimization\n",
    "        #loss.backward(); optimizer.step()\n",
    "        optimizer.zero_grad()\n",
    "        loss.backward()\n",
    "        optimizer.step()\n",
    "\n",
    "        # Update running loss\n",
    "        running_loss += loss.item()\n",
    "        # Compute accuracy\n",
    "        _, predicted = torch.max(outputs, 1)\n",
    "        total += labels.size(0)\n",
    "        correct += (predicted == labels).sum().item()\n",
    "    \n",
    "    epoch_loss = running_loss / len(train_loader)\n",
    "    epoch_accuracy = 100 * correct / total\n",
    "    #print(f\"Epoch [{epoch+1}/{num_epochs}], Loss: {running_loss/len(train_loader):.4f}\")\n",
    "    print(f\"Epoch {epoch+1} : Loss: {epoch_loss:.4f}, Accuracy: {epoch_accuracy:.2f}%\")"
   ],
   "outputs": [
    {
     "name": "stdout",
     "output_type": "stream",
     "text": [
      "Epoch 1 : Loss: 0.3868, Accuracy: 85.78%\n",
      "Epoch 2 : Loss: 0.1775, Accuracy: 93.99%\n",
      "Epoch 3 : Loss: 0.1468, Accuracy: 94.82%\n",
      "Epoch 4 : Loss: 0.1229, Accuracy: 95.92%\n",
      "Epoch 5 : Loss: 0.1119, Accuracy: 96.18%\n",
      "Epoch 6 : Loss: 0.1174, Accuracy: 96.14%\n",
      "Epoch 7 : Loss: 0.0925, Accuracy: 96.49%\n",
      "Epoch 8 : Loss: 0.1131, Accuracy: 97.10%\n",
      "Epoch 9 : Loss: 0.1405, Accuracy: 95.65%\n",
      "Epoch 10 : Loss: 0.1280, Accuracy: 95.74%\n"
     ]
    }
   ],
   "execution_count": 30
  },
  {
   "cell_type": "code",
   "id": "f8b07edc-1659-4794-926f-88a6dfd247a0",
   "metadata": {
    "ExecuteTime": {
     "end_time": "2025-06-07T13:27:08.405027Z",
     "start_time": "2025-06-07T13:27:08.397656Z"
    }
   },
   "source": [
    "# Liste de tous les labels\n",
    "DIR_TEST_IMG = pathlib.Path(DIR_IMG_TEST)\n",
    "LST_TEST_PATHS = list(DIR_TEST_IMG.glob('*/*'))\n",
    "LST_TEST_PATHS = [str(x) for x in LST_TEST_PATHS]\n",
    "\n",
    "LST_CLS_NAMES = sorted(item.name for item in DIR_TEST_IMG.glob('*/') if item.is_dir())\n",
    "NUM_CAT = len(LST_CLS_NAMES)  # le nombre de classes\n",
    "# Assignation d'un index à chaque label dans un dictionnaire \n",
    "LBL_TO_IDX = dict((name, index) for index, name in enumerate(LST_CLS_NAMES))\n",
    "IDX_TO_LBL = {v: k for k, v in train_dataset.class_to_idx.items()}\n",
    "\n",
    "print(\"Label to Index : \", LBL_TO_IDX, \"\\nIndex to Label : \", IDX_TO_LBL)"
   ],
   "outputs": [
    {
     "name": "stdout",
     "output_type": "stream",
     "text": [
      "Label to Index :  {'daisy': 0, 'dandelion': 1, 'rose': 2, 'sunflower': 3, 'tulip': 4} \n",
      "Index to Label :  {0: 'daisy', 1: 'dandelion', 2: 'rose', 3: 'sunflower', 4: 'tulip'}\n"
     ]
    }
   ],
   "execution_count": 31
  },
  {
   "cell_type": "markdown",
   "id": "7d9419d2-bede-46b3-85a3-c7341581d3f5",
   "metadata": {},
   "source": [
    "* Fine Tuning : pas vraiment utile ici ?\n",
    "\n",
    "On gèle les couches d'extraction des features (toutes), reste une seule couche de classification"
   ]
  },
  {
   "cell_type": "raw",
   "id": "84aa37f0-de28-4033-bdef-4315c40ba902",
   "metadata": {},
   "source": [
    "# Alternatively, freeze earlier layers to train only the classifier final layers \n",
    "for param in mobilenet_v3.features.parameters(): param.requires_grad = False\n",
    "\n",
    "# train the model on your dataset\n",
    "criterion = nn.CrossEntropyLoss()\n",
    "optimizer = torch.optim.Adam(mobilenet_v3.parameters(), lr=0.001)"
   ]
  },
  {
   "cell_type": "code",
   "id": "a3156fb4-eb61-40c5-9ff8-76c4f17f9db7",
   "metadata": {
    "ExecuteTime": {
     "end_time": "2025-06-07T13:27:08.497399Z",
     "start_time": "2025-06-07T13:27:08.492103Z"
    }
   },
   "source": [
    "# 1. Define data transformations\n",
    "\n",
    "# TEST dataset s'appuyant sur le dossier distinct ./flower_photos_test réparti en classes sous forme de sous-dossiers\n",
    "transform_test = transforms.Compose([transforms.Resize((IMG_SIZE,IMG_SIZE)),  # Resize image to 224x224\n",
    "                                     transforms.ToTensor(),                   # Convert image to tensor\n",
    "                                     transforms.Normalize([0.485, 0.456, 0.406], [0.229, 0.224, 0.225])  # Normalize with ImageNet stats\n",
    "])\n",
    "image_test_path = DIR_IMG_TEST\n",
    "test_dataset = datasets.ImageFolder(root=image_test_path, transform=transform_test)\n",
    "test_loader = DataLoader(test_dataset, batch_size=BATCH_SIZE, shuffle=False)"
   ],
   "outputs": [],
   "execution_count": 32
  },
  {
   "cell_type": "code",
   "id": "662f2484-8cbd-40d6-a76b-31a3fcc37d1a",
   "metadata": {
    "ExecuteTime": {
     "end_time": "2025-06-07T13:27:08.557400Z",
     "start_time": "2025-06-07T13:27:08.554583Z"
    }
   },
   "source": [
    "# Vérifications\n",
    "# test_dataset.classes  # ['daisy', 'dandelion', 'rose', 'sunflower', 'tulip']\n",
    "# test_dataset.class_to_idx  # {'daisy': 0, 'dandelion': 1, 'rose': 2, 'sunflower': 3, 'tulip': 4}"
   ],
   "outputs": [],
   "execution_count": 33
  },
  {
   "cell_type": "raw",
   "id": "1b553134-2501-4651-b6d7-081cb159f762",
   "metadata": {},
   "source": [
    "# 2. Fit (Train the Model on Data)\n",
    "# Example training loop\n",
    "num_epochs = 10  # Adjust as needed\n",
    "\n",
    "for epoch in range(num_epochs):\n",
    "    mobilenet_v3.train()  # Set to training mode\n",
    "\n",
    "    for inputs, labels in train_loader:  # Assuming `train_loader` is your DataLoader\n",
    "        optimizer.zero_grad()  # Clear gradients\n",
    "        outputs = mobilenet_v3(inputs)  # Forward pass\n",
    "        loss = criterion(outputs, labels)  # Compute loss\n",
    "        loss.backward()  # Backward pass (compute gradients)\n",
    "        optimizer.step()  # Update weights\n",
    "\n",
    "    print(f\"Epoch {epoch+1}, Loss: {loss.item():.4f}\")"
   ]
  },
  {
   "cell_type": "markdown",
   "id": "fbba24f4-6d45-4cce-84ab-3f1b66c9f8da",
   "metadata": {},
   "source": [
    "### Étape 4 : Évaluation du modèle :"
   ]
  },
  {
   "cell_type": "markdown",
   "id": "75949c75-30b3-4467-972d-73b05cf158fc",
   "metadata": {},
   "source": [
    "* Mesure des performances en TRAIN en itérant sur les données du dataset `train_loader` :"
   ]
  },
  {
   "cell_type": "code",
   "id": "feb21bcd-68a0-4270-9d78-cc590971ddfe",
   "metadata": {
    "ExecuteTime": {
     "end_time": "2025-06-07T13:27:32.571582Z",
     "start_time": "2025-06-07T13:27:08.619603Z"
    }
   },
   "source": [
    "# Evaluation Mode: Always set the model to evaluation mode using model.eval() to disable dropout and batch normalization updates.\n",
    "mobilenet_v3.eval()  # Set the model to evaluation mode\n",
    "\n",
    "correct, total = 0, 0\n",
    "with torch.no_grad():\n",
    "    for inputs, labels in train_loader:\n",
    "        outputs = mobilenet_v3(inputs)\n",
    "        _, predicted = torch.max(outputs.data, 1)\n",
    "        total += labels.size(0)\n",
    "        correct += (predicted == labels).sum().item()\n",
    "accuracy = 100 * correct / total\n",
    "print(f'Train Accuracy: {accuracy:.2f}%')"
   ],
   "outputs": [
    {
     "name": "stdout",
     "output_type": "stream",
     "text": [
      "Train Accuracy: 94.21%\n"
     ]
    }
   ],
   "execution_count": 34
  },
  {
   "cell_type": "markdown",
   "id": "d4fa4f4c-7330-4330-8fcc-978740ab11b3",
   "metadata": {},
   "source": [
    "* Mesure des performances en TEST en itérant sur les données du dataset `test_loader` :"
   ]
  },
  {
   "cell_type": "code",
   "id": "3856e7c6-b8fe-43db-910f-60d5620ac9f0",
   "metadata": {
    "ExecuteTime": {
     "end_time": "2025-06-07T13:27:36.373407Z",
     "start_time": "2025-06-07T13:27:32.628344Z"
    }
   },
   "source": [
    "# Predict (Make Predictions on New Data)\n",
    "#mobilenet_v3.eval()  # Set to evaluation mode\n",
    "\n",
    "correct, total = 0, 0\n",
    "with torch.no_grad():  # Disable gradient tracking for efficiency\n",
    "    for inputs, labels in test_loader:  # Assuming `test_loader` is your DataLoader\n",
    "        predictions = mobilenet_v3(inputs)  # Forward pass\n",
    "        predicted = torch.argmax(predictions, dim=1)  # Get class labels\n",
    "        total += labels.size(0)\n",
    "        correct += (predicted == labels).sum().item()\n",
    "test_accuracy = 100 * correct / total\n",
    "print(f'Test Accuracy: {test_accuracy:.2f}%')"
   ],
   "outputs": [
    {
     "name": "stdout",
     "output_type": "stream",
     "text": [
      "Test Accuracy: 88.25%\n"
     ]
    }
   ],
   "execution_count": 35
  },
  {
   "cell_type": "markdown",
   "id": "ceea33e3-e62c-4a60-adc0-c2f6b3f0002e",
   "metadata": {},
   "source": [
    "### Etape 5 : Inférences unitaires et globales à l'ensemble de test"
   ]
  },
  {
   "cell_type": "code",
   "id": "ca193c4b-48c3-42f6-a5f8-7ca8bfe745be",
   "metadata": {
    "ExecuteTime": {
     "end_time": "2025-06-07T13:27:36.429630Z",
     "start_time": "2025-06-07T13:27:36.406949Z"
    }
   },
   "source": [
    "# Inference unitaire\n",
    "from PIL import Image\n",
    "import torch.nn.functional as F\n",
    "\n",
    "image_path = DIR_IMG_TEST + '/daisy/Image_8.jpg'\n",
    "image = Image.open(image_path).convert('RGB')\n",
    "transform = transforms.Compose([transforms.Resize((IMG_SIZE,IMG_SIZE)), transforms.ToTensor(), ])\n",
    "image_tensor = transform(image).unsqueeze(0)  # Add batch dimension\n",
    "\n",
    "# Pass tensor to the model for inference\n",
    "results = mobilenet_v3(image_tensor)\n",
    "print(\"Résultats de la prédiction :\", results)\n",
    "\n",
    "predicted_class = results.argmax().item()\n",
    "print(\"Classe prédite :\", predicted_class)\n",
    "score = results[predicted_class]\n",
    "print(\"Score de confiance associé :\", score.max().detach().numpy())\n",
    "probs = F.softmax(results, dim=1) # Appliquer softmax\n",
    "print(\"Probabilités Softmax estimées :\", probs)\n",
    "confidence, predicted_class = torch.max(probs, dim=1)\n",
    "# Affichage du score de confiance en pourcentage\n",
    "print(f\"Classe prédite : {IDX_TO_LBL[predicted_class.item()]}, Probabilité Softmax estimée : {confidence.item() * 100:.2f}%\")"
   ],
   "outputs": [
    {
     "name": "stdout",
     "output_type": "stream",
     "text": [
      "Résultats de la prédiction : tensor([[ 5.3134,  4.4745, -4.3276, -4.0578, -2.7292]],\n",
      "       grad_fn=<AddmmBackward0>)\n",
      "Classe prédite : 0\n",
      "Score de confiance associé : 5.313372\n",
      "Probabilités Softmax estimées : tensor([[6.9800e-01, 3.0167e-01, 4.5377e-05, 5.9429e-05, 2.2439e-04]],\n",
      "       grad_fn=<SoftmaxBackward0>)\n",
      "Classe prédite : daisy, Probabilité Softmax estimée : 69.80%\n"
     ]
    }
   ],
   "execution_count": 36
  },
  {
   "cell_type": "markdown",
   "id": "6d9721f7-c1fc-4a2e-9e12-1a475d22e3ca",
   "metadata": {},
   "source": [
    "* Nouvelle évaluation globale sur les données de TEST en itérant manuellement sur les images physiques :"
   ]
  },
  {
   "cell_type": "code",
   "id": "1228b5f0-b636-4aef-a7c7-cea0fc1317ca",
   "metadata": {
    "ExecuteTime": {
     "end_time": "2025-06-07T13:31:59.533556Z",
     "start_time": "2025-06-07T13:31:52.564303Z"
    }
   },
   "source": [
    "# 3. Load and preprocess test data\n",
    "# Example: Replace with your test dataset\n",
    "test_images = LST_TEST_PATHS  # List of test image paths\n",
    "import os\n",
    "\n",
    "true_labels = [os.path.basename(os.path.dirname(p)) for p in LST_TEST_PATHS]\n",
    "\n",
    "# 4. Predict and score\n",
    "predictions, labels = [], []\n",
    "k = 0\n",
    "with torch.no_grad():  # Disable gradient computation for inference\n",
    "    for img_path in test_images:\n",
    "        #print(\"Image n°\",k)\n",
    "        #input_tensor = preprocess_image(img_path)\n",
    "        #output = mobilenet_v3(input_tensor)  # Forward pass\n",
    "\n",
    "        image = Image.open(img_path).convert('RGB')\n",
    "        transform = transforms.Compose([transforms.Resize((IMG_SIZE,IMG_SIZE)),\n",
    "                                        transforms.ToTensor(),\n",
    "                                        transforms.Normalize([0.485, 0.456, 0.406], [0.229, 0.224, 0.225])])\n",
    "        image_tensor = transform(image).unsqueeze(0)  # Add batch dimension\n",
    "        output = mobilenet_v3(image_tensor)  # Forward pass\n",
    "        predicted_class = output.argmax(dim=1).item()  # Get the predicted class index\n",
    "        predictions.append(predicted_class)\n",
    "        labels.append(LBL_TO_IDX[true_labels[k]])\n",
    "        k += 1\n",
    "# 5. Calculate accuracy (or other metrics)\n",
    "accuracy = accuracy_score(labels, predictions)\n",
    "print(f\"Accuracy: {accuracy * 100:.5f}%\")"
   ],
   "outputs": [
    {
     "name": "stdout",
     "output_type": "stream",
     "text": [
      "Accuracy: 88.25301%\n"
     ]
    }
   ],
   "execution_count": 38
  },
  {
   "cell_type": "code",
   "id": "076ef2de-d935-4396-b603-e26d63ca9ba2",
   "metadata": {
    "ExecuteTime": {
     "end_time": "2025-06-07T13:33:33.154011Z",
     "start_time": "2025-06-07T13:33:33.033731Z"
    }
   },
   "source": [
    "# Plot a confusion matrix with all 25250 predictions, ground truth labels and 101 classes\n",
    "f_make_confusion_matrix(y_true=labels,\n",
    "                        y_pred=predictions,\n",
    "                        classes=LST_CLS_NAMES,\n",
    "                        figsize=(10, 10), text_size=14, norm=False, savefig=False)"
   ],
   "outputs": [
    {
     "data": {
      "text/plain": [
       "<Figure size 1000x1000 with 2 Axes>"
      ],
      "image/png": "[encoded data removed]"
     },
     "metadata": {},
     "output_type": "display_data"
    }
   ],
   "execution_count": 39
  },
  {
   "cell_type": "markdown",
   "id": "62fbf3e9-12ef-48f7-8ff3-00c5ace42937",
   "metadata": {},
   "source": [
    "### Version spécialisée avec surcharge des couches de classification"
   ]
  },
  {
   "cell_type": "code",
   "id": "639e8d37-05b7-4c97-a4bd-ae67ad4e7eb9",
   "metadata": {
    "ExecuteTime": {
     "end_time": "2025-06-07T13:33:38.916728Z",
     "start_time": "2025-06-07T13:33:38.867102Z"
    }
   },
   "source": [
    "import torch\n",
    "import torch.nn as nn\n",
    "from torchvision import models\n",
    "\n",
    "class EarlyStopping:\n",
    "    def __init__(self, patience=5, min_delta=0):\n",
    "        \"\"\"\n",
    "        Args:\n",
    "            patience (int): How many epochs to wait after last improvement.\n",
    "            min_delta (float): Minimum change to qualify as an improvement.\n",
    "        \"\"\"\n",
    "        self.patience = patience\n",
    "        self.min_delta = min_delta\n",
    "        self.counter = 0\n",
    "        self.best_loss = None\n",
    "        self.early_stop = False\n",
    "\n",
    "    def __call__(self, val_loss):\n",
    "        if self.best_loss is None:\n",
    "            self.best_loss = val_loss\n",
    "        elif val_loss < self.best_loss - self.min_delta:\n",
    "            self.best_loss = val_loss\n",
    "            self.counter = 0\n",
    "        else:\n",
    "            self.counter += 1\n",
    "            if self.counter >= self.patience:\n",
    "                self.early_stop = True\n",
    "\n",
    "class CustomMobileNetV3(nn.Module):\n",
    "    def __init__(self, num_classes):\n",
    "        super(CustomMobileNetV3, self).__init__()\n",
    "        \n",
    "        # Load pre-trained MobileNetV3 (small or large)\n",
    "        base_model = models.mobilenet_v3_small(pretrained=True, weights=models.MobileNet_V3_Small_Weights.DEFAULT)\n",
    "        \n",
    "        # Remove the classifier\n",
    "        self.features = base_model.features\n",
    "        \n",
    "        # Freeze base model layers if needed\n",
    "        for param in self.features.parameters():  param.requires_grad = False\n",
    "        \n",
    "        # Custom classifier\n",
    "        self.classifier = nn.Sequential(\n",
    "            nn.Conv2d(576, 256, kernel_size=3, padding=1),\n",
    "            nn.BatchNorm2d(256),\n",
    "            nn.ReLU(inplace=True),\n",
    "            nn.Dropout(0.3),\n",
    "            nn.Conv2d(256, 128, kernel_size=3, padding=1),\n",
    "            nn.BatchNorm2d(128),\n",
    "            nn.ReLU(inplace=True),\n",
    "            nn.AdaptiveAvgPool2d((1, 1)),  # Global Average Pooling\n",
    "            nn.Flatten(),\n",
    "            nn.Linear(128, num_classes)\n",
    "        )\n",
    "\n",
    "    def forward(self, x):\n",
    "        x = self.features(x)\n",
    "        x = self.classifier(x)\n",
    "        return x\n",
    "\n",
    "# Example usage\n",
    "num_classes = 5  # Change this to match your dataset\n",
    "model_bis = CustomMobileNetV3(num_classes=num_classes)\n",
    "\n",
    "# Print model summary (optional)\n",
    "print(model_bis)\n",
    "\n",
    "model_bis = model_bis.to(device)\n",
    "\n",
    "early_stopper = EarlyStopping(patience=3, min_delta=0.001)"
   ],
   "outputs": [
    {
     "name": "stdout",
     "output_type": "stream",
     "text": [
      "CustomMobileNetV3(\n",
      "  (features): Sequential(\n",
      "    (0): Conv2dNormActivation(\n",
      "      (0): Conv2d(3, 16, kernel_size=(3, 3), stride=(2, 2), padding=(1, 1), bias=False)\n",
      "      (1): BatchNorm2d(16, eps=0.001, momentum=0.01, affine=True, track_running_stats=True)\n",
      "      (2): Hardswish()\n",
      "    )\n",
      "    (1): InvertedResidual(\n",
      "      (block): Sequential(\n",
      "        (0): Conv2dNormActivation(\n",
      "          (0): Conv2d(16, 16, kernel_size=(3, 3), stride=(2, 2), padding=(1, 1), groups=16, bias=False)\n",
      "          (1): BatchNorm2d(16, eps=0.001, momentum=0.01, affine=True, track_running_stats=True)\n",
      "          (2): ReLU(inplace=True)\n",
      "        )\n",
      "        (1): SqueezeExcitation(\n",
      "          (avgpool): AdaptiveAvgPool2d(output_size=1)\n",
      "          (fc1): Conv2d(16, 8, kernel_size=(1, 1), stride=(1, 1))\n",
      "          (fc2): Conv2d(8, 16, kernel_size=(1, 1), stride=(1, 1))\n",
      "          (activation): ReLU()\n",
      "          (scale_activation): Hardsigmoid()\n",
      "        )\n",
      "        (2): Conv2dNormActivation(\n",
      "          (0): Conv2d(16, 16, kernel_size=(1, 1), stride=(1, 1), bias=False)\n",
      "          (1): BatchNorm2d(16, eps=0.001, momentum=0.01, affine=True, track_running_stats=True)\n",
      "        )\n",
      "      )\n",
      "    )\n",
      "    (2): InvertedResidual(\n",
      "      (block): Sequential(\n",
      "        (0): Conv2dNormActivation(\n",
      "          (0): Conv2d(16, 72, kernel_size=(1, 1), stride=(1, 1), bias=False)\n",
      "          (1): BatchNorm2d(72, eps=0.001, momentum=0.01, affine=True, track_running_stats=True)\n",
      "          (2): ReLU(inplace=True)\n",
      "        )\n",
      "        (1): Conv2dNormActivation(\n",
      "          (0): Conv2d(72, 72, kernel_size=(3, 3), stride=(2, 2), padding=(1, 1), groups=72, bias=False)\n",
      "          (1): BatchNorm2d(72, eps=0.001, momentum=0.01, affine=True, track_running_stats=True)\n",
      "          (2): ReLU(inplace=True)\n",
      "        )\n",
      "        (2): Conv2dNormActivation(\n",
      "          (0): Conv2d(72, 24, kernel_size=(1, 1), stride=(1, 1), bias=False)\n",
      "          (1): BatchNorm2d(24, eps=0.001, momentum=0.01, affine=True, track_running_stats=True)\n",
      "        )\n",
      "      )\n",
      "    )\n",
      "    (3): InvertedResidual(\n",
      "      (block): Sequential(\n",
      "        (0): Conv2dNormActivation(\n",
      "          (0): Conv2d(24, 88, kernel_size=(1, 1), stride=(1, 1), bias=False)\n",
      "          (1): BatchNorm2d(88, eps=0.001, momentum=0.01, affine=True, track_running_stats=True)\n",
      "          (2): ReLU(inplace=True)\n",
      "        )\n",
      "        (1): Conv2dNormActivation(\n",
      "          (0): Conv2d(88, 88, kernel_size=(3, 3), stride=(1, 1), padding=(1, 1), groups=88, bias=False)\n",
      "          (1): BatchNorm2d(88, eps=0.001, momentum=0.01, affine=True, track_running_stats=True)\n",
      "          (2): ReLU(inplace=True)\n",
      "        )\n",
      "        (2): Conv2dNormActivation(\n",
      "          (0): Conv2d(88, 24, kernel_size=(1, 1), stride=(1, 1), bias=False)\n",
      "          (1): BatchNorm2d(24, eps=0.001, momentum=0.01, affine=True, track_running_stats=True)\n",
      "        )\n",
      "      )\n",
      "    )\n",
      "    (4): InvertedResidual(\n",
      "      (block): Sequential(\n",
      "        (0): Conv2dNormActivation(\n",
      "          (0): Conv2d(24, 96, kernel_size=(1, 1), stride=(1, 1), bias=False)\n",
      "          (1): BatchNorm2d(96, eps=0.001, momentum=0.01, affine=True, track_running_stats=True)\n",
      "          (2): Hardswish()\n",
      "        )\n",
      "        (1): Conv2dNormActivation(\n",
      "          (0): Conv2d(96, 96, kernel_size=(5, 5), stride=(2, 2), padding=(2, 2), groups=96, bias=False)\n",
      "          (1): BatchNorm2d(96, eps=0.001, momentum=0.01, affine=True, track_running_stats=True)\n",
      "          (2): Hardswish()\n",
      "        )\n",
      "        (2): SqueezeExcitation(\n",
      "          (avgpool): AdaptiveAvgPool2d(output_size=1)\n",
      "          (fc1): Conv2d(96, 24, kernel_size=(1, 1), stride=(1, 1))\n",
      "          (fc2): Conv2d(24, 96, kernel_size=(1, 1), stride=(1, 1))\n",
      "          (activation): ReLU()\n",
      "          (scale_activation): Hardsigmoid()\n",
      "        )\n",
      "        (3): Conv2dNormActivation(\n",
      "          (0): Conv2d(96, 40, kernel_size=(1, 1), stride=(1, 1), bias=False)\n",
      "          (1): BatchNorm2d(40, eps=0.001, momentum=0.01, affine=True, track_running_stats=True)\n",
      "        )\n",
      "      )\n",
      "    )\n",
      "    (5): InvertedResidual(\n",
      "      (block): Sequential(\n",
      "        (0): Conv2dNormActivation(\n",
      "          (0): Conv2d(40, 240, kernel_size=(1, 1), stride=(1, 1), bias=False)\n",
      "          (1): BatchNorm2d(240, eps=0.001, momentum=0.01, affine=True, track_running_stats=True)\n",
      "          (2): Hardswish()\n",
      "        )\n",
      "        (1): Conv2dNormActivation(\n",
      "          (0): Conv2d(240, 240, kernel_size=(5, 5), stride=(1, 1), padding=(2, 2), groups=240, bias=False)\n",
      "          (1): BatchNorm2d(240, eps=0.001, momentum=0.01, affine=True, track_running_stats=True)\n",
      "          (2): Hardswish()\n",
      "        )\n",
      "        (2): SqueezeExcitation(\n",
      "          (avgpool): AdaptiveAvgPool2d(output_size=1)\n",
      "          (fc1): Conv2d(240, 64, kernel_size=(1, 1), stride=(1, 1))\n",
      "          (fc2): Conv2d(64, 240, kernel_size=(1, 1), stride=(1, 1))\n",
      "          (activation): ReLU()\n",
      "          (scale_activation): Hardsigmoid()\n",
      "        )\n",
      "        (3): Conv2dNormActivation(\n",
      "          (0): Conv2d(240, 40, kernel_size=(1, 1), stride=(1, 1), bias=False)\n",
      "          (1): BatchNorm2d(40, eps=0.001, momentum=0.01, affine=True, track_running_stats=True)\n",
      "        )\n",
      "      )\n",
      "    )\n",
      "    (6): InvertedResidual(\n",
      "      (block): Sequential(\n",
      "        (0): Conv2dNormActivation(\n",
      "          (0): Conv2d(40, 240, kernel_size=(1, 1), stride=(1, 1), bias=False)\n",
      "          (1): BatchNorm2d(240, eps=0.001, momentum=0.01, affine=True, track_running_stats=True)\n",
      "          (2): Hardswish()\n",
      "        )\n",
      "        (1): Conv2dNormActivation(\n",
      "          (0): Conv2d(240, 240, kernel_size=(5, 5), stride=(1, 1), padding=(2, 2), groups=240, bias=False)\n",
      "          (1): BatchNorm2d(240, eps=0.001, momentum=0.01, affine=True, track_running_stats=True)\n",
      "          (2): Hardswish()\n",
      "        )\n",
      "        (2): SqueezeExcitation(\n",
      "          (avgpool): AdaptiveAvgPool2d(output_size=1)\n",
      "          (fc1): Conv2d(240, 64, kernel_size=(1, 1), stride=(1, 1))\n",
      "          (fc2): Conv2d(64, 240, kernel_size=(1, 1), stride=(1, 1))\n",
      "          (activation): ReLU()\n",
      "          (scale_activation): Hardsigmoid()\n",
      "        )\n",
      "        (3): Conv2dNormActivation(\n",
      "          (0): Conv2d(240, 40, kernel_size=(1, 1), stride=(1, 1), bias=False)\n",
      "          (1): BatchNorm2d(40, eps=0.001, momentum=0.01, affine=True, track_running_stats=True)\n",
      "        )\n",
      "      )\n",
      "    )\n",
      "    (7): InvertedResidual(\n",
      "      (block): Sequential(\n",
      "        (0): Conv2dNormActivation(\n",
      "          (0): Conv2d(40, 120, kernel_size=(1, 1), stride=(1, 1), bias=False)\n",
      "          (1): BatchNorm2d(120, eps=0.001, momentum=0.01, affine=True, track_running_stats=True)\n",
      "          (2): Hardswish()\n",
      "        )\n",
      "        (1): Conv2dNormActivation(\n",
      "          (0): Conv2d(120, 120, kernel_size=(5, 5), stride=(1, 1), padding=(2, 2), groups=120, bias=False)\n",
      "          (1): BatchNorm2d(120, eps=0.001, momentum=0.01, affine=True, track_running_stats=True)\n",
      "          (2): Hardswish()\n",
      "        )\n",
      "        (2): SqueezeExcitation(\n",
      "          (avgpool): AdaptiveAvgPool2d(output_size=1)\n",
      "          (fc1): Conv2d(120, 32, kernel_size=(1, 1), stride=(1, 1))\n",
      "          (fc2): Conv2d(32, 120, kernel_size=(1, 1), stride=(1, 1))\n",
      "          (activation): ReLU()\n",
      "          (scale_activation): Hardsigmoid()\n",
      "        )\n",
      "        (3): Conv2dNormActivation(\n",
      "          (0): Conv2d(120, 48, kernel_size=(1, 1), stride=(1, 1), bias=False)\n",
      "          (1): BatchNorm2d(48, eps=0.001, momentum=0.01, affine=True, track_running_stats=True)\n",
      "        )\n",
      "      )\n",
      "    )\n",
      "    (8): InvertedResidual(\n",
      "      (block): Sequential(\n",
      "        (0): Conv2dNormActivation(\n",
      "          (0): Conv2d(48, 144, kernel_size=(1, 1), stride=(1, 1), bias=False)\n",
      "          (1): BatchNorm2d(144, eps=0.001, momentum=0.01, affine=True, track_running_stats=True)\n",
      "          (2): Hardswish()\n",
      "        )\n",
      "        (1): Conv2dNormActivation(\n",
      "          (0): Conv2d(144, 144, kernel_size=(5, 5), stride=(1, 1), padding=(2, 2), groups=144, bias=False)\n",
      "          (1): BatchNorm2d(144, eps=0.001, momentum=0.01, affine=True, track_running_stats=True)\n",
      "          (2): Hardswish()\n",
      "        )\n",
      "        (2): SqueezeExcitation(\n",
      "          (avgpool): AdaptiveAvgPool2d(output_size=1)\n",
      "          (fc1): Conv2d(144, 40, kernel_size=(1, 1), stride=(1, 1))\n",
      "          (fc2): Conv2d(40, 144, kernel_size=(1, 1), stride=(1, 1))\n",
      "          (activation): ReLU()\n",
      "          (scale_activation): Hardsigmoid()\n",
      "        )\n",
      "        (3): Conv2dNormActivation(\n",
      "          (0): Conv2d(144, 48, kernel_size=(1, 1), stride=(1, 1), bias=False)\n",
      "          (1): BatchNorm2d(48, eps=0.001, momentum=0.01, affine=True, track_running_stats=True)\n",
      "        )\n",
      "      )\n",
      "    )\n",
      "    (9): InvertedResidual(\n",
      "      (block): Sequential(\n",
      "        (0): Conv2dNormActivation(\n",
      "          (0): Conv2d(48, 288, kernel_size=(1, 1), stride=(1, 1), bias=False)\n",
      "          (1): BatchNorm2d(288, eps=0.001, momentum=0.01, affine=True, track_running_stats=True)\n",
      "          (2): Hardswish()\n",
      "        )\n",
      "        (1): Conv2dNormActivation(\n",
      "          (0): Conv2d(288, 288, kernel_size=(5, 5), stride=(2, 2), padding=(2, 2), groups=288, bias=False)\n",
      "          (1): BatchNorm2d(288, eps=0.001, momentum=0.01, affine=True, track_running_stats=True)\n",
      "          (2): Hardswish()\n",
      "        )\n",
      "        (2): SqueezeExcitation(\n",
      "          (avgpool): AdaptiveAvgPool2d(output_size=1)\n",
      "          (fc1): Conv2d(288, 72, kernel_size=(1, 1), stride=(1, 1))\n",
      "          (fc2): Conv2d(72, 288, kernel_size=(1, 1), stride=(1, 1))\n",
      "          (activation): ReLU()\n",
      "          (scale_activation): Hardsigmoid()\n",
      "        )\n",
      "        (3): Conv2dNormActivation(\n",
      "          (0): Conv2d(288, 96, kernel_size=(1, 1), stride=(1, 1), bias=False)\n",
      "          (1): BatchNorm2d(96, eps=0.001, momentum=0.01, affine=True, track_running_stats=True)\n",
      "        )\n",
      "      )\n",
      "    )\n",
      "    (10): InvertedResidual(\n",
      "      (block): Sequential(\n",
      "        (0): Conv2dNormActivation(\n",
      "          (0): Conv2d(96, 576, kernel_size=(1, 1), stride=(1, 1), bias=False)\n",
      "          (1): BatchNorm2d(576, eps=0.001, momentum=0.01, affine=True, track_running_stats=True)\n",
      "          (2): Hardswish()\n",
      "        )\n",
      "        (1): Conv2dNormActivation(\n",
      "          (0): Conv2d(576, 576, kernel_size=(5, 5), stride=(1, 1), padding=(2, 2), groups=576, bias=False)\n",
      "          (1): BatchNorm2d(576, eps=0.001, momentum=0.01, affine=True, track_running_stats=True)\n",
      "          (2): Hardswish()\n",
      "        )\n",
      "        (2): SqueezeExcitation(\n",
      "          (avgpool): AdaptiveAvgPool2d(output_size=1)\n",
      "          (fc1): Conv2d(576, 144, kernel_size=(1, 1), stride=(1, 1))\n",
      "          (fc2): Conv2d(144, 576, kernel_size=(1, 1), stride=(1, 1))\n",
      "          (activation): ReLU()\n",
      "          (scale_activation): Hardsigmoid()\n",
      "        )\n",
      "        (3): Conv2dNormActivation(\n",
      "          (0): Conv2d(576, 96, kernel_size=(1, 1), stride=(1, 1), bias=False)\n",
      "          (1): BatchNorm2d(96, eps=0.001, momentum=0.01, affine=True, track_running_stats=True)\n",
      "        )\n",
      "      )\n",
      "    )\n",
      "    (11): InvertedResidual(\n",
      "      (block): Sequential(\n",
      "        (0): Conv2dNormActivation(\n",
      "          (0): Conv2d(96, 576, kernel_size=(1, 1), stride=(1, 1), bias=False)\n",
      "          (1): BatchNorm2d(576, eps=0.001, momentum=0.01, affine=True, track_running_stats=True)\n",
      "          (2): Hardswish()\n",
      "        )\n",
      "        (1): Conv2dNormActivation(\n",
      "          (0): Conv2d(576, 576, kernel_size=(5, 5), stride=(1, 1), padding=(2, 2), groups=576, bias=False)\n",
      "          (1): BatchNorm2d(576, eps=0.001, momentum=0.01, affine=True, track_running_stats=True)\n",
      "          (2): Hardswish()\n",
      "        )\n",
      "        (2): SqueezeExcitation(\n",
      "          (avgpool): AdaptiveAvgPool2d(output_size=1)\n",
      "          (fc1): Conv2d(576, 144, kernel_size=(1, 1), stride=(1, 1))\n",
      "          (fc2): Conv2d(144, 576, kernel_size=(1, 1), stride=(1, 1))\n",
      "          (activation): ReLU()\n",
      "          (scale_activation): Hardsigmoid()\n",
      "        )\n",
      "        (3): Conv2dNormActivation(\n",
      "          (0): Conv2d(576, 96, kernel_size=(1, 1), stride=(1, 1), bias=False)\n",
      "          (1): BatchNorm2d(96, eps=0.001, momentum=0.01, affine=True, track_running_stats=True)\n",
      "        )\n",
      "      )\n",
      "    )\n",
      "    (12): Conv2dNormActivation(\n",
      "      (0): Conv2d(96, 576, kernel_size=(1, 1), stride=(1, 1), bias=False)\n",
      "      (1): BatchNorm2d(576, eps=0.001, momentum=0.01, affine=True, track_running_stats=True)\n",
      "      (2): Hardswish()\n",
      "    )\n",
      "  )\n",
      "  (classifier): Sequential(\n",
      "    (0): Conv2d(576, 256, kernel_size=(3, 3), stride=(1, 1), padding=(1, 1))\n",
      "    (1): BatchNorm2d(256, eps=1e-05, momentum=0.1, affine=True, track_running_stats=True)\n",
      "    (2): ReLU(inplace=True)\n",
      "    (3): Dropout(p=0.3, inplace=False)\n",
      "    (4): Conv2d(256, 128, kernel_size=(3, 3), stride=(1, 1), padding=(1, 1))\n",
      "    (5): BatchNorm2d(128, eps=1e-05, momentum=0.1, affine=True, track_running_stats=True)\n",
      "    (6): ReLU(inplace=True)\n",
      "    (7): AdaptiveAvgPool2d(output_size=(1, 1))\n",
      "    (8): Flatten(start_dim=1, end_dim=-1)\n",
      "    (9): Linear(in_features=128, out_features=5, bias=True)\n",
      "  )\n",
      ")\n"
     ]
    }
   ],
   "execution_count": 40
  },
  {
   "cell_type": "markdown",
   "id": "330e73a3-8a73-44a2-931a-9be0a3359777",
   "metadata": {},
   "source": [
    "* Préparation des données :"
   ]
  },
  {
   "cell_type": "code",
   "id": "f6c2594a-c88e-4417-a51d-9d6214405ab9",
   "metadata": {
    "ExecuteTime": {
     "end_time": "2025-06-07T13:33:43.585984Z",
     "start_time": "2025-06-07T13:33:43.574843Z"
    }
   },
   "source": [
    "# Image Preprocessing: The input image must be resized, normalized, and converted to a tensor.\n",
    "NORM_MEANS = (0.485, 0.456, 0.406) #precomputed channel means of ImageNet(train) for normalization\n",
    "NORM_STDS = (0.229, 0.224, 0.225) #precomputed standard deviations\n",
    "\n",
    "train_transform = transforms.Compose([transforms.Resize((IMG_SIZE,IMG_SIZE)),  # Resize image to 224x224\n",
    "                                      #transforms.RandomResizedCrop(224),\n",
    "                                      transforms.RandomHorizontalFlip(),\n",
    "                                      transforms.RandomRotation(15),\n",
    "                                      transforms.ColorJitter(0.2, 0.2, 0.2, 0.1),\n",
    "                                      transforms.ToTensor(),\n",
    "                                      transforms.Normalize(mean=NORM_MEANS, std=NORM_STDS)])\n",
    "val_transform = transforms.Compose([transforms.Resize((IMG_SIZE,IMG_SIZE)),  # Resize image to 224x224\n",
    "                                    transforms.ToTensor(),\n",
    "                                    transforms.Normalize(mean=NORM_MEANS, std=NORM_STDS)])\n",
    "\n",
    "# Load dataset et configure DataLoaders\n",
    "image_train_path = DIR_IMG_TRAIN\n",
    "train_dataset = datasets.ImageFolder(root=image_train_path, transform=train_transform)\n",
    "train_loader = DataLoader(train_dataset, batch_size=BATCH_SIZE, shuffle=True)\n",
    "\n",
    "val_dataset = datasets.ImageFolder(root=image_train_path, transform=val_transform)\n",
    "val_loader = DataLoader(val_dataset, batch_size=BATCH_SIZE, shuffle=False)"
   ],
   "outputs": [],
   "execution_count": 41
  },
  {
   "cell_type": "markdown",
   "id": "342bed1b-7702-4249-9bdd-459bd96204a1",
   "metadata": {},
   "source": [
    "* Entrainement du modèle en itérant sur les datasets TRAIN/VALIDATION :"
   ]
  },
  {
   "cell_type": "code",
   "id": "304d5678-3345-4d95-ad26-335e31b91ef6",
   "metadata": {
    "ExecuteTime": {
     "end_time": "2025-06-07T13:40:01.203825Z",
     "start_time": "2025-06-07T13:33:50.805324Z"
    }
   },
   "source": [
    "learning_rate = LR\n",
    "# Loss and optimizer\n",
    "criterion = nn.CrossEntropyLoss()\n",
    "optimizer = optim.Adam(model_bis.parameters(), lr=learning_rate)\n",
    "\n",
    "# Training loop\n",
    "for epoch in range(NB_EPOCHS):\n",
    "    model_bis.train()\n",
    "    running_loss = 0.0\n",
    "    all_preds, all_labels = [], []\n",
    "\n",
    "    for images, labels in train_loader:\n",
    "        images, labels = images.to(device), labels.to(device)\n",
    "\n",
    "        # Forward pass\n",
    "        outputs = model_bis(images)\n",
    "        loss = criterion(outputs, labels)\n",
    "        \n",
    "        # Backward and optimize\n",
    "        optimizer.zero_grad()\n",
    "        loss.backward()\n",
    "        optimizer.step()\n",
    "        \n",
    "        running_loss += loss.item()\n",
    "        all_preds.extend(outputs.argmax(dim=1).cpu().numpy())\n",
    "        all_labels.extend(labels.cpu().numpy())\n",
    "\n",
    "    train_acc = accuracy_score(all_labels, all_preds)\n",
    "    avg_train_loss = running_loss / len(train_loader)\n",
    "    #print(f\"Epoch [{epoch+1}/{num_epochs}], Loss: {running_loss:.4f}, Train Accuracy: {train_acc:.4f}\")\n",
    "\n",
    "    # Validation\n",
    "    model_bis.eval()\n",
    "    val_loss = 0.0\n",
    "    val_preds, val_labels = [], []\n",
    "    with torch.no_grad():\n",
    "        for images, labels in val_loader:\n",
    "            images, labels = images.to(device), labels.to(device)\n",
    "            outputs = model_bis(images)\n",
    "            loss = criterion(outputs, labels)\n",
    "\n",
    "            val_loss += loss.item()\n",
    "            val_preds.extend(outputs.argmax(dim=1).cpu().numpy())\n",
    "            val_labels.extend(labels.cpu().numpy())\n",
    "    \n",
    "    avg_val_loss = val_loss / len(val_loader)\n",
    "    val_acc = accuracy_score(val_labels, val_preds)\n",
    "    print(f\"\\nEpoch [{epoch+1}/{num_epochs}]\")\n",
    "    print(f\"Train Loss: {avg_train_loss:.4f}, Train Acc: {train_acc:.4f}\")\n",
    "    print(f\"Val Loss: {avg_val_loss:.4f}, Val Acc: {val_acc:.4f}\")\n",
    "    \n",
    "    # After validation loss is computed\n",
    "    early_stopper(val_loss)\n",
    "\n",
    "    if early_stopper.early_stop:\n",
    "        print(f\"Early stopping at epoch {epoch+1}\")\n",
    "        break\n"
   ],
   "outputs": [
    {
     "name": "stdout",
     "output_type": "stream",
     "text": [
      "\n",
      "Epoch [1/10]\n",
      "Train Loss: 0.4560, Train Acc: 0.8604\n",
      "Val Loss: 0.1683, Val Acc: 0.9460\n",
      "\n",
      "Epoch [2/10]\n",
      "Train Loss: 0.2798, Train Acc: 0.9078\n",
      "Val Loss: 0.1398, Val Acc: 0.9513\n",
      "\n",
      "Epoch [3/10]\n",
      "Train Loss: 0.2436, Train Acc: 0.9179\n",
      "Val Loss: 0.0957, Val Acc: 0.9666\n",
      "\n",
      "Epoch [4/10]\n",
      "Train Loss: 0.1974, Train Acc: 0.9302\n",
      "Val Loss: 0.0810, Val Acc: 0.9710\n",
      "\n",
      "Epoch [5/10]\n",
      "Train Loss: 0.1693, Train Acc: 0.9447\n",
      "Val Loss: 0.0955, Val Acc: 0.9640\n",
      "\n",
      "Epoch [6/10]\n",
      "Train Loss: 0.1654, Train Acc: 0.9381\n",
      "Val Loss: 0.0641, Val Acc: 0.9785\n",
      "\n",
      "Epoch [7/10]\n",
      "Train Loss: 0.1360, Train Acc: 0.9539\n",
      "Val Loss: 0.0455, Val Acc: 0.9846\n",
      "\n",
      "Epoch [8/10]\n",
      "Train Loss: 0.1375, Train Acc: 0.9543\n",
      "Val Loss: 0.0499, Val Acc: 0.9873\n",
      "\n",
      "Epoch [9/10]\n",
      "Train Loss: 0.1320, Train Acc: 0.9570\n",
      "Val Loss: 0.0386, Val Acc: 0.9890\n",
      "\n",
      "Epoch [10/10]\n",
      "Train Loss: 0.1218, Train Acc: 0.9596\n",
      "Val Loss: 0.0405, Val Acc: 0.9881\n"
     ]
    }
   ],
   "execution_count": 42
  },
  {
   "cell_type": "markdown",
   "id": "48c3b961-b764-4d4c-ae48-6588a22f7294",
   "metadata": {},
   "source": [
    "* Mesure des performances en TEST en itérant sur les données du dataset `test_loader` :"
   ]
  },
  {
   "cell_type": "code",
   "id": "f7304a52-d53b-4230-b9d7-09ecdda12df9",
   "metadata": {
    "ExecuteTime": {
     "end_time": "2025-06-07T13:56:24.436950Z",
     "start_time": "2025-06-07T13:56:21.100119Z"
    }
   },
   "source": [
    "# Predict (Make Predictions on New Data)\n",
    "correct, total = 0, 0\n",
    "with torch.no_grad():  # Disable gradient tracking for efficiency\n",
    "    for inputs, labels in test_loader:  # Assuming `test_loader` is your DataLoader\n",
    "        predictions = model_bis(inputs)  # Forward pass\n",
    "        predicted = torch.argmax(predictions, dim=1)  # Get class labels\n",
    "        total += labels.size(0)\n",
    "        correct += (predicted == labels).sum().item()\n",
    "test_accuracy = 100 * correct / total\n",
    "print(f'Test Accuracy: {test_accuracy:.2f}%')"
   ],
   "outputs": [
    {
     "name": "stdout",
     "output_type": "stream",
     "text": [
      "Test Accuracy: 91.72%\n"
     ]
    }
   ],
   "execution_count": 43
  },
  {
   "cell_type": "markdown",
   "id": "0397b668-fe2b-483c-840e-bead566dea7f",
   "metadata": {},
   "source": [
    "* Mesure des performances en TEST en itérant sur les images physiques de la liste des sous-dossiers `test_images` :"
   ]
  },
  {
   "cell_type": "code",
   "id": "7ffad3ad-b86c-46fa-be65-6d48fdc6205e",
   "metadata": {
    "ExecuteTime": {
     "end_time": "2025-06-07T13:56:35.880463Z",
     "start_time": "2025-06-07T13:56:27.402027Z"
    }
   },
   "source": [
    "# 4. Predict and score\n",
    "predictions, labels = [], []\n",
    "k = 0\n",
    "with torch.no_grad():  # Disable gradient computation for inference\n",
    "    for img_path in test_images:\n",
    "        #print(\"Image n°\",k)\n",
    "        #input_tensor = preprocess_image(img_path)\n",
    "        #output = mobilenet_v3(input_tensor)  # Forward pass\n",
    "        \n",
    "        image = Image.open(img_path).convert('RGB')\n",
    "        transform = transforms.Compose([transforms.Resize((IMG_SIZE,IMG_SIZE)), \n",
    "                                        transforms.ToTensor(), \n",
    "                                        transforms.Normalize([0.485, 0.456, 0.406], [0.229, 0.224, 0.225])])\n",
    "        image_tensor = transform(image).unsqueeze(0)  # Add batch dimension\n",
    "        output = model_bis(image_tensor)  # Forward pass\n",
    "        predicted_class = output.argmax(dim=1).item()  # Get the predicted class index\n",
    "        predictions.append(predicted_class)\n",
    "        labels.append(LBL_TO_IDX[true_labels[k]])\n",
    "        k += 1\n",
    "# 5. Calculate accuracy (or other metrics)\n",
    "accuracy = accuracy_score(labels, predictions)\n",
    "print(f\"TEST Accuracy: {accuracy * 100:.5f}%\")"
   ],
   "outputs": [
    {
     "name": "stdout",
     "output_type": "stream",
     "text": [
      "TEST Accuracy: 91.71687%\n"
     ]
    }
   ],
   "execution_count": 44
  },
  {
   "cell_type": "markdown",
   "id": "4dc4f531-a263-4da8-ba96-d8d078901737",
   "metadata": {},
   "source": [
    "* Matrice de confusion et rapport de classification :"
   ]
  },
  {
   "cell_type": "code",
   "id": "632ca19a-1e7f-426b-a184-005f529bf38c",
   "metadata": {
    "ExecuteTime": {
     "end_time": "2025-06-07T13:56:38.088151Z",
     "start_time": "2025-06-07T13:56:37.973100Z"
    }
   },
   "source": [
    "# Plot a confusion matrix with all 25250 predictions, ground truth labels and 101 classes\n",
    "f_make_confusion_matrix(y_true=labels,\n",
    "                        y_pred=predictions,\n",
    "                        classes=LST_CLS_NAMES,\n",
    "                        figsize=(10, 10), text_size=14, norm=False, savefig=False)"
   ],
   "outputs": [
    {
     "data": {
      "text/plain": [
       "<Figure size 1000x1000 with 2 Axes>"
      ],
      "image/png": "[encoded data removed]"
     },
     "metadata": {},
     "output_type": "display_data"
    }
   ],
   "execution_count": 45
  },
  {
   "cell_type": "code",
   "id": "74812557-01a5-43c3-9bb2-cb45ec0b5df3",
   "metadata": {
    "ExecuteTime": {
     "end_time": "2025-06-07T13:56:42.410832Z",
     "start_time": "2025-06-07T13:56:42.397819Z"
    }
   },
   "source": [
    "print(classification_report(labels, predictions))"
   ],
   "outputs": [
    {
     "name": "stdout",
     "output_type": "stream",
     "text": [
      "              precision    recall  f1-score   support\n",
      "\n",
      "           0       0.99      0.91      0.95        92\n",
      "           1       0.93      0.99      0.96       203\n",
      "           2       0.86      0.88      0.87       112\n",
      "           3       0.94      0.86      0.90       136\n",
      "           4       0.87      0.90      0.88       121\n",
      "\n",
      "    accuracy                           0.92       664\n",
      "   macro avg       0.92      0.91      0.91       664\n",
      "weighted avg       0.92      0.92      0.92       664\n",
      "\n"
     ]
    }
   ],
   "execution_count": 46
  }
 ],
 "metadata": {
  "kernelspec": {
   "display_name": "Python 3 (ipykernel)",
   "language": "python",
   "name": "python3"
  },
  "language_info": {
   "codemirror_mode": {
    "name": "ipython",
    "version": 3
   },
   "file_extension": ".py",
   "mimetype": "text/x-python",
   "name": "python",
   "nbconvert_exporter": "python",
   "pygments_lexer": "ipython3",
   "version": "3.11.11"
  }
 },
 "nbformat": 4,
 "nbformat_minor": 5
}
