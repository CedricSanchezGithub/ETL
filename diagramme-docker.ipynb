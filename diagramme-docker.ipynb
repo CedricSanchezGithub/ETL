{
 "cells": [
  {
   "metadata": {
    "ExecuteTime": {
     "end_time": "2025-03-17T10:36:53.421038Z",
     "start_time": "2025-03-17T10:36:53.260515Z"
    }
   },
   "cell_type": "code",
   "source": [
    "from diagrams import Diagram, Cluster\n",
    "from diagrams.onprem.database import MySQL\n",
    "from diagrams.onprem.monitoring import Grafana\n",
    "from diagrams.onprem.compute import Server\n",
    "from diagrams.programming.language import Php\n",
    "from diagrams.aws.network import ELB\n",
    "with Diagram(\"Architecture Wildlens - Docker Compose\", show=True):\n",
    "\n",
    "    with Cluster(\"wildlens-network\"):\n",
    "        mysql = MySQL(\"MySQL 8.0\")\n",
    "        grafana = Grafana(\"Grafana\")\n",
    "        phpmyadmin = Php(\"phpMyAdmin\")\n",
    "        backend = Server(\"MSPR Backend\")\n",
    "\n",
    "\n",
    "        mysql >> [grafana, phpmyadmin, backend]\n",
    "\n",
    "\n",
    "    etl = ELB(\"ETL Process\")\n",
    "    etl >> mysql\n"
   ],
   "id": "9de1d175fb0a0db6",
   "outputs": [],
   "execution_count": 1
  }
 ],
 "metadata": {
  "kernelspec": {
   "display_name": "Python 3",
   "language": "python",
   "name": "python3"
  },
  "language_info": {
   "codemirror_mode": {
    "name": "ipython",
    "version": 2
   },
   "file_extension": ".py",
   "mimetype": "text/x-python",
   "name": "python",
   "nbconvert_exporter": "python",
   "pygments_lexer": "ipython2",
   "version": "2.7.6"
  }
 },
 "nbformat": 4,
 "nbformat_minor": 5
}
