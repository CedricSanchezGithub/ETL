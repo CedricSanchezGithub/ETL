{
 "cells": [
  {
   "metadata": {},
   "cell_type": "code",
   "source": [
    "# Importation des bibliothèques nécessaires\n",
    "from pyspark.sql import SparkSession"
   ],
   "id": "b5acbd9739558d6",
   "outputs": [],
   "execution_count": null
  },
  {
   "cell_type": "code",
   "id": "8c17148f7753f086",
   "metadata": {},
   "source": [
    "# Variables\n",
    "# Paramètres de connexion MySQL\n",
    "db_url = \"jdbc:mysql://mysql-container:3306/wildlens?serverTimezone=UTC\"\n",
    "db_properties = { \"user\": \"root\", \"password\": \"root\", \"driver\": \"com.mysql.cj.jdbc.Driver\" }"
   ],
   "outputs": [],
   "execution_count": null
  },
  {
   "cell_type": "code",
   "id": "e8a7bb1efd54b46f",
   "metadata": {},
   "source": [
    "# Initialisation de SparkSession\n",
    "spark = SparkSession.builder \\\n",
    "    .appName(\"WildLens ETL - MSPR 24-25\") \\\n",
    "    .config(\"spark.jars\", \"/installation/mysql-connector-j-9.1.0.jar\") \\\n",
    "    .getOrCreate()"
   ],
   "outputs": [],
   "execution_count": null
  },
  {
   "cell_type": "code",
   "id": "5668463f7b56240d",
   "metadata": {},
   "source": [
    "# Chargement des informations sur les espèces\n",
    "species_info_path = './data/csv/infos_especes.csv'\n",
    "species_info_df = spark.read.csv(species_info_path, sep=\";\",header=True, inferSchema=True)\n",
    "species_info_df.show(5)\n"
   ],
   "outputs": [],
   "execution_count": null
  },
  {
   "cell_type": "code",
   "id": "d68b8e6a75d28847",
   "metadata": {},
   "source": [
    "# Remplacer les valeurs manquantes par \"valeur manquante\"\n",
    "df_filled = species_info_df.fillna(\"missing value\")\n",
    "\n",
    "# Identifier les colonnes sans nom\n",
    "columns_with_name = [col for col in df_filled.columns if col.strip()]\n",
    "\n",
    "# Identifier les colonnes aberrantes (avec une seule valeur unique)\n",
    "abnormal_columns = []\n",
    "for col_name in columns_with_name:\n",
    "    unique_value_count = df_filled.select(col_name).distinct().count()\n",
    "    if unique_value_count <= 1:\n",
    "        abnormal_columns.append(col_name)\n",
    "\n",
    "# Supprimer les colonnes aberrantes\n",
    "columns_to_keep = [col for col in columns_with_name if col not in abnormal_columns]\n",
    "cleaned_df = df_filled.select(*columns_to_keep)\n",
    "\n",
    "# Afficher un aperçu\n",
    "cleaned_df.show()\n"
   ],
   "outputs": [],
   "execution_count": null
  },
  {
   "cell_type": "code",
   "id": "ea765c7833f919a6",
   "metadata": {
    "jupyter": {
     "is_executing": true
    }
   },
   "source": [
    "# Sauvegarde au format CSV\n",
    "cleaned_df.write.csv(\"./output/data/nettoye.csv\", header=True, mode=\"overwrite\")\n",
    "\n",
    "# Sauvegarde au format Parquet\n",
    "cleaned_df.write.parquet(\"./output/data/nettoye.parquet\", mode=\"overwrite\")\n"
   ],
   "outputs": [],
   "execution_count": null
  },
  {
   "cell_type": "code",
   "id": "aa4438a0086f2a2f",
   "metadata": {},
   "source": [
    "# Écrire les données dans la table MySQL\n",
    "cleaned_df.write \\\n",
    "    .jdbc(url=db_url, table=\"Animaux\", mode=\"overwrite\", properties=db_properties)\n"
   ],
   "outputs": [],
   "execution_count": null
  }
 ],
 "metadata": {
  "kernelspec": {
   "display_name": "Python 3 (ipykernel)",
   "language": "python",
   "name": "python3"
  },
  "language_info": {
   "codemirror_mode": {
    "name": "ipython",
    "version": 3
   },
   "file_extension": ".py",
   "mimetype": "text/x-python",
   "name": "python",
   "nbconvert_exporter": "python",
   "pygments_lexer": "ipython3",
   "version": "3.9.21"
  }
 },
 "nbformat": 4,
 "nbformat_minor": 5
}
