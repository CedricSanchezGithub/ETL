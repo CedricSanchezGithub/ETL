{
 "cells": [
  {
   "metadata": {
    "ExecuteTime": {
     "end_time": "2025-03-12T02:45:42.827653Z",
     "start_time": "2025-03-12T02:45:42.820339Z"
    }
   },
   "cell_type": "code",
   "source": [
    "from pyspark.sql import DataFrame, Row, SparkSession\n",
    "import matplotlib.pyplot as plt\n",
    "import os\n",
    "import numpy as np\n",
    "import pandas as pd\n",
    "import cv2\n",
    "from PIL import Image\n",
    "import albumentations as A\n",
    "from pyspark.sql.connect.functions import column\n",
    "from pyspark.sql.functions import rand, when, col\n",
    "from functools import reduce\n",
    "from pyspark.sql.functions import lit"
   ],
   "id": "1b486e632a50335c",
   "outputs": [],
   "execution_count": 46
  },
  {
   "metadata": {
    "ExecuteTime": {
     "end_time": "2025-03-12T02:45:42.890648Z",
     "start_time": "2025-03-12T02:45:42.885795Z"
    }
   },
   "cell_type": "code",
   "source": [
    "# Variables\n",
    "# Paramètres de connexion MySQL\n",
    "db_url = \"jdbc:mysql://localhost:3306/wildlens\"\n",
    "db_properties = { \"user\": \"root\",\n",
    "                  \"password\": \"root\",\n",
    "                  \"driver\": \"com.mysql.cj.jdbc.Driver\" }\n",
    "mysql_driver_path = os.path.abspath(\"installation/mysql-connector-j-9.1.0.jar\")"
   ],
   "id": "f4a35d03e99e2815",
   "outputs": [],
   "execution_count": 47
  },
  {
   "metadata": {
    "ExecuteTime": {
     "end_time": "2025-03-12T02:45:42.978442Z",
     "start_time": "2025-03-12T02:45:42.941234Z"
    }
   },
   "cell_type": "code",
   "source": [
    "# Initialisation de SparkSession\n",
    "spark = SparkSession.builder \\\n",
    "    .appName(\"WildLens ETL - MSPR 24-25\") \\\n",
    "    .config(\"spark.jars\", mysql_driver_path) \\\n",
    "    .getOrCreate()\n",
    "\n",
    "print(\"✅ Spark initialisé avec le driver MySQL :\", mysql_driver_path)\n",
    "print(\"🔗 Driver chargé :\", spark.sparkContext.getConf().get(\"spark.jars\"))\n"
   ],
   "id": "8dbc99ee988fb08a",
   "outputs": [
    {
     "name": "stdout",
     "output_type": "stream",
     "text": [
      "✅ Spark initialisé avec le driver MySQL : /mnt/c/Users/HP/PycharmProjects/ETL/installation/mysql-connector-j-9.1.0.jar\n",
      "🔗 Driver chargé : /mnt/c/Users/HP/PycharmProjects/ETL/installation/mysql-connector-j-9.1.0.jar\n"
     ]
    }
   ],
   "execution_count": 48
  },
  {
   "metadata": {
    "ExecuteTime": {
     "end_time": "2025-03-12T02:45:43.191439Z",
     "start_time": "2025-03-12T02:45:43.042976Z"
    }
   },
   "cell_type": "code",
   "source": [
    "try:\n",
    "    df_tables = spark.read \\\n",
    "        .format(\"jdbc\") \\\n",
    "        .option(\"url\", db_url) \\\n",
    "        .option(\"dbtable\", \"information_schema.tables\") \\\n",
    "        .option(\"user\", \"root\") \\\n",
    "        .option(\"password\", \"root\") \\\n",
    "        .option(\"driver\", \"com.mysql.cj.jdbc.Driver\") \\\n",
    "        .load()\n",
    "\n",
    "    df_tables.filter(df_tables[\"TABLE_SCHEMA\"] == \"wildlens\").select(\"TABLE_NAME\").show()\n",
    "\n",
    "    print(\"✅ Connexion à MySQL réussie et tables listées avec succès !\")\n",
    "\n",
    "except Exception as e:\n",
    "    print(f\"❌ Erreur de connexion à MySQL : {e}\")"
   ],
   "id": "8ceb123a4ec31ef2",
   "outputs": [
    {
     "name": "stdout",
     "output_type": "stream",
     "text": [
      "+---------------+\n",
      "|     TABLE_NAME|\n",
      "+---------------+\n",
      "|  wildlens_etat|\n",
      "| wildlens_facts|\n",
      "|wildlens_images|\n",
      "+---------------+\n",
      "\n",
      "✅ Connexion à MySQL réussie et tables listées avec succès !\n"
     ]
    }
   ],
   "execution_count": 49
  },
  {
   "metadata": {},
   "cell_type": "markdown",
   "source": [
    "# Gestion des métadonnées des espèces\n",
    "\n",
    " Dans un premier temps, nous scannons les dossiers disponibles afin d'en faire un dataframe et réutiliser ces informations.\n",
    " Puis nous récupérons les métadonnées depuis l'API Mistral grâce à un prompt optimisé (optimisation du grounding, du prompt engineering)\n",
    " un sleep de 3s a été ajouté afin d'éviter de trop spam l'API\n",
    " -- transféré dans un fichier à part --"
   ],
   "id": "c91af73f42eed839"
  },
  {
   "metadata": {
    "ExecuteTime": {
     "end_time": "2025-03-12T02:45:43.303187Z",
     "start_time": "2025-03-12T02:45:43.244706Z"
    }
   },
   "cell_type": "code",
   "source": [
    "folder_all_animals = [d for d in os.listdir(\"ressource/image/train\") if os.path.isdir(os.path.join(\"ressource/image/train\", d))]\n",
    "df_all_animals = pd.DataFrame(folder_all_animals, columns=[\"Nom du dossier\"])"
   ],
   "id": "6e0bfa1214a1b566",
   "outputs": [],
   "execution_count": 50
  },
  {
   "metadata": {},
   "cell_type": "markdown",
   "source": [
    "# Gestion des images\n",
    "Dans un premier temps, nous allons faire une première analyse des images: leurs nombre par espèces (donc, par dossier), leurs tailles moyenne, leurs poid moyen, etc..."
   ],
   "id": "6e6ec049174921c"
  },
  {
   "metadata": {
    "ExecuteTime": {
     "end_time": "2025-03-12T02:45:44.144281Z",
     "start_time": "2025-03-12T02:45:43.368093Z"
    }
   },
   "cell_type": "code",
   "source": [
    "# Définition des chemins des datasets\n",
    "image = \"ressource/image/train\"\n",
    "# Fonction pour récupérer les infos des images d'un dossier (en gérant les dossiers absents)\n",
    "def get_image_info(folder_path):\n",
    "    if not os.path.exists(folder_path):  # 📌 Vérifie si le dossier existe\n",
    "        return 0, None, None  # ⚠️ Si absent → 0 images et tailles nulles\n",
    "\n",
    "    image_files = [f for f in os.listdir(folder_path) if f.lower().endswith(('png', 'jpg', 'jpeg'))]\n",
    "    num_images = len(image_files)\n",
    "\n",
    "    if num_images == 0:\n",
    "        return num_images, None, None  # Aucun fichier image\n",
    "\n",
    "    widths, heights = [], []\n",
    "\n",
    "    for img_file in image_files:\n",
    "        img_path = os.path.join(folder_path, img_file)\n",
    "        try:\n",
    "            with Image.open(img_path) as img:\n",
    "                widths.append(img.width)\n",
    "                heights.append(img.height)\n",
    "        except Exception as e:\n",
    "            print(f\"Erreur avec l'image {img_file}: {e}\")\n",
    "\n",
    "    avg_width = sum(widths) / len(widths) if widths else None\n",
    "    avg_height = sum(heights) / len(heights) if heights else None\n",
    "\n",
    "    return num_images, avg_width, avg_height\n",
    "\n",
    "# Listes pour stocker les infos\n",
    "image_data = []\n",
    "\n",
    "# Parcourir chaque dossier et extraire les infos\n",
    "for folder in df_all_animals[\"Nom du dossier\"]:\n",
    "    # ✂️ Images recadrées - entraînement\n",
    "    folder_path_train = os.path.join(image, folder)\n",
    "    num_images_train, avg_width_train, avg_height_train = get_image_info(folder_path_train)\n",
    "    image_data.append([folder, num_images_train, avg_width_train, avg_height_train])\n",
    "\n",
    "# Création des DataFrames\n",
    "df_image = pd.DataFrame(image_data, columns=[\"Nom du dossier\", \"Nombre d'images\", \"Largeur Moyenne\", \"Hauteur Moyenne\"])\n",
    "\n",
    "# Affichage du DataFrame de comparaison\n",
    "display(df_image)\n",
    "\n",
    "# 📊 Visualisation : Comparaison du nombre d'images par dossier\n",
    "plt.figure(figsize=(12,6))\n",
    "\n",
    "x_labels = df_image[\"Nom du dossier\"]\n",
    "x_range = range(len(x_labels))\n",
    "\n",
    "plt.bar(x_range, df_image[\"Nombre d'images\"], width=0.3, label=\"Images\", color='blue')\n",
    "\n",
    "plt.xticks([x for x in x_range], x_labels, rotation=90)  # Centrage des labels\n",
    "plt.ylabel(\"Nombre d'images\")\n",
    "plt.title(\"Comparaison du nombre d'images par dossier\")\n",
    "plt.legend()\n",
    "plt.tight_layout()\n",
    "plt.show()\n",
    "\n"
   ],
   "id": "8d591c85933d0423",
   "outputs": [
    {
     "ename": "KeyboardInterrupt",
     "evalue": "",
     "output_type": "error",
     "traceback": [
      "\u001B[0;31m---------------------------------------------------------------------------\u001B[0m",
      "\u001B[0;31mKeyboardInterrupt\u001B[0m                         Traceback (most recent call last)",
      "Cell \u001B[0;32mIn[51], line 37\u001B[0m\n\u001B[1;32m     34\u001B[0m \u001B[38;5;28;01mfor\u001B[39;00m folder \u001B[38;5;129;01min\u001B[39;00m df_all_animals[\u001B[38;5;124m\"\u001B[39m\u001B[38;5;124mNom du dossier\u001B[39m\u001B[38;5;124m\"\u001B[39m]:\n\u001B[1;32m     35\u001B[0m     \u001B[38;5;66;03m# ✂️ Images recadrées - entraînement\u001B[39;00m\n\u001B[1;32m     36\u001B[0m     folder_path_train \u001B[38;5;241m=\u001B[39m os\u001B[38;5;241m.\u001B[39mpath\u001B[38;5;241m.\u001B[39mjoin(image, folder)\n\u001B[0;32m---> 37\u001B[0m     num_images_train, avg_width_train, avg_height_train \u001B[38;5;241m=\u001B[39m \u001B[43mget_image_info\u001B[49m\u001B[43m(\u001B[49m\u001B[43mfolder_path_train\u001B[49m\u001B[43m)\u001B[49m\n\u001B[1;32m     38\u001B[0m     image_data\u001B[38;5;241m.\u001B[39mappend([folder, num_images_train, avg_width_train, avg_height_train])\n\u001B[1;32m     40\u001B[0m \u001B[38;5;66;03m# Création des DataFrames\u001B[39;00m\n",
      "Cell \u001B[0;32mIn[51], line 19\u001B[0m, in \u001B[0;36mget_image_info\u001B[0;34m(folder_path)\u001B[0m\n\u001B[1;32m     17\u001B[0m img_path \u001B[38;5;241m=\u001B[39m os\u001B[38;5;241m.\u001B[39mpath\u001B[38;5;241m.\u001B[39mjoin(folder_path, img_file)\n\u001B[1;32m     18\u001B[0m \u001B[38;5;28;01mtry\u001B[39;00m:\n\u001B[0;32m---> 19\u001B[0m     \u001B[38;5;28;01mwith\u001B[39;00m \u001B[43mImage\u001B[49m\u001B[38;5;241;43m.\u001B[39;49m\u001B[43mopen\u001B[49m\u001B[43m(\u001B[49m\u001B[43mimg_path\u001B[49m\u001B[43m)\u001B[49m \u001B[38;5;28;01mas\u001B[39;00m img:\n\u001B[1;32m     20\u001B[0m         widths\u001B[38;5;241m.\u001B[39mappend(img\u001B[38;5;241m.\u001B[39mwidth)\n\u001B[1;32m     21\u001B[0m         heights\u001B[38;5;241m.\u001B[39mappend(img\u001B[38;5;241m.\u001B[39mheight)\n",
      "File \u001B[0;32m~/.virtualenvs/ETL/lib/python3.12/site-packages/PIL/Image.py:3465\u001B[0m, in \u001B[0;36mopen\u001B[0;34m(fp, mode, formats)\u001B[0m\n\u001B[1;32m   3462\u001B[0m     filename \u001B[38;5;241m=\u001B[39m os\u001B[38;5;241m.\u001B[39mfspath(fp)\n\u001B[1;32m   3464\u001B[0m \u001B[38;5;28;01mif\u001B[39;00m filename:\n\u001B[0;32m-> 3465\u001B[0m     fp \u001B[38;5;241m=\u001B[39m \u001B[43mbuiltins\u001B[49m\u001B[38;5;241;43m.\u001B[39;49m\u001B[43mopen\u001B[49m\u001B[43m(\u001B[49m\u001B[43mfilename\u001B[49m\u001B[43m,\u001B[49m\u001B[43m \u001B[49m\u001B[38;5;124;43m\"\u001B[39;49m\u001B[38;5;124;43mrb\u001B[39;49m\u001B[38;5;124;43m\"\u001B[39;49m\u001B[43m)\u001B[49m\n\u001B[1;32m   3466\u001B[0m     exclusive_fp \u001B[38;5;241m=\u001B[39m \u001B[38;5;28;01mTrue\u001B[39;00m\n\u001B[1;32m   3467\u001B[0m \u001B[38;5;28;01melse\u001B[39;00m:\n",
      "\u001B[0;31mKeyboardInterrupt\u001B[0m: "
     ]
    }
   ],
   "execution_count": 51
  },
  {
   "metadata": {},
   "cell_type": "markdown",
   "source": [
    "# Augmentation des images\n",
    "## Data Augmentation et Transformation des Données\n",
    "La Data Augmentation est une technique utilisée en apprentissage automatique, notamment en vision par ordinateur et en traitement du langage naturel (NLP), pour augmenter la diversité des données d'entraînement sans collecter de nouvelles données. Elle permet de rendre les modèles plus robustes et d'améliorer leur généralisation.\n",
    "\n",
    "- Calculer la Mediane du nombre des images\n",
    "- Determiner le Q3 afin que le nombre d'image finale de chaque animale se rapproche\n",
    "- Calculer le coefficient de multiplication pour chaque classe d'animaux\n",
    "- Modifier et sauvegarder les nouvelles images\n",
    "-"
   ],
   "id": "ee7bbce44f5c0285"
  },
  {
   "metadata": {
    "ExecuteTime": {
     "end_time": "2025-03-12T02:45:44.536182500Z",
     "start_time": "2025-03-12T01:40:42.506547Z"
    }
   },
   "cell_type": "code",
   "source": [
    "# 📂 Définition du chemin des images\n",
    "image = \"ressource/image/train\"\n",
    "augmented_image_folder = \"ressource/image/augmented_train\"\n",
    "\n",
    "# 📝 Étape 1 : Calculer la médiane et Q3 du nombre d'images\n",
    "median_images = df_image[\"Nombre d'images\"].median()\n",
    "q3_images = df_image[\"Nombre d'images\"].quantile(0.75)\n",
    "\n",
    "print(f\"Médiane: {median_images}, Q3: {q3_images}\")\n"
   ],
   "id": "6f5d64005d5fd03f",
   "outputs": [
    {
     "name": "stdout",
     "output_type": "stream",
     "text": [
      "Médiane: 124.5, Q3: 163.5\n"
     ]
    }
   ],
   "execution_count": 18
  },
  {
   "metadata": {
    "ExecuteTime": {
     "end_time": "2025-03-12T02:45:44.563206900Z",
     "start_time": "2025-03-12T01:40:42.600923Z"
    }
   },
   "cell_type": "code",
   "source": [
    "import os\n",
    "import numpy as np\n",
    "import pandas as pd\n",
    "import cv2\n",
    "from PIL import Image\n",
    "import albumentations as A\n",
    "\n",
    "# Création du dossier de sortie s'il n'existe pas\n",
    "os.makedirs(augmented_image_folder, exist_ok=True)\n",
    "\n",
    "# Détermination du coefficient de Data Augmentation\n",
    "df_image[\"Coeff\"] = np.ceil(q3_images / df_image[\"Nombre d'images\"])\n",
    "\n",
    "# Définition des transformations\n",
    "augmentation = A.Compose([\n",
    "    A.HorizontalFlip(p=0.5),\n",
    "    A.RandomBrightnessContrast(p=0.2),\n",
    "    A.Rotate(limit=30, p=0.5),\n",
    "    A.GaussNoise(p=0.1),\n",
    "    A.Resize(256, 256)\n",
    "])\n",
    "\n",
    "# Boucle sur chaque classe d’animaux\n",
    "for index, row in df_image.iterrows():\n",
    "    if row[\"Coeff\"] < 4 :\n",
    "        folder_name = row[\"Nom du dossier\"]\n",
    "        coeff = int(row[\"Coeff\"])\n",
    "\n",
    "        original_folder = os.path.join(image, folder_name)\n",
    "        augmented_folder = os.path.join(augmented_image_folder, folder_name)\n",
    "        os.makedirs(augmented_folder, exist_ok=True)\n",
    "\n",
    "        image_files = [f for f in os.listdir(original_folder) if f.lower().endswith(('png', 'jpg', 'jpeg'))]\n",
    "\n",
    "        for img_file in image_files:\n",
    "            img_path = os.path.join(original_folder, img_file)\n",
    "            img = cv2.imread(img_path)  # Lecture avec OpenCV (BGR)\n",
    "\n",
    "            if img is None:\n",
    "                print(f\"❌ Erreur de lecture de l'image {img_file}\")\n",
    "                continue\n",
    "\n",
    "            img = cv2.cvtColor(img, cv2.COLOR_BGR2RGB)  # Conversion en RGB (évite les problèmes de couleur)\n",
    "\n",
    "            for i in range(coeff):  # Générer plusieurs images augmentées\n",
    "                augmented = augmentation(image=img)[\"image\"]\n",
    "                new_img_path = os.path.join(augmented_folder, f\"aug_{i}_{img_file}\")\n",
    "                cv2.imwrite(new_img_path, cv2.cvtColor(augmented, cv2.COLOR_RGB2BGR))  # Sauvegarde avec OpenCV\n",
    "\n",
    "print(\"✅ Data Augmentation terminée avec succès !\")\n"
   ],
   "id": "44a66928c7b481ad",
   "outputs": [
    {
     "name": "stdout",
     "output_type": "stream",
     "text": [
      "✅ Data Augmentation terminée avec succès !\n"
     ]
    }
   ],
   "execution_count": 19
  },
  {
   "metadata": {
    "ExecuteTime": {
     "end_time": "2025-03-12T02:45:44.564206500Z",
     "start_time": "2025-03-12T01:41:49.442082Z"
    }
   },
   "cell_type": "code",
   "source": [
    "# Listes pour stocker les infos\n",
    "image_data_new = []\n",
    "image_new = \"ressource/image/augmented_train\"\n",
    "\n",
    "# Parcourir chaque dossier et extraire les infos\n",
    "for folder in df_all_animals[\"Nom du dossier\"]:\n",
    "    # ✂️ Images recadrées - entraînement\n",
    "    folder_path_train = os.path.join(image_new, folder)\n",
    "    num_images_train, avg_width_train, avg_height_train = get_image_info(folder_path_train)\n",
    "    image_data_new.append([folder, num_images_train, avg_width_train, avg_height_train])\n",
    "\n",
    "# Création des DataFrames\n",
    "image_data_new = pd.DataFrame(image_data_new, columns=[\"Nom du dossier\", \"Nombre d'images\", \"Largeur Moyenne\", \"Hauteur Moyenne\"])\n",
    "image_data_new[\"Coeff\"] = df_image[\"Coeff\"]\n",
    "# Affichage du DataFrame de comparaison\n",
    "display(image_data_new)\n",
    "\n",
    "# 📊 Visualisation : Comparaison du nombre d'images par dossier\n",
    "plt.figure(figsize=(12,6))\n",
    "\n",
    "x_labels = image_data_new[\"Nom du dossier\"]\n",
    "x_range = range(len(x_labels))\n",
    "\n",
    "plt.bar(x_range, image_data_new[\"Nombre d'images\"], width=0.3, label=\"Images\", color='blue')\n",
    "\n",
    "plt.xticks([x for x in x_range], x_labels, rotation=90)  # Centrage des labels\n",
    "plt.ylabel(\"Nombre d'images\")\n",
    "plt.title(\"Comparaison du nombre d'images par dossier\")\n",
    "plt.legend()\n",
    "plt.tight_layout()\n",
    "plt.show()"
   ],
   "id": "5bf17ca281a9d2da",
   "outputs": [
    {
     "data": {
      "text/plain": [
       "           Nom du dossier  Nombre d'images  Largeur Moyenne  Hauteur Moyenne  \\\n",
       "0                  beaver              192            256.0            256.0   \n",
       "1              black_bear              186            256.0            256.0   \n",
       "2                 bob_cat              171            256.0            256.0   \n",
       "3                  coyote              246            256.0            256.0   \n",
       "4                elephant                0              NaN              NaN   \n",
       "5                   goose              282            256.0            256.0   \n",
       "6                gray_fox              252            256.0            256.0   \n",
       "7                   horse              213            256.0            256.0   \n",
       "8                    lion              190            256.0            256.0   \n",
       "9                    mink              278            256.0            256.0   \n",
       "10                  mouse              258            256.0            256.0   \n",
       "11               muledeer              194            256.0            256.0   \n",
       "12                  otter              200            256.0            256.0   \n",
       "13                raccoon              317            256.0            256.0   \n",
       "14                    rat              232            256.0            256.0   \n",
       "15                  skunk              244            256.0            256.0   \n",
       "16                 turkey              210            256.0            256.0   \n",
       "17  western_grey_squirrel              251            256.0            256.0   \n",
       "\n",
       "    Coeff  \n",
       "0     2.0  \n",
       "1     1.0  \n",
       "2     1.0  \n",
       "3     2.0  \n",
       "4     6.0  \n",
       "5     2.0  \n",
       "6     2.0  \n",
       "7     3.0  \n",
       "8     2.0  \n",
       "9     2.0  \n",
       "10    2.0  \n",
       "11    1.0  \n",
       "12    2.0  \n",
       "13    1.0  \n",
       "14    2.0  \n",
       "15    2.0  \n",
       "16    2.0  \n",
       "17    1.0  "
      ],
      "text/html": [
       "<div>\n",
       "<style scoped>\n",
       "    .dataframe tbody tr th:only-of-type {\n",
       "        vertical-align: middle;\n",
       "    }\n",
       "\n",
       "    .dataframe tbody tr th {\n",
       "        vertical-align: top;\n",
       "    }\n",
       "\n",
       "    .dataframe thead th {\n",
       "        text-align: right;\n",
       "    }\n",
       "</style>\n",
       "<table border=\"1\" class=\"dataframe\">\n",
       "  <thead>\n",
       "    <tr style=\"text-align: right;\">\n",
       "      <th></th>\n",
       "      <th>Nom du dossier</th>\n",
       "      <th>Nombre d'images</th>\n",
       "      <th>Largeur Moyenne</th>\n",
       "      <th>Hauteur Moyenne</th>\n",
       "      <th>Coeff</th>\n",
       "    </tr>\n",
       "  </thead>\n",
       "  <tbody>\n",
       "    <tr>\n",
       "      <th>0</th>\n",
       "      <td>beaver</td>\n",
       "      <td>192</td>\n",
       "      <td>256.0</td>\n",
       "      <td>256.0</td>\n",
       "      <td>2.0</td>\n",
       "    </tr>\n",
       "    <tr>\n",
       "      <th>1</th>\n",
       "      <td>black_bear</td>\n",
       "      <td>186</td>\n",
       "      <td>256.0</td>\n",
       "      <td>256.0</td>\n",
       "      <td>1.0</td>\n",
       "    </tr>\n",
       "    <tr>\n",
       "      <th>2</th>\n",
       "      <td>bob_cat</td>\n",
       "      <td>171</td>\n",
       "      <td>256.0</td>\n",
       "      <td>256.0</td>\n",
       "      <td>1.0</td>\n",
       "    </tr>\n",
       "    <tr>\n",
       "      <th>3</th>\n",
       "      <td>coyote</td>\n",
       "      <td>246</td>\n",
       "      <td>256.0</td>\n",
       "      <td>256.0</td>\n",
       "      <td>2.0</td>\n",
       "    </tr>\n",
       "    <tr>\n",
       "      <th>4</th>\n",
       "      <td>elephant</td>\n",
       "      <td>0</td>\n",
       "      <td>NaN</td>\n",
       "      <td>NaN</td>\n",
       "      <td>6.0</td>\n",
       "    </tr>\n",
       "    <tr>\n",
       "      <th>5</th>\n",
       "      <td>goose</td>\n",
       "      <td>282</td>\n",
       "      <td>256.0</td>\n",
       "      <td>256.0</td>\n",
       "      <td>2.0</td>\n",
       "    </tr>\n",
       "    <tr>\n",
       "      <th>6</th>\n",
       "      <td>gray_fox</td>\n",
       "      <td>252</td>\n",
       "      <td>256.0</td>\n",
       "      <td>256.0</td>\n",
       "      <td>2.0</td>\n",
       "    </tr>\n",
       "    <tr>\n",
       "      <th>7</th>\n",
       "      <td>horse</td>\n",
       "      <td>213</td>\n",
       "      <td>256.0</td>\n",
       "      <td>256.0</td>\n",
       "      <td>3.0</td>\n",
       "    </tr>\n",
       "    <tr>\n",
       "      <th>8</th>\n",
       "      <td>lion</td>\n",
       "      <td>190</td>\n",
       "      <td>256.0</td>\n",
       "      <td>256.0</td>\n",
       "      <td>2.0</td>\n",
       "    </tr>\n",
       "    <tr>\n",
       "      <th>9</th>\n",
       "      <td>mink</td>\n",
       "      <td>278</td>\n",
       "      <td>256.0</td>\n",
       "      <td>256.0</td>\n",
       "      <td>2.0</td>\n",
       "    </tr>\n",
       "    <tr>\n",
       "      <th>10</th>\n",
       "      <td>mouse</td>\n",
       "      <td>258</td>\n",
       "      <td>256.0</td>\n",
       "      <td>256.0</td>\n",
       "      <td>2.0</td>\n",
       "    </tr>\n",
       "    <tr>\n",
       "      <th>11</th>\n",
       "      <td>muledeer</td>\n",
       "      <td>194</td>\n",
       "      <td>256.0</td>\n",
       "      <td>256.0</td>\n",
       "      <td>1.0</td>\n",
       "    </tr>\n",
       "    <tr>\n",
       "      <th>12</th>\n",
       "      <td>otter</td>\n",
       "      <td>200</td>\n",
       "      <td>256.0</td>\n",
       "      <td>256.0</td>\n",
       "      <td>2.0</td>\n",
       "    </tr>\n",
       "    <tr>\n",
       "      <th>13</th>\n",
       "      <td>raccoon</td>\n",
       "      <td>317</td>\n",
       "      <td>256.0</td>\n",
       "      <td>256.0</td>\n",
       "      <td>1.0</td>\n",
       "    </tr>\n",
       "    <tr>\n",
       "      <th>14</th>\n",
       "      <td>rat</td>\n",
       "      <td>232</td>\n",
       "      <td>256.0</td>\n",
       "      <td>256.0</td>\n",
       "      <td>2.0</td>\n",
       "    </tr>\n",
       "    <tr>\n",
       "      <th>15</th>\n",
       "      <td>skunk</td>\n",
       "      <td>244</td>\n",
       "      <td>256.0</td>\n",
       "      <td>256.0</td>\n",
       "      <td>2.0</td>\n",
       "    </tr>\n",
       "    <tr>\n",
       "      <th>16</th>\n",
       "      <td>turkey</td>\n",
       "      <td>210</td>\n",
       "      <td>256.0</td>\n",
       "      <td>256.0</td>\n",
       "      <td>2.0</td>\n",
       "    </tr>\n",
       "    <tr>\n",
       "      <th>17</th>\n",
       "      <td>western_grey_squirrel</td>\n",
       "      <td>251</td>\n",
       "      <td>256.0</td>\n",
       "      <td>256.0</td>\n",
       "      <td>1.0</td>\n",
       "    </tr>\n",
       "  </tbody>\n",
       "</table>\n",
       "</div>"
      ]
     },
     "metadata": {},
     "output_type": "display_data"
    },
    {
     "data": {
      "text/plain": [
       "<Figure size 1200x600 with 1 Axes>"
      ],
      "image/png": "[encoded data removed]"
     },
     "metadata": {},
     "output_type": "display_data"
    }
   ],
   "execution_count": 20
  },
  {
   "metadata": {
    "ExecuteTime": {
     "end_time": "2025-03-12T02:45:44.575848400Z",
     "start_time": "2025-03-12T01:42:04.695592Z"
    }
   },
   "cell_type": "code",
   "source": "display(image_data_new)",
   "id": "361b703c676963f5",
   "outputs": [
    {
     "data": {
      "text/plain": [
       "           Nom du dossier  Nombre d'images  Largeur Moyenne  Hauteur Moyenne  \\\n",
       "0                  beaver              192            256.0            256.0   \n",
       "1              black_bear              186            256.0            256.0   \n",
       "2                 bob_cat              171            256.0            256.0   \n",
       "3                  coyote              246            256.0            256.0   \n",
       "4                elephant                0              NaN              NaN   \n",
       "5                   goose              282            256.0            256.0   \n",
       "6                gray_fox              252            256.0            256.0   \n",
       "7                   horse              213            256.0            256.0   \n",
       "8                    lion              190            256.0            256.0   \n",
       "9                    mink              278            256.0            256.0   \n",
       "10                  mouse              258            256.0            256.0   \n",
       "11               muledeer              194            256.0            256.0   \n",
       "12                  otter              200            256.0            256.0   \n",
       "13                raccoon              317            256.0            256.0   \n",
       "14                    rat              232            256.0            256.0   \n",
       "15                  skunk              244            256.0            256.0   \n",
       "16                 turkey              210            256.0            256.0   \n",
       "17  western_grey_squirrel              251            256.0            256.0   \n",
       "\n",
       "    Coeff  \n",
       "0     2.0  \n",
       "1     1.0  \n",
       "2     1.0  \n",
       "3     2.0  \n",
       "4     6.0  \n",
       "5     2.0  \n",
       "6     2.0  \n",
       "7     3.0  \n",
       "8     2.0  \n",
       "9     2.0  \n",
       "10    2.0  \n",
       "11    1.0  \n",
       "12    2.0  \n",
       "13    1.0  \n",
       "14    2.0  \n",
       "15    2.0  \n",
       "16    2.0  \n",
       "17    1.0  "
      ],
      "text/html": [
       "<div>\n",
       "<style scoped>\n",
       "    .dataframe tbody tr th:only-of-type {\n",
       "        vertical-align: middle;\n",
       "    }\n",
       "\n",
       "    .dataframe tbody tr th {\n",
       "        vertical-align: top;\n",
       "    }\n",
       "\n",
       "    .dataframe thead th {\n",
       "        text-align: right;\n",
       "    }\n",
       "</style>\n",
       "<table border=\"1\" class=\"dataframe\">\n",
       "  <thead>\n",
       "    <tr style=\"text-align: right;\">\n",
       "      <th></th>\n",
       "      <th>Nom du dossier</th>\n",
       "      <th>Nombre d'images</th>\n",
       "      <th>Largeur Moyenne</th>\n",
       "      <th>Hauteur Moyenne</th>\n",
       "      <th>Coeff</th>\n",
       "    </tr>\n",
       "  </thead>\n",
       "  <tbody>\n",
       "    <tr>\n",
       "      <th>0</th>\n",
       "      <td>beaver</td>\n",
       "      <td>192</td>\n",
       "      <td>256.0</td>\n",
       "      <td>256.0</td>\n",
       "      <td>2.0</td>\n",
       "    </tr>\n",
       "    <tr>\n",
       "      <th>1</th>\n",
       "      <td>black_bear</td>\n",
       "      <td>186</td>\n",
       "      <td>256.0</td>\n",
       "      <td>256.0</td>\n",
       "      <td>1.0</td>\n",
       "    </tr>\n",
       "    <tr>\n",
       "      <th>2</th>\n",
       "      <td>bob_cat</td>\n",
       "      <td>171</td>\n",
       "      <td>256.0</td>\n",
       "      <td>256.0</td>\n",
       "      <td>1.0</td>\n",
       "    </tr>\n",
       "    <tr>\n",
       "      <th>3</th>\n",
       "      <td>coyote</td>\n",
       "      <td>246</td>\n",
       "      <td>256.0</td>\n",
       "      <td>256.0</td>\n",
       "      <td>2.0</td>\n",
       "    </tr>\n",
       "    <tr>\n",
       "      <th>4</th>\n",
       "      <td>elephant</td>\n",
       "      <td>0</td>\n",
       "      <td>NaN</td>\n",
       "      <td>NaN</td>\n",
       "      <td>6.0</td>\n",
       "    </tr>\n",
       "    <tr>\n",
       "      <th>5</th>\n",
       "      <td>goose</td>\n",
       "      <td>282</td>\n",
       "      <td>256.0</td>\n",
       "      <td>256.0</td>\n",
       "      <td>2.0</td>\n",
       "    </tr>\n",
       "    <tr>\n",
       "      <th>6</th>\n",
       "      <td>gray_fox</td>\n",
       "      <td>252</td>\n",
       "      <td>256.0</td>\n",
       "      <td>256.0</td>\n",
       "      <td>2.0</td>\n",
       "    </tr>\n",
       "    <tr>\n",
       "      <th>7</th>\n",
       "      <td>horse</td>\n",
       "      <td>213</td>\n",
       "      <td>256.0</td>\n",
       "      <td>256.0</td>\n",
       "      <td>3.0</td>\n",
       "    </tr>\n",
       "    <tr>\n",
       "      <th>8</th>\n",
       "      <td>lion</td>\n",
       "      <td>190</td>\n",
       "      <td>256.0</td>\n",
       "      <td>256.0</td>\n",
       "      <td>2.0</td>\n",
       "    </tr>\n",
       "    <tr>\n",
       "      <th>9</th>\n",
       "      <td>mink</td>\n",
       "      <td>278</td>\n",
       "      <td>256.0</td>\n",
       "      <td>256.0</td>\n",
       "      <td>2.0</td>\n",
       "    </tr>\n",
       "    <tr>\n",
       "      <th>10</th>\n",
       "      <td>mouse</td>\n",
       "      <td>258</td>\n",
       "      <td>256.0</td>\n",
       "      <td>256.0</td>\n",
       "      <td>2.0</td>\n",
       "    </tr>\n",
       "    <tr>\n",
       "      <th>11</th>\n",
       "      <td>muledeer</td>\n",
       "      <td>194</td>\n",
       "      <td>256.0</td>\n",
       "      <td>256.0</td>\n",
       "      <td>1.0</td>\n",
       "    </tr>\n",
       "    <tr>\n",
       "      <th>12</th>\n",
       "      <td>otter</td>\n",
       "      <td>200</td>\n",
       "      <td>256.0</td>\n",
       "      <td>256.0</td>\n",
       "      <td>2.0</td>\n",
       "    </tr>\n",
       "    <tr>\n",
       "      <th>13</th>\n",
       "      <td>raccoon</td>\n",
       "      <td>317</td>\n",
       "      <td>256.0</td>\n",
       "      <td>256.0</td>\n",
       "      <td>1.0</td>\n",
       "    </tr>\n",
       "    <tr>\n",
       "      <th>14</th>\n",
       "      <td>rat</td>\n",
       "      <td>232</td>\n",
       "      <td>256.0</td>\n",
       "      <td>256.0</td>\n",
       "      <td>2.0</td>\n",
       "    </tr>\n",
       "    <tr>\n",
       "      <th>15</th>\n",
       "      <td>skunk</td>\n",
       "      <td>244</td>\n",
       "      <td>256.0</td>\n",
       "      <td>256.0</td>\n",
       "      <td>2.0</td>\n",
       "    </tr>\n",
       "    <tr>\n",
       "      <th>16</th>\n",
       "      <td>turkey</td>\n",
       "      <td>210</td>\n",
       "      <td>256.0</td>\n",
       "      <td>256.0</td>\n",
       "      <td>2.0</td>\n",
       "    </tr>\n",
       "    <tr>\n",
       "      <th>17</th>\n",
       "      <td>western_grey_squirrel</td>\n",
       "      <td>251</td>\n",
       "      <td>256.0</td>\n",
       "      <td>256.0</td>\n",
       "      <td>1.0</td>\n",
       "    </tr>\n",
       "  </tbody>\n",
       "</table>\n",
       "</div>"
      ]
     },
     "metadata": {},
     "output_type": "display_data"
    }
   ],
   "execution_count": 21
  },
  {
   "metadata": {},
   "cell_type": "markdown",
   "source": [
    "## Labélisation\n",
    "Le dataframe d'images et les métadata sont fusionnées afin que chaque image corresponde à des métadonnées : c'est la labélisation."
   ],
   "id": "c6c410402e8af2b3"
  },
  {
   "metadata": {
    "ExecuteTime": {
     "end_time": "2025-03-12T02:45:44.579164300Z",
     "start_time": "2025-03-12T01:42:04.804442Z"
    }
   },
   "cell_type": "code",
   "source": [
    "df_metadata = pd.read_csv(\"./ressource/metadata.csv\")\n",
    "\n",
    "df_merged = pd.merge(image_data_new, df_metadata, left_on='Nom du dossier', right_on='Espèce anglais', how='left')\n",
    "df_merged = df_merged.drop(columns=[\"Nom du dossier\", \"Largeur Moyenne\", \"Hauteur Moyenne\"])\n",
    "print(df_merged)\n",
    "df_merged.to_csv(\"./ressource/data_merged.csv\", header=True)\n",
    "\n",
    "if print(df_merged['Espèce anglais'].isna().sum()):\n",
    "    print(\"Toutes les lignes ont trouvés une correspondance\")\n",
    "display(df_merged)"
   ],
   "id": "a770a2a2eb3142b5",
   "outputs": [
    {
     "name": "stdout",
     "output_type": "stream",
     "text": [
      "    Nombre d'images  Coeff         Espèce anglais           Espèce français  \\\n",
      "0               192    2.0                 beaver                    Castor   \n",
      "1               186    1.0             black_bear                 Ours noir   \n",
      "2               171    1.0                bob_cat           Chat domestique   \n",
      "3               246    2.0                 coyote                    Coyote   \n",
      "4                 0    6.0               elephant                  éléphant   \n",
      "5               282    2.0                  goose                       oie   \n",
      "6               252    2.0               gray_fox               Renard gris   \n",
      "7               213    3.0                  horse                    cheval   \n",
      "8               190    2.0                   lion                      lion   \n",
      "9               278    2.0                   mink            Vison d'Europe   \n",
      "10              258    2.0                  mouse                    souris   \n",
      "11              194    1.0               muledeer                cerf mulet   \n",
      "12              200    2.0                  otter                    loutre   \n",
      "13              317    1.0                raccoon              raton laveur   \n",
      "14              232    2.0                    rat                       rat   \n",
      "15              244    2.0                  skunk                    Putois   \n",
      "16              210    2.0                 turkey                     Dinde   \n",
      "17              251    1.0  western_grey_squirrel  écureuil gris de l'Ouest   \n",
      "\n",
      "        Famille                 Nom latin  \\\n",
      "0    Castoridae              Castor fiber   \n",
      "1       Ursidae          Ursus americanus   \n",
      "2       Felidae               Felis catus   \n",
      "3       Canidae             Canis latrans   \n",
      "4   Proboscidés        Loxodonta africana   \n",
      "5      Anatidae               Anser anser   \n",
      "6       Canidae  Urocyon cinereoargenteus   \n",
      "7       Equidae      Equus ferus caballus   \n",
      "8       Felidae              Panthera leo   \n",
      "9    Mustelidae             Neogale vison   \n",
      "10      Muridae              Mus musculus   \n",
      "11     Cervidae       Odocoileus hemionus   \n",
      "12   Mustelidae               Lutra lutra   \n",
      "13  Procyonidae             Procyon lotor   \n",
      "14      Muridae         Rattus norvegicus   \n",
      "15   Mustelidae         Mephitis mephitis   \n",
      "16  Phasianidae       Meleagris gallopavo   \n",
      "17    Sciuridae      Sciurus carolinensis   \n",
      "\n",
      "                                          Description  Population estimée  \\\n",
      "0   Le castor est un rongeur semi-aquatique connu ...             1000000   \n",
      "1   L'ours noir est un ours de taille moyenne avec...              900000   \n",
      "2   Petit félin domestique au pelage court et aux ...           600000000   \n",
      "3   Le coyote est un canidé de taille moyenne, ave...             3000000   \n",
      "4   L'éléphant d'Afrique est un grand mammifère he...              415000   \n",
      "5   L'oie est un grand oiseau aquatique avec un co...             2500000   \n",
      "6   Le renard gris est un petit canidé aux poils g...             4000000   \n",
      "7   Mammifère quadrupède au corps robuste, au cou ...            58000000   \n",
      "8   Le lion est un grand félin d'Afrique et d'Asie...              230000   \n",
      "9   Petit mammifère semi-aquatique avec un pelage ...             1000000   \n",
      "10  Petit rongeur avec de grandes oreilles et une ...           600000000   \n",
      "11  Le cerf mulet est un grand cerf d'Amérique du ...             1000000   \n",
      "12  Mammifère semi-aquatique à fourrure dense et n...             1000000   \n",
      "13  Mammifère nocturne au masque noir et à la queu...            30000000   \n",
      "14  Le rat est un rongeur de taille moyenne, avec ...           600000000   \n",
      "15  Le putois est un petit mammifère carnivore con...             3200000   \n",
      "16  Oiseau de grande taille au plumage coloré, ori...           550000000   \n",
      "17  Petit rongeur arboricole aux poils gris avec u...            60000000   \n",
      "\n",
      "                                       Localisation  \n",
      "0                              France Canada Russie  \n",
      "1                         Canada États-Unis Mexique  \n",
      "2                     France États-Unis Royaume-Uni  \n",
      "3                         États-Unis Canada Mexique  \n",
      "4   Afrique du Sud Botswana Zimbabwe Kenya Tanzanie  \n",
      "5                          Canada États-Unis Russie  \n",
      "6                         États-Unis Mexique Canada  \n",
      "7                    France États-Unis Russie Chine  \n",
      "8                                     Afrique, Inde  \n",
      "9                France, Allemagne, Pologne, Russie  \n",
      "10                                     Monde entier  \n",
      "11                                États-Unis Canada  \n",
      "12                       Royaume-Uni France Espagne  \n",
      "13                        Canada États-Unis Mexique  \n",
      "14                  France, Royaume-Uni, États-Unis  \n",
      "15                                États-Unis Canada  \n",
      "16                               États-Unis Mexique  \n",
      "17                                États-Unis Canada  \n",
      "0\n"
     ]
    },
    {
     "data": {
      "text/plain": [
       "    Nombre d'images  Coeff         Espèce anglais           Espèce français  \\\n",
       "0               192    2.0                 beaver                    Castor   \n",
       "1               186    1.0             black_bear                 Ours noir   \n",
       "2               171    1.0                bob_cat           Chat domestique   \n",
       "3               246    2.0                 coyote                    Coyote   \n",
       "4                 0    6.0               elephant                  éléphant   \n",
       "5               282    2.0                  goose                       oie   \n",
       "6               252    2.0               gray_fox               Renard gris   \n",
       "7               213    3.0                  horse                    cheval   \n",
       "8               190    2.0                   lion                      lion   \n",
       "9               278    2.0                   mink            Vison d'Europe   \n",
       "10              258    2.0                  mouse                    souris   \n",
       "11              194    1.0               muledeer                cerf mulet   \n",
       "12              200    2.0                  otter                    loutre   \n",
       "13              317    1.0                raccoon              raton laveur   \n",
       "14              232    2.0                    rat                       rat   \n",
       "15              244    2.0                  skunk                    Putois   \n",
       "16              210    2.0                 turkey                     Dinde   \n",
       "17              251    1.0  western_grey_squirrel  écureuil gris de l'Ouest   \n",
       "\n",
       "        Famille                 Nom latin  \\\n",
       "0    Castoridae              Castor fiber   \n",
       "1       Ursidae          Ursus americanus   \n",
       "2       Felidae               Felis catus   \n",
       "3       Canidae             Canis latrans   \n",
       "4   Proboscidés        Loxodonta africana   \n",
       "5      Anatidae               Anser anser   \n",
       "6       Canidae  Urocyon cinereoargenteus   \n",
       "7       Equidae      Equus ferus caballus   \n",
       "8       Felidae              Panthera leo   \n",
       "9    Mustelidae             Neogale vison   \n",
       "10      Muridae              Mus musculus   \n",
       "11     Cervidae       Odocoileus hemionus   \n",
       "12   Mustelidae               Lutra lutra   \n",
       "13  Procyonidae             Procyon lotor   \n",
       "14      Muridae         Rattus norvegicus   \n",
       "15   Mustelidae         Mephitis mephitis   \n",
       "16  Phasianidae       Meleagris gallopavo   \n",
       "17    Sciuridae      Sciurus carolinensis   \n",
       "\n",
       "                                          Description  Population estimée  \\\n",
       "0   Le castor est un rongeur semi-aquatique connu ...             1000000   \n",
       "1   L'ours noir est un ours de taille moyenne avec...              900000   \n",
       "2   Petit félin domestique au pelage court et aux ...           600000000   \n",
       "3   Le coyote est un canidé de taille moyenne, ave...             3000000   \n",
       "4   L'éléphant d'Afrique est un grand mammifère he...              415000   \n",
       "5   L'oie est un grand oiseau aquatique avec un co...             2500000   \n",
       "6   Le renard gris est un petit canidé aux poils g...             4000000   \n",
       "7   Mammifère quadrupède au corps robuste, au cou ...            58000000   \n",
       "8   Le lion est un grand félin d'Afrique et d'Asie...              230000   \n",
       "9   Petit mammifère semi-aquatique avec un pelage ...             1000000   \n",
       "10  Petit rongeur avec de grandes oreilles et une ...           600000000   \n",
       "11  Le cerf mulet est un grand cerf d'Amérique du ...             1000000   \n",
       "12  Mammifère semi-aquatique à fourrure dense et n...             1000000   \n",
       "13  Mammifère nocturne au masque noir et à la queu...            30000000   \n",
       "14  Le rat est un rongeur de taille moyenne, avec ...           600000000   \n",
       "15  Le putois est un petit mammifère carnivore con...             3200000   \n",
       "16  Oiseau de grande taille au plumage coloré, ori...           550000000   \n",
       "17  Petit rongeur arboricole aux poils gris avec u...            60000000   \n",
       "\n",
       "                                       Localisation  \n",
       "0                              France Canada Russie  \n",
       "1                         Canada États-Unis Mexique  \n",
       "2                     France États-Unis Royaume-Uni  \n",
       "3                         États-Unis Canada Mexique  \n",
       "4   Afrique du Sud Botswana Zimbabwe Kenya Tanzanie  \n",
       "5                          Canada États-Unis Russie  \n",
       "6                         États-Unis Mexique Canada  \n",
       "7                    France États-Unis Russie Chine  \n",
       "8                                     Afrique, Inde  \n",
       "9                France, Allemagne, Pologne, Russie  \n",
       "10                                     Monde entier  \n",
       "11                                États-Unis Canada  \n",
       "12                       Royaume-Uni France Espagne  \n",
       "13                        Canada États-Unis Mexique  \n",
       "14                  France, Royaume-Uni, États-Unis  \n",
       "15                                États-Unis Canada  \n",
       "16                               États-Unis Mexique  \n",
       "17                                États-Unis Canada  "
      ],
      "text/html": [
       "<div>\n",
       "<style scoped>\n",
       "    .dataframe tbody tr th:only-of-type {\n",
       "        vertical-align: middle;\n",
       "    }\n",
       "\n",
       "    .dataframe tbody tr th {\n",
       "        vertical-align: top;\n",
       "    }\n",
       "\n",
       "    .dataframe thead th {\n",
       "        text-align: right;\n",
       "    }\n",
       "</style>\n",
       "<table border=\"1\" class=\"dataframe\">\n",
       "  <thead>\n",
       "    <tr style=\"text-align: right;\">\n",
       "      <th></th>\n",
       "      <th>Nombre d'images</th>\n",
       "      <th>Coeff</th>\n",
       "      <th>Espèce anglais</th>\n",
       "      <th>Espèce français</th>\n",
       "      <th>Famille</th>\n",
       "      <th>Nom latin</th>\n",
       "      <th>Description</th>\n",
       "      <th>Population estimée</th>\n",
       "      <th>Localisation</th>\n",
       "    </tr>\n",
       "  </thead>\n",
       "  <tbody>\n",
       "    <tr>\n",
       "      <th>0</th>\n",
       "      <td>192</td>\n",
       "      <td>2.0</td>\n",
       "      <td>beaver</td>\n",
       "      <td>Castor</td>\n",
       "      <td>Castoridae</td>\n",
       "      <td>Castor fiber</td>\n",
       "      <td>Le castor est un rongeur semi-aquatique connu ...</td>\n",
       "      <td>1000000</td>\n",
       "      <td>France Canada Russie</td>\n",
       "    </tr>\n",
       "    <tr>\n",
       "      <th>1</th>\n",
       "      <td>186</td>\n",
       "      <td>1.0</td>\n",
       "      <td>black_bear</td>\n",
       "      <td>Ours noir</td>\n",
       "      <td>Ursidae</td>\n",
       "      <td>Ursus americanus</td>\n",
       "      <td>L'ours noir est un ours de taille moyenne avec...</td>\n",
       "      <td>900000</td>\n",
       "      <td>Canada États-Unis Mexique</td>\n",
       "    </tr>\n",
       "    <tr>\n",
       "      <th>2</th>\n",
       "      <td>171</td>\n",
       "      <td>1.0</td>\n",
       "      <td>bob_cat</td>\n",
       "      <td>Chat domestique</td>\n",
       "      <td>Felidae</td>\n",
       "      <td>Felis catus</td>\n",
       "      <td>Petit félin domestique au pelage court et aux ...</td>\n",
       "      <td>600000000</td>\n",
       "      <td>France États-Unis Royaume-Uni</td>\n",
       "    </tr>\n",
       "    <tr>\n",
       "      <th>3</th>\n",
       "      <td>246</td>\n",
       "      <td>2.0</td>\n",
       "      <td>coyote</td>\n",
       "      <td>Coyote</td>\n",
       "      <td>Canidae</td>\n",
       "      <td>Canis latrans</td>\n",
       "      <td>Le coyote est un canidé de taille moyenne, ave...</td>\n",
       "      <td>3000000</td>\n",
       "      <td>États-Unis Canada Mexique</td>\n",
       "    </tr>\n",
       "    <tr>\n",
       "      <th>4</th>\n",
       "      <td>0</td>\n",
       "      <td>6.0</td>\n",
       "      <td>elephant</td>\n",
       "      <td>éléphant</td>\n",
       "      <td>Proboscidés</td>\n",
       "      <td>Loxodonta africana</td>\n",
       "      <td>L'éléphant d'Afrique est un grand mammifère he...</td>\n",
       "      <td>415000</td>\n",
       "      <td>Afrique du Sud Botswana Zimbabwe Kenya Tanzanie</td>\n",
       "    </tr>\n",
       "    <tr>\n",
       "      <th>5</th>\n",
       "      <td>282</td>\n",
       "      <td>2.0</td>\n",
       "      <td>goose</td>\n",
       "      <td>oie</td>\n",
       "      <td>Anatidae</td>\n",
       "      <td>Anser anser</td>\n",
       "      <td>L'oie est un grand oiseau aquatique avec un co...</td>\n",
       "      <td>2500000</td>\n",
       "      <td>Canada États-Unis Russie</td>\n",
       "    </tr>\n",
       "    <tr>\n",
       "      <th>6</th>\n",
       "      <td>252</td>\n",
       "      <td>2.0</td>\n",
       "      <td>gray_fox</td>\n",
       "      <td>Renard gris</td>\n",
       "      <td>Canidae</td>\n",
       "      <td>Urocyon cinereoargenteus</td>\n",
       "      <td>Le renard gris est un petit canidé aux poils g...</td>\n",
       "      <td>4000000</td>\n",
       "      <td>États-Unis Mexique Canada</td>\n",
       "    </tr>\n",
       "    <tr>\n",
       "      <th>7</th>\n",
       "      <td>213</td>\n",
       "      <td>3.0</td>\n",
       "      <td>horse</td>\n",
       "      <td>cheval</td>\n",
       "      <td>Equidae</td>\n",
       "      <td>Equus ferus caballus</td>\n",
       "      <td>Mammifère quadrupède au corps robuste, au cou ...</td>\n",
       "      <td>58000000</td>\n",
       "      <td>France États-Unis Russie Chine</td>\n",
       "    </tr>\n",
       "    <tr>\n",
       "      <th>8</th>\n",
       "      <td>190</td>\n",
       "      <td>2.0</td>\n",
       "      <td>lion</td>\n",
       "      <td>lion</td>\n",
       "      <td>Felidae</td>\n",
       "      <td>Panthera leo</td>\n",
       "      <td>Le lion est un grand félin d'Afrique et d'Asie...</td>\n",
       "      <td>230000</td>\n",
       "      <td>Afrique, Inde</td>\n",
       "    </tr>\n",
       "    <tr>\n",
       "      <th>9</th>\n",
       "      <td>278</td>\n",
       "      <td>2.0</td>\n",
       "      <td>mink</td>\n",
       "      <td>Vison d'Europe</td>\n",
       "      <td>Mustelidae</td>\n",
       "      <td>Neogale vison</td>\n",
       "      <td>Petit mammifère semi-aquatique avec un pelage ...</td>\n",
       "      <td>1000000</td>\n",
       "      <td>France, Allemagne, Pologne, Russie</td>\n",
       "    </tr>\n",
       "    <tr>\n",
       "      <th>10</th>\n",
       "      <td>258</td>\n",
       "      <td>2.0</td>\n",
       "      <td>mouse</td>\n",
       "      <td>souris</td>\n",
       "      <td>Muridae</td>\n",
       "      <td>Mus musculus</td>\n",
       "      <td>Petit rongeur avec de grandes oreilles et une ...</td>\n",
       "      <td>600000000</td>\n",
       "      <td>Monde entier</td>\n",
       "    </tr>\n",
       "    <tr>\n",
       "      <th>11</th>\n",
       "      <td>194</td>\n",
       "      <td>1.0</td>\n",
       "      <td>muledeer</td>\n",
       "      <td>cerf mulet</td>\n",
       "      <td>Cervidae</td>\n",
       "      <td>Odocoileus hemionus</td>\n",
       "      <td>Le cerf mulet est un grand cerf d'Amérique du ...</td>\n",
       "      <td>1000000</td>\n",
       "      <td>États-Unis Canada</td>\n",
       "    </tr>\n",
       "    <tr>\n",
       "      <th>12</th>\n",
       "      <td>200</td>\n",
       "      <td>2.0</td>\n",
       "      <td>otter</td>\n",
       "      <td>loutre</td>\n",
       "      <td>Mustelidae</td>\n",
       "      <td>Lutra lutra</td>\n",
       "      <td>Mammifère semi-aquatique à fourrure dense et n...</td>\n",
       "      <td>1000000</td>\n",
       "      <td>Royaume-Uni France Espagne</td>\n",
       "    </tr>\n",
       "    <tr>\n",
       "      <th>13</th>\n",
       "      <td>317</td>\n",
       "      <td>1.0</td>\n",
       "      <td>raccoon</td>\n",
       "      <td>raton laveur</td>\n",
       "      <td>Procyonidae</td>\n",
       "      <td>Procyon lotor</td>\n",
       "      <td>Mammifère nocturne au masque noir et à la queu...</td>\n",
       "      <td>30000000</td>\n",
       "      <td>Canada États-Unis Mexique</td>\n",
       "    </tr>\n",
       "    <tr>\n",
       "      <th>14</th>\n",
       "      <td>232</td>\n",
       "      <td>2.0</td>\n",
       "      <td>rat</td>\n",
       "      <td>rat</td>\n",
       "      <td>Muridae</td>\n",
       "      <td>Rattus norvegicus</td>\n",
       "      <td>Le rat est un rongeur de taille moyenne, avec ...</td>\n",
       "      <td>600000000</td>\n",
       "      <td>France, Royaume-Uni, États-Unis</td>\n",
       "    </tr>\n",
       "    <tr>\n",
       "      <th>15</th>\n",
       "      <td>244</td>\n",
       "      <td>2.0</td>\n",
       "      <td>skunk</td>\n",
       "      <td>Putois</td>\n",
       "      <td>Mustelidae</td>\n",
       "      <td>Mephitis mephitis</td>\n",
       "      <td>Le putois est un petit mammifère carnivore con...</td>\n",
       "      <td>3200000</td>\n",
       "      <td>États-Unis Canada</td>\n",
       "    </tr>\n",
       "    <tr>\n",
       "      <th>16</th>\n",
       "      <td>210</td>\n",
       "      <td>2.0</td>\n",
       "      <td>turkey</td>\n",
       "      <td>Dinde</td>\n",
       "      <td>Phasianidae</td>\n",
       "      <td>Meleagris gallopavo</td>\n",
       "      <td>Oiseau de grande taille au plumage coloré, ori...</td>\n",
       "      <td>550000000</td>\n",
       "      <td>États-Unis Mexique</td>\n",
       "    </tr>\n",
       "    <tr>\n",
       "      <th>17</th>\n",
       "      <td>251</td>\n",
       "      <td>1.0</td>\n",
       "      <td>western_grey_squirrel</td>\n",
       "      <td>écureuil gris de l'Ouest</td>\n",
       "      <td>Sciuridae</td>\n",
       "      <td>Sciurus carolinensis</td>\n",
       "      <td>Petit rongeur arboricole aux poils gris avec u...</td>\n",
       "      <td>60000000</td>\n",
       "      <td>États-Unis Canada</td>\n",
       "    </tr>\n",
       "  </tbody>\n",
       "</table>\n",
       "</div>"
      ]
     },
     "metadata": {},
     "output_type": "display_data"
    }
   ],
   "execution_count": 22
  },
  {
   "metadata": {},
   "cell_type": "markdown",
   "source": [
    "# State\n",
    "Ajout d'un state aléatoire sur chaque image.\n",
    "\n",
    "70% de train (1)\n",
    "\n",
    "15% de test (2)\n",
    "\n",
    "15% de val (3)\n",
    "\n",
    "Ceci servira prochainement pour l'entrainement du model de machine learning\n"
   ],
   "id": "ed6804733aedbc5e"
  },
  {
   "metadata": {
    "ExecuteTime": {
     "end_time": "2025-03-12T03:08:34.363935Z",
     "start_time": "2025-03-12T03:07:25.452769Z"
    }
   },
   "cell_type": "code",
   "source": [
    "df_merged_spark = spark.createDataFrame(df_merged)\n",
    "image_new = \"ressource/image/augmented_train\"\n",
    "\n",
    "df_dict = {}\n",
    "for dossier in df_merged_spark.select(\"Espèce anglais\").distinct().rdd.flatMap(lambda x: x).collect():\n",
    "    folder_path = os.path.join(image_new, dossier)\n",
    "    if os.path.exists(folder_path):\n",
    "        df_images = spark.createDataFrame([(dossier, os.path.join(dossier, img)) for img in os.listdir(folder_path)],\n",
    "                                          [\"Espèce anglais\", \"Chemin Relatif\"])\n",
    "        df_dict[dossier] = df_images.join(df_merged_spark.select(\"Espèce anglais\"), on=\"Espèce anglais\")\n",
    "\n",
    "train_ratio = 0.7\n",
    "val_ratio = 0.15\n",
    "\n",
    "for dossier, df in df_dict.items():\n",
    "\n",
    "    df = df.withColumn(\"rand_val\", rand())\n",
    "\n",
    "    df = df.withColumn(\n",
    "        \"state\",\n",
    "        when(col(\"rand_val\") <= train_ratio, 1)\n",
    "        .when(col(\"rand_val\") <= (train_ratio + val_ratio), 2)\n",
    "        .otherwise(3)\n",
    "    )\n",
    "\n",
    "    df_dict[dossier] = df\n",
    "\n",
    "    df.write.mode(\"overwrite\").parquet(f\"ressource/dataframes_parquet/{dossier}\")\n",
    "    df.write.mode(\"overwrite\").csv(f\"ressource/dataframes_csv/{dossier}\")\n",
    "\n",
    "    print(f\"✅ State ajouté et fichier enregistré pour {dossier}\")\n",
    "\n",
    "if df_dict:\n",
    "    df_final = reduce(DataFrame.unionAll, df_dict.values())\n",
    "    print(f\" Fusion complète ! Le DataFrame final contient {df_final.count()} images.\")\n",
    "    df_final.write.mode(\"overwrite\").parquet(\"ressource/dataframes_parquet/all_images\")\n",
    "    df_final.coalesce(1).write.mode(\"overwrite\").csv(\"ressource/dataframes_csv/all_images\", header=True)\n",
    "else:\n",
    "    print(\"⚠️ Aucun DataFrame à fusionner !\")\n"
   ],
   "id": "c60defc76e7c47c7",
   "outputs": [
    {
     "name": "stderr",
     "output_type": "stream",
     "text": [
      "                                                                                \r"
     ]
    },
    {
     "name": "stdout",
     "output_type": "stream",
     "text": [
      "✅ State ajouté et fichier enregistré pour black_bear\n"
     ]
    },
    {
     "name": "stderr",
     "output_type": "stream",
     "text": [
      "                                                                                \r"
     ]
    },
    {
     "name": "stdout",
     "output_type": "stream",
     "text": [
      "✅ State ajouté et fichier enregistré pour beaver\n",
      "✅ State ajouté et fichier enregistré pour bob_cat\n",
      "✅ State ajouté et fichier enregistré pour coyote\n"
     ]
    },
    {
     "name": "stderr",
     "output_type": "stream",
     "text": [
      "                                                                                \r"
     ]
    },
    {
     "name": "stdout",
     "output_type": "stream",
     "text": [
      "✅ State ajouté et fichier enregistré pour goose\n"
     ]
    },
    {
     "name": "stderr",
     "output_type": "stream",
     "text": [
      "                                                                                \r"
     ]
    },
    {
     "name": "stdout",
     "output_type": "stream",
     "text": [
      "✅ State ajouté et fichier enregistré pour horse\n"
     ]
    },
    {
     "name": "stderr",
     "output_type": "stream",
     "text": [
      "                                                                                \r"
     ]
    },
    {
     "name": "stdout",
     "output_type": "stream",
     "text": [
      "✅ State ajouté et fichier enregistré pour gray_fox\n",
      "✅ State ajouté et fichier enregistré pour lion\n"
     ]
    },
    {
     "name": "stderr",
     "output_type": "stream",
     "text": [
      "                                                                                \r"
     ]
    },
    {
     "name": "stdout",
     "output_type": "stream",
     "text": [
      "✅ State ajouté et fichier enregistré pour mink\n",
      "✅ State ajouté et fichier enregistré pour muledeer\n"
     ]
    },
    {
     "name": "stderr",
     "output_type": "stream",
     "text": [
      "                                                                                \r"
     ]
    },
    {
     "name": "stdout",
     "output_type": "stream",
     "text": [
      "✅ State ajouté et fichier enregistré pour mouse\n"
     ]
    },
    {
     "name": "stderr",
     "output_type": "stream",
     "text": [
      "                                                                                \r"
     ]
    },
    {
     "name": "stdout",
     "output_type": "stream",
     "text": [
      "✅ State ajouté et fichier enregistré pour raccoon\n",
      "✅ State ajouté et fichier enregistré pour otter\n"
     ]
    },
    {
     "name": "stderr",
     "output_type": "stream",
     "text": [
      "                                                                                \r"
     ]
    },
    {
     "name": "stdout",
     "output_type": "stream",
     "text": [
      "✅ State ajouté et fichier enregistré pour rat\n",
      "✅ State ajouté et fichier enregistré pour skunk\n",
      "✅ State ajouté et fichier enregistré pour turkey\n",
      "✅ State ajouté et fichier enregistré pour western_grey_squirrel\n"
     ]
    },
    {
     "name": "stderr",
     "output_type": "stream",
     "text": [
      "                                                                                \r"
     ]
    },
    {
     "name": "stdout",
     "output_type": "stream",
     "text": [
      " Fusion complète ! Le DataFrame final contient 3916 images.\n"
     ]
    },
    {
     "name": "stderr",
     "output_type": "stream",
     "text": [
      "                                                                                \r"
     ]
    }
   ],
   "execution_count": 70
  },
  {
   "metadata": {
    "ExecuteTime": {
     "end_time": "2025-03-12T02:49:58.807849Z",
     "start_time": "2025-03-12T02:49:40.726987Z"
    }
   },
   "cell_type": "code",
   "source": [
    "df_final.printSchema()\n",
    "df_final.show(10)\n",
    "print(f\"Nombre total d'images : {df_final.count()}\")\n",
    "print(f\"Colonnes : {df_final.columns}\")\n",
    "\n",
    "df_pandas = df_final.toPandas()\n",
    "\n",
    "# Compter les occurrences des états (1 = train, 2 = val, 3 = test)\n",
    "state_counts = df_pandas[\"state\"].value_counts().sort_index()\n",
    "\n",
    "# 📊 Création du graphique\n",
    "plt.figure(figsize=(8, 5))\n",
    "state_counts.plot(kind='bar', color=['blue', 'orange', 'green'])\n",
    "\n",
    "plt.xlabel(\"State\")\n",
    "plt.ylabel(\"Nombre d'images\")\n",
    "plt.title(\"Répartition des images entre Train (1), Validation (2) et Test (3)\")\n",
    "plt.xticks(ticks=[0, 1, 2], labels=[\"Train (1)\", \"Validation (2)\", \"Test (3)\"], rotation=0)\n",
    "plt.grid(axis='y', linestyle='--', alpha=0.7)\n",
    "\n",
    "# Afficher le graphique\n",
    "plt.show()\n",
    "\n",
    "# Compter le nombre d'images par espèce\n",
    "species_counts = df_pandas[\"Espèce anglais\"].value_counts().head(10)  # Top 10\n",
    "\n",
    "# 📊 Création du graphique\n",
    "plt.figure(figsize=(10, 6))\n",
    "species_counts.plot(kind='bar', color='purple')\n",
    "\n",
    "plt.xlabel(\"Espèce\")\n",
    "plt.ylabel(\"Nombre d'images\")\n",
    "plt.title(\"Top 10 des espèces avec le plus d'images\")\n",
    "plt.xticks(rotation=45, ha='right')\n",
    "plt.grid(axis='y', linestyle='--', alpha=0.7)\n",
    "\n",
    "# Afficher le graphique\n",
    "plt.show()"
   ],
   "id": "1c78f8882db62b04",
   "outputs": [
    {
     "name": "stdout",
     "output_type": "stream",
     "text": [
      "root\n",
      " |-- Espèce anglais: string (nullable = true)\n",
      " |-- Chemin Relatif: string (nullable = true)\n",
      " |-- rand_val: double (nullable = false)\n",
      " |-- state: integer (nullable = false)\n",
      "\n"
     ]
    },
    {
     "name": "stderr",
     "output_type": "stream",
     "text": [
      "                                                                                \r"
     ]
    },
    {
     "name": "stdout",
     "output_type": "stream",
     "text": [
      "+--------------+--------------------+--------------------+-----+\n",
      "|Espèce anglais|      Chemin Relatif|            rand_val|state|\n",
      "+--------------+--------------------+--------------------+-----+\n",
      "|    black_bear|black_bear/aug_0_...|  0.6983302721775304|    1|\n",
      "|    black_bear|black_bear/aug_0_...|  0.3955637524175172|    1|\n",
      "|    black_bear|black_bear/aug_0_...|  0.7567400568795678|    2|\n",
      "|    black_bear|black_bear/aug_0_...|  0.1778117823894998|    1|\n",
      "|    black_bear|black_bear/aug_0_...|0.009127665338351298|    1|\n",
      "|    black_bear|black_bear/aug_0_...| 0.45307877292251975|    1|\n",
      "|    black_bear|black_bear/aug_0_...|  0.8381773974918217|    2|\n",
      "|    black_bear|black_bear/aug_0_...|  0.9526815625639558|    3|\n",
      "|    black_bear|black_bear/aug_0_...| 0.16681683415203385|    1|\n",
      "|    black_bear|black_bear/aug_0_...|  0.4791450644456966|    1|\n",
      "+--------------+--------------------+--------------------+-----+\n",
      "only showing top 10 rows\n",
      "\n"
     ]
    },
    {
     "name": "stderr",
     "output_type": "stream",
     "text": [
      "                                                                                \r"
     ]
    },
    {
     "name": "stdout",
     "output_type": "stream",
     "text": [
      "Nombre total d'images : 3916\n",
      "Colonnes : ['Espèce anglais', 'Chemin Relatif', 'rand_val', 'state']\n"
     ]
    },
    {
     "name": "stderr",
     "output_type": "stream",
     "text": [
      "                                                                                \r"
     ]
    },
    {
     "data": {
      "text/plain": [
       "<Figure size 800x500 with 1 Axes>"
      ],
      "image/png": "[encoded data removed]"
     },
     "metadata": {},
     "output_type": "display_data"
    },
    {
     "data": {
      "text/plain": [
       "<Figure size 1000x600 with 1 Axes>"
      ],
      "image/png": "[encoded data removed]"
     },
     "metadata": {},
     "output_type": "display_data"
    }
   ],
   "execution_count": 54
  },
  {
   "metadata": {
    "ExecuteTime": {
     "end_time": "2025-03-12T02:45:44.584576700Z",
     "start_time": "2025-03-12T01:43:31.207065Z"
    }
   },
   "cell_type": "code",
   "source": [
    "print(\"Colonnes de df_facts :\", df_final.columns)\n",
    "print(df_final.describe())"
   ],
   "id": "dfaa31d9c772f67b",
   "outputs": [
    {
     "name": "stdout",
     "output_type": "stream",
     "text": [
      "Colonnes de df_facts : ['Espèce anglais', 'Chemin Relatif', 'rand_val', 'state']\n",
      "DataFrame[summary: string, Espèce anglais: string, Chemin Relatif: string, rand_val: string, state: string]\n"
     ]
    }
   ],
   "execution_count": 25
  },
  {
   "metadata": {
    "ExecuteTime": {
     "end_time": "2025-03-12T02:50:50.947095Z",
     "start_time": "2025-03-12T02:50:50.845690Z"
    }
   },
   "cell_type": "code",
   "source": [
    "df_existing = spark.read.jdbc(url=db_url, table=\"wildlens_etat\", properties=db_properties)\n",
    "\n",
    "if df_existing.count() == 0:\n",
    "    print(\"La table wildlens_etat est vide, insertion des données...\")\n",
    "\n",
    "    df_etat = spark.createDataFrame([\n",
    "        Row(id_etat=1, type=\"train\"),\n",
    "        Row(id_etat=2, type=\"test\"),\n",
    "        Row(id_etat=3, type=\"validation\")\n",
    "    ])\n",
    "\n",
    "    df_etat.write.mode(\"append\").jdbc(url=db_url, table=\"wildlens_etat\", properties=db_properties)"
   ],
   "id": "787e4c49e491df6b",
   "outputs": [],
   "execution_count": 57
  },
  {
   "metadata": {
    "ExecuteTime": {
     "end_time": "2025-03-12T02:50:29.876828Z",
     "start_time": "2025-03-12T02:50:29.461742Z"
    }
   },
   "cell_type": "code",
   "source": [
    "# 📌 Chargement des métadonnées avec Spark\n",
    "metadata_path = \"ressource/data_merged.csv\"\n",
    "df_meta = spark.read.option(\"header\", True).option(\"sep\", \",\").csv(metadata_path)\n",
    "\n",
    "df_existing = spark.read.jdbc(url=db_url, table=\"wildlens_facts\", properties=db_properties)\n",
    "\n",
    "if df_existing.count() == 0:\n",
    "\n",
    "    print(\"La table wildlens_facts est vide, insertion des données...\")\n",
    "\n",
    "    df_facts = df_meta.select(\n",
    "        \"Espèce français\", \"Famille\", \"Nom latin\", \"Description\", \"Population estimée\", \"Localisation\", \"Espèce anglais\",\n",
    "        \"Nombre d'images\",\"Coeff\"\n",
    "    ).dropDuplicates()\n",
    "\n",
    "    df_facts = (df_facts.withColumnRenamed(\"Espèce anglais\", \"nom_en\")\n",
    "                .withColumnRenamed(\"Population estimée\", \"population_estimee\")\n",
    "                .withColumnRenamed(\"Nombre d'images\", \"nombre_image\")\n",
    "                .withColumnRenamed(\"Espèce français\", \"nom_fr\")\n",
    "                .withColumnRenamed(\"Nom latin\", \"nom_latin\")\n",
    "                .withColumnRenamed(\"Famille\", \"famille\")\n",
    "                .withColumnRenamed(\"Localisation\", \"localisation\")\n",
    "                .withColumnRenamed(\"Coeff\", \"coeff_multiplication\"))\n",
    "\n",
    "    df_facts.write.jdbc(url=db_url, table=\"wildlens_facts\", mode=\"append\", properties=db_properties)\n",
    "\n",
    "    print(\"✅ Table wildlens_facts mise à jour avec succès !\")"
   ],
   "id": "2dce1d5168a440fd",
   "outputs": [],
   "execution_count": 55
  },
  {
   "metadata": {
    "ExecuteTime": {
     "end_time": "2025-03-12T03:14:58.874148Z",
     "start_time": "2025-03-12T03:14:34.751033Z"
    }
   },
   "cell_type": "code",
   "source": [
    "df_existing = spark.read.jdbc(url=db_url, table=\"wildlens_images\", properties=db_properties)\n",
    "\n",
    "if df_existing.count() == 0:\n",
    "    print(\"La table wildlens_images est vide, insertion des données...\")\n",
    "\n",
    "    df_images = spark.read.jdbc(url=db_url, table=\"wildlens_facts\", properties=db_properties)\n",
    "    df_id_espece = df_images.select(\"id_espece\", \"nom_en\").distinct()\n",
    "\n",
    "    if \"id_espece\" in df_final.columns:\n",
    "        df_final = df_final.drop(\"id_espece\")\n",
    "\n",
    "    # Effectuer la jointure pour récupérer l'ID de l'espèce\n",
    "    df_final = df_final.join(df_id_espece, df_final[\"Espèce anglais\"] == df_id_espece[\"nom_en\"], \"left\")\n",
    "    print(df_final.show())\n",
    "# Charger les images et ajouter une colonne binaire \"image\"\n",
    "    df = df_final.select(\"Chemin Relatif\", \"id_espece\", \"state\")\n",
    "\n",
    "    print(df.show())  # Afficher les données pour vérifier\n",
    "\n",
    "    # Renommer les colonnes pour correspondre au schéma MySQL\n",
    "    df = (df.withColumnRenamed(\"Chemin Relatif\", \"image\")\n",
    "                .withColumnRenamed(\"id_espece\", \"id_espece\")\n",
    "                .withColumnRenamed(\"state\", \"id_etat\"))\n",
    "    # Sauvegarder dans la base de données\n",
    "    df.write.jdbc(url=db_url, table=\"wildlens_images\", mode=\"append\", properties=db_properties)\n",
    "    print(\"✅ Table wildlens_images mise à jour avec succès !\")\n"
   ],
   "id": "46bda1cf1805b425",
   "outputs": [
    {
     "name": "stdout",
     "output_type": "stream",
     "text": [
      "La table wildlens_images est vide, insertion des données...\n"
     ]
    },
    {
     "name": "stderr",
     "output_type": "stream",
     "text": [
      "                                                                                \r"
     ]
    },
    {
     "name": "stdout",
     "output_type": "stream",
     "text": [
      "+--------------+--------------------+-------------------+-----+----------+----------+----------+---------+----------+\n",
      "|Espèce anglais|      Chemin Relatif|           rand_val|state|    nom_en|    nom_en|    nom_en|id_espece|    nom_en|\n",
      "+--------------+--------------------+-------------------+-----+----------+----------+----------+---------+----------+\n",
      "|    black_bear|black_bear/aug_0_...|0.12355988280170649|    1|black_bear|black_bear|black_bear|       17|black_bear|\n",
      "|    black_bear|black_bear/aug_0_...| 0.5665740785570093|    1|black_bear|black_bear|black_bear|       17|black_bear|\n",
      "|    black_bear|black_bear/aug_0_...|0.43053334126142684|    1|black_bear|black_bear|black_bear|       17|black_bear|\n",
      "|    black_bear|black_bear/aug_0_...| 0.4819814587543656|    1|black_bear|black_bear|black_bear|       17|black_bear|\n",
      "|    black_bear|black_bear/aug_0_...|0.39471510747246497|    1|black_bear|black_bear|black_bear|       17|black_bear|\n",
      "|    black_bear|black_bear/aug_0_...|0.13953668998369262|    1|black_bear|black_bear|black_bear|       17|black_bear|\n",
      "|    black_bear|black_bear/aug_0_...| 0.5094530453909939|    1|black_bear|black_bear|black_bear|       17|black_bear|\n",
      "|    black_bear|black_bear/aug_0_...|0.21192638004974274|    1|black_bear|black_bear|black_bear|       17|black_bear|\n",
      "|    black_bear|black_bear/aug_0_...|   0.49322996113561|    1|black_bear|black_bear|black_bear|       17|black_bear|\n",
      "|    black_bear|black_bear/aug_0_...| 0.4545600767465695|    1|black_bear|black_bear|black_bear|       17|black_bear|\n",
      "|    black_bear|black_bear/aug_0_...| 0.2761097589947319|    1|black_bear|black_bear|black_bear|       17|black_bear|\n",
      "|    black_bear|black_bear/aug_0_...| 0.8392009221410982|    2|black_bear|black_bear|black_bear|       17|black_bear|\n",
      "|    black_bear|black_bear/aug_0_...| 0.5955812943405921|    1|black_bear|black_bear|black_bear|       17|black_bear|\n",
      "|    black_bear|black_bear/aug_0_...|0.07492408107353166|    1|black_bear|black_bear|black_bear|       17|black_bear|\n",
      "|    black_bear|black_bear/aug_0_...| 0.2878913172262857|    1|black_bear|black_bear|black_bear|       17|black_bear|\n",
      "|    black_bear|black_bear/aug_0_...| 0.7232566027553363|    2|black_bear|black_bear|black_bear|       17|black_bear|\n",
      "|    black_bear|black_bear/aug_0_...| 0.7111551456667535|    2|black_bear|black_bear|black_bear|       17|black_bear|\n",
      "|    black_bear|black_bear/aug_0_...|  0.790050207677508|    2|black_bear|black_bear|black_bear|       17|black_bear|\n",
      "|    black_bear|black_bear/aug_0_...|  0.769862555253036|    2|black_bear|black_bear|black_bear|       17|black_bear|\n",
      "|    black_bear|black_bear/aug_0_...|0.35567545575855286|    1|black_bear|black_bear|black_bear|       17|black_bear|\n",
      "+--------------+--------------------+-------------------+-----+----------+----------+----------+---------+----------+\n",
      "only showing top 20 rows\n",
      "\n",
      "None\n"
     ]
    },
    {
     "name": "stderr",
     "output_type": "stream",
     "text": [
      "                                                                                \r"
     ]
    },
    {
     "name": "stdout",
     "output_type": "stream",
     "text": [
      "+--------------------+---------+-----+\n",
      "|      Chemin Relatif|id_espece|state|\n",
      "+--------------------+---------+-----+\n",
      "|black_bear/aug_0_...|       17|    1|\n",
      "|black_bear/aug_0_...|       17|    1|\n",
      "|black_bear/aug_0_...|       17|    1|\n",
      "|black_bear/aug_0_...|       17|    1|\n",
      "|black_bear/aug_0_...|       17|    1|\n",
      "|black_bear/aug_0_...|       17|    1|\n",
      "|black_bear/aug_0_...|       17|    1|\n",
      "|black_bear/aug_0_...|       17|    1|\n",
      "|black_bear/aug_0_...|       17|    1|\n",
      "|black_bear/aug_0_...|       17|    1|\n",
      "|black_bear/aug_0_...|       17|    1|\n",
      "|black_bear/aug_0_...|       17|    2|\n",
      "|black_bear/aug_0_...|       17|    1|\n",
      "|black_bear/aug_0_...|       17|    1|\n",
      "|black_bear/aug_0_...|       17|    1|\n",
      "|black_bear/aug_0_...|       17|    2|\n",
      "|black_bear/aug_0_...|       17|    2|\n",
      "|black_bear/aug_0_...|       17|    2|\n",
      "|black_bear/aug_0_...|       17|    2|\n",
      "|black_bear/aug_0_...|       17|    1|\n",
      "+--------------------+---------+-----+\n",
      "only showing top 20 rows\n",
      "\n",
      "None\n"
     ]
    },
    {
     "name": "stderr",
     "output_type": "stream",
     "text": [
      "[Stage 3151:============================================>         (14 + 3) / 17]\r"
     ]
    },
    {
     "name": "stdout",
     "output_type": "stream",
     "text": [
      "✅ Table wildlens_images mise à jour avec succès !\n"
     ]
    },
    {
     "name": "stderr",
     "output_type": "stream",
     "text": [
      "                                                                                \r"
     ]
    }
   ],
   "execution_count": 74
  }
 ],
 "metadata": {
  "kernelspec": {
   "display_name": "Python 3 (ipykernel)",
   "language": "python",
   "name": "python3"
  },
  "language_info": {
   "codemirror_mode": {
    "name": "ipython",
    "version": 3
   },
   "file_extension": ".py",
   "mimetype": "text/x-python",
   "name": "python",
   "nbconvert_exporter": "python",
   "pygments_lexer": "ipython3",
   "version": "3.9.21"
  }
 },
 "nbformat": 4,
 "nbformat_minor": 5
}
