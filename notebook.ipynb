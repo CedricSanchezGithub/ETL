{
 "cells": [
  {
   "metadata": {},
   "cell_type": "code",
   "source": [
    "import pandas as pd\n",
    "# Importation des bibliothèques nécessaires\n",
    "from pyspark.sql import SparkSession\n",
    "import os\n",
    "import sys\n",
    "\n",
    "from dotenv import load_dotenv\n",
    "from mistralai import Mistral\n"
   ],
   "id": "b5acbd9739558d6",
   "outputs": [],
   "execution_count": null
  },
  {
   "cell_type": "code",
   "id": "8c17148f7753f086",
   "metadata": {},
   "source": [
    "# Variables\n",
    "# Paramètres de connexion MySQL\n",
    "db_url = \"jdbc:mysql://mysql-container:3306/wildlens?serverTimezone=UTC\"\n",
    "db_properties = { \"user\": \"root\", \"password\": \"root\", \"driver\": \"com.mysql.cj.jdbc.Driver\" }"
   ],
   "outputs": [],
   "execution_count": null
  },
  {
   "cell_type": "code",
   "id": "e8a7bb1efd54b46f",
   "metadata": {},
   "source": [
    "# Initialisation de SparkSession\n",
    "spark = SparkSession.builder \\\n",
    "    .appName(\"WildLens ETL - MSPR 24-25\") \\\n",
    "    .config(\"spark.jars\", \"/installation/mysql-connector-j-9.1.0.jar\") \\\n",
    "    .getOrCreate()"
   ],
   "outputs": [],
   "execution_count": null
  },
  {
   "metadata": {},
   "cell_type": "markdown",
   "source": [
    "# Gestion des métadonnées des espèces\n",
    "\n",
    " Dans un premier temps, nous scannons les dossiers disponibles afin d'en faire un dataframe et réutiliser ces informations.\n",
    " Puis nous récupérons les métadonnées depuis l'API Mistral grâce à un prompt optimisé (optimisation du grounding, du prompt engineering)\n",
    " un sleep de 3s a été ajouté afin d'éviter de trop spam l'API"
   ],
   "id": "e9aa2ea408adb8ea"
  },
  {
   "cell_type": "code",
   "id": "5668463f7b56240d",
   "metadata": {},
   "source": [
    "# Chargement des informations sur les espèces\n",
    "species_info_path = './data/csv/infos_especes.csv'\n",
    "species_info_df = spark.read.csv(species_info_path, sep=\";\",header=True, inferSchema=True)\n",
    "\n",
    "folder_all_animals = [d for d in os.listdir(\"data/OpenAnimalTracks/raw_imgs\") if os.path.isdir(os.path.join(\"data/OpenAnimalTracks/raw_imgs\", d))]\n",
    "df_all_animals = pd.DataFrame(folder_all_animals, columns=[\"Nom du dossier\"])\n",
    "display(df_all_animals)"
   ],
   "outputs": [],
   "execution_count": null
  },
  {
   "metadata": {},
   "cell_type": "code",
   "source": [
    "import time\n",
    "\n",
    "# Charger les variables d'environnement\n",
    "load_dotenv()\n",
    "\n",
    "# Récupérer la clé API\n",
    "api_key = os.environ.get(\"API_KEY\")\n",
    "if not api_key:\n",
    "    raise ValueError(\"La clé API n'est pas définie dans les variables d'environnement.\")\n",
    "\n",
    "# Modèle utilisé\n",
    "model = \"open-mistral-nemo\"\n",
    "\n",
    "# Initialiser le client Mistral\n",
    "client = Mistral(api_key=api_key)\n",
    "\n",
    "# Définition du fichier CSV\n",
    "fichier_csv = \"infos_animaux.csv\"\n",
    "\n",
    "# Supprimer le fichier s'il existe déjà\n",
    "if os.path.exists(fichier_csv):\n",
    "    os.remove(fichier_csv)\n",
    "\n",
    "# Liste pour stocker les informations des animaux\n",
    "donnees_animaux = []\n",
    "\n",
    "# Récupérer les informations pour chaque animal avec un délai entre les requêtes\n",
    "for animal in df_all_animals[\"Nom du dossier\"]:\n",
    "    print(f\"🔍 Recherche des informations pour {animal}...\")\n",
    "\n",
    "    # Génération du prompt\n",
    "    prompt = f\"\"\"\n",
    "    En français, donne-moi les informations suivantes sur {animal} :\n",
    "    - le nom de l'espèce,\n",
    "    - la famille,\n",
    "    - le nom latin,\n",
    "    - la population estimée (uniquement un nombre, sans texte, sans unité, sans ponctuation sauf le point ou la virgule pour les milliers),\n",
    "    - la localisation (uniquement le ou les pays, séparés par un espace).\n",
    "    - la description, une courte phrase décrivant l'animal.\n",
    "\n",
    "    Attention :\n",
    "    - Ne mets pas d'explication ou de phrase, uniquement les valeurs demandées.\n",
    "    - Pour la population, écris uniquement un nombre sans texte. Par exemple : 1000000 au lieu de '1 million d'espèces environ'.\n",
    "    - Pour la localisation, écris uniquement le ou les pays séparés par un espace.\n",
    "    - Pour la Description, je souhaite 30 mots grand maximum.\n",
    "    - Le nom de l'espèce sera systématiquement traduit en français\n",
    "\n",
    "    Présente les informations sous ce format exact :\n",
    "    Espèce : <nom de l'espèce>\n",
    "    Famille : <famille>\n",
    "    Nom latin : <nom latin>\n",
    "    Description: <description>\n",
    "    Population estimée : <population estimée>\n",
    "    Localisation : <localisation>\n",
    "    \"\"\"\n",
    "\n",
    "    # Appel à l'API Mistral\n",
    "    try:\n",
    "        chat_response = client.chat.complete(\n",
    "            model=model,\n",
    "            messages=[{\"role\": \"user\", \"content\": prompt}]\n",
    "        )\n",
    "\n",
    "        # Extraire la réponse\n",
    "        reponse = chat_response.choices[0].message.content\n",
    "\n",
    "        # Parser la réponse pour extraire les valeurs\n",
    "        informations = {}\n",
    "        for ligne in reponse.split(\"\\n\"):\n",
    "            if \":\" in ligne:\n",
    "                cle, valeur = ligne.split(\":\", 1)\n",
    "                informations[cle.strip()] = valeur.strip()\n",
    "\n",
    "        # Ajouter les informations à la liste\n",
    "        donnees_animaux.append(informations)\n",
    "\n",
    "    except Exception as e:\n",
    "        print(f\"⚠️ Erreur lors de la récupération des infos pour {animal} : {e}\")\n",
    "\n",
    "    # Pause pour éviter d'être banni\n",
    "    print(\"⏳ Attente de 3 secondes avant la prochaine requête...\")\n",
    "    time.sleep(3)\n",
    "\n",
    "# Création du DataFrame\n",
    "df_animaux = pd.DataFrame(donnees_animaux)\n",
    "\n",
    "display(df_animaux)\n",
    "\n",
    "# Sauvegarde dans un CSV\n",
    "df_animaux.to_csv(fichier_csv, index=False)\n",
    "\n",
    "print(f\"✅ Les informations des animaux ont été enregistrées dans {fichier_csv}.\")\n"
   ],
   "id": "abe4407305aad0ed",
   "outputs": [],
   "execution_count": null
  },
  {
   "metadata": {},
   "cell_type": "markdown",
   "source": [
    "# Gestion des images\n",
    "Dans un premier temps, nous allons faire une première analyse des images: leurs nombre par espèces (donc, par dossier), leurs tailles moyenne, leurs poid moyen, etc..."
   ],
   "id": "3633fa39ade6ba47"
  },
  {
   "cell_type": "code",
   "id": "d68b8e6a75d28847",
   "metadata": {},
   "source": "\n",
   "outputs": [],
   "execution_count": null
  },
  {
   "cell_type": "code",
   "id": "ea765c7833f919a6",
   "metadata": {},
   "source": [
    "# Sauvegarde au format CSV\n",
    "cleaned_df.write.csv(\"./output/data/nettoye.csv\", header=True, mode=\"overwrite\")\n",
    "\n",
    "# Sauvegarde au format Parquet\n",
    "cleaned_df.write.parquet(\"./output/data/nettoye.parquet\", mode=\"overwrite\")\n"
   ],
   "outputs": [],
   "execution_count": null
  },
  {
   "cell_type": "code",
   "id": "aa4438a0086f2a2f",
   "metadata": {},
   "source": [
    "# Écrire les données dans la table MySQL\n",
    "cleaned_df.write \\\n",
    "    .jdbc(url=db_url, table=\"Animaux\", mode=\"overwrite\", properties=db_properties)\n"
   ],
   "outputs": [],
   "execution_count": null
  }
 ],
 "metadata": {
  "kernelspec": {
   "display_name": "Python 3 (ipykernel)",
   "language": "python",
   "name": "python3"
  },
  "language_info": {
   "codemirror_mode": {
    "name": "ipython",
    "version": 3
   },
   "file_extension": ".py",
   "mimetype": "text/x-python",
   "name": "python",
   "nbconvert_exporter": "python",
   "pygments_lexer": "ipython3",
   "version": "3.9.21"
  }
 },
 "nbformat": 4,
 "nbformat_minor": 5
}
