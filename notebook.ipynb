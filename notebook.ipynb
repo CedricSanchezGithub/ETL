{
 "cells": [
  {
   "cell_type": "code",
   "id": "initial_id",
   "metadata": {
    "ExecuteTime": {
     "end_time": "2024-12-20T09:23:00.372061Z",
     "start_time": "2024-12-20T09:23:00.167429Z"
    }
   },
   "source": [
    "# Importation des bibliothèques nécessaires\n",
    "from pyspark.sql import SparkSession"
   ],
   "outputs": [],
   "execution_count": 1
  },
  {
   "cell_type": "code",
   "id": "8c17148f7753f086",
   "metadata": {
    "ExecuteTime": {
     "end_time": "2024-12-20T09:23:00.390148Z",
     "start_time": "2024-12-20T09:23:00.387211Z"
    }
   },
   "source": [
    "# Variables\n",
    "# Paramètres de connexion MySQL\n",
    "db_url = (\"jdbc:mysql://mysql-container:3306/wildlens\"\n",
    "          \"?serverTimezone=UTC\")\n",
    "db_properties = {\n",
    "    \"user\": \"root\",\n",
    "    \"password\": \"root\",\n",
    "    \"driver\": \"com.mysql.cj.jdbc.Driver\"\n",
    "}"
   ],
   "outputs": [],
   "execution_count": 2
  },
  {
   "cell_type": "code",
   "id": "e8a7bb1efd54b46f",
   "metadata": {
    "ExecuteTime": {
     "end_time": "2024-12-20T09:23:03.951750Z",
     "start_time": "2024-12-20T09:23:00.562316Z"
    }
   },
   "source": [
    "# Initialisation de SparkSession\n",
    "spark = SparkSession.builder \\\n",
    "    .appName(\"WildLens ETL - MSPR 24-25\") \\\n",
    "    .config(\"spark.jars\", \"/usr/lib/jvm/jars/mysql-connector-j-9.1.0.jar\") \\\n",
    "    .getOrCreate()"
   ],
   "outputs": [
    {
     "name": "stderr",
     "output_type": "stream",
     "text": [
      "/home/jupyter/.local/lib/python3.9/site-packages/pyspark/bin/load-spark-env.sh: line 68: ps: command not found\n",
      "24/12/20 09:23:02 WARN NativeCodeLoader: Unable to load native-hadoop library for your platform... using builtin-java classes where applicable\n",
      "Setting default log level to \"WARN\".\n",
      "To adjust logging level use sc.setLogLevel(newLevel). For SparkR, use setLogLevel(newLevel).\n"
     ]
    }
   ],
   "execution_count": 3
  },
  {
   "cell_type": "code",
   "id": "5668463f7b56240d",
   "metadata": {
    "ExecuteTime": {
     "end_time": "2024-12-20T09:23:07.890602Z",
     "start_time": "2024-12-20T09:23:03.958701Z"
    }
   },
   "source": [
    "# Chargement des informations sur les espèces\n",
    "species_info_path = './data/csv/infos_especes.csv'\n",
    "species_info_df = spark.read.csv(species_info_path, sep=\";\",header=True, inferSchema=True)\n",
    "species_info_df.show(5)\n"
   ],
   "outputs": [
    {
     "name": "stdout",
     "output_type": "stream",
     "text": [
      "+--------+--------------------+--------------------+---------+--------------------+--------------------+--------------------+--------------------+\n",
      "|  Espèce|         Description|           Nom latin|  Famille|              Taille|              Région|             Habitat|            Fun fact|\n",
      "+--------+--------------------+--------------------+---------+--------------------+--------------------+--------------------+--------------------+\n",
      "|  Castor|Le castor d’Europ...|   Castor canadensis|Mammifère|100 à 135 cm queu...|Europe du nord et...|Le castor d’Europ...|À l’exception des...|\n",
      "|    Chat|Le Chat sauvage4 ...|    Felis silvestris|Mammifère|46 à 51 cm sans l...|Amérique, Europe,...|                NULL|Un chat ne peut p...|\n",
      "|   Chien|Alors qu'on estim...|Canis lupus famil...|Mammifère|                NULL|     Hémisphère nord|                NULL|L'empreinte de la...|\n",
      "|  Coyote|Le coyote, égalem...|       Canis latrans|Mammifère|         70 à 120 cm|Amérique du nord,...|Le coyote vit dan...|Animal social et ...|\n",
      "|Ecureuil|L’écureuil est un...|    Sciurus vulgaris|Mammifère|          20 à 25 cm|Eurasie (Europe, ...|Animal arboricole...|L'écureuil est l’...|\n",
      "+--------+--------------------+--------------------+---------+--------------------+--------------------+--------------------+--------------------+\n",
      "only showing top 5 rows\n",
      "\n"
     ]
    }
   ],
   "execution_count": 4
  },
  {
   "cell_type": "code",
   "id": "d68b8e6a75d28847",
   "metadata": {
    "ExecuteTime": {
     "end_time": "2024-12-20T09:23:10.486446Z",
     "start_time": "2024-12-20T09:23:07.928021Z"
    }
   },
   "source": [
    "# Remplacer les valeurs manquantes par \"valeur manquante\"\n",
    "df_filled = species_info_df.fillna(\"missing value\")\n",
    "\n",
    "# Identifier les colonnes sans nom\n",
    "columns_with_name = [col for col in df_filled.columns if col.strip()]\n",
    "\n",
    "# Identifier les colonnes aberrantes (avec une seule valeur unique)\n",
    "abnormal_columns = []\n",
    "for col_name in columns_with_name:\n",
    "    unique_value_count = df_filled.select(col_name).distinct().count()\n",
    "    if unique_value_count <= 1:\n",
    "        abnormal_columns.append(col_name)\n",
    "\n",
    "# Supprimer les colonnes aberrantes\n",
    "columns_to_keep = [col for col in columns_with_name if col not in abnormal_columns]\n",
    "cleaned_df = df_filled.select(*columns_to_keep)\n",
    "\n",
    "# Afficher un aperçu\n",
    "cleaned_df.show()\n"
   ],
   "outputs": [
    {
     "name": "stdout",
     "output_type": "stream",
     "text": [
      "+------------+--------------------+--------------------+--------------------+--------------------+--------------------+--------------------+\n",
      "|      Espèce|         Description|           Nom latin|              Taille|              Région|             Habitat|            Fun fact|\n",
      "+------------+--------------------+--------------------+--------------------+--------------------+--------------------+--------------------+\n",
      "|      Castor|Le castor d’Europ...|   Castor canadensis|100 à 135 cm queu...|Europe du nord et...|Le castor d’Europ...|À l’exception des...|\n",
      "|        Chat|Le Chat sauvage4 ...|    Felis silvestris|46 à 51 cm sans l...|Amérique, Europe,...|       missing value|Un chat ne peut p...|\n",
      "|       Chien|Alors qu'on estim...|Canis lupus famil...|       missing value|     Hémisphère nord|       missing value|L'empreinte de la...|\n",
      "|      Coyote|Le coyote, égalem...|       Canis latrans|         70 à 120 cm|Amérique du nord,...|Le coyote vit dan...|Animal social et ...|\n",
      "|    Ecureuil|L’écureuil est un...|    Sciurus vulgaris|          20 à 25 cm|Eurasie (Europe, ...|Animal arboricole...|L'écureuil est l’...|\n",
      "|       Lapin|Le lapin de garen...|Oryctolagus cunic...|          34 à 50 cm|Europe et Afrique...|Le lapin de garen...|Le lapin de garen...|\n",
      "|        Loup|Le loup gris comm...|   Canis lupus lupus|0,90 à 1,10 m pou...|            Eurasie |Le loup gris comm...|Les loups solitai...|\n",
      "|        Lynx|Le lynx commun, a...|           Lynx lynx|         75 à 135 cm|            Eurasie |L’espèce vit dans...|L’expression « av...|\n",
      "|        Ours|L’ours brun est u...|        Ursus arctos|1,5 m à 3,5 m deb...|Amérique du Nord,...|L’ours brun vit d...|Les ours bruns pa...|\n",
      "|        Puma|Le puma, appelé é...|       Puma concolor|          1 à 2,30 m|Amérique du Nord ...|Le puma vit dans ...|Le puma est un an...|\n",
      "|         Rat|Le rat est un gen...|       Rattus rattus|11 à 28cm sans la...|        Monde entier|       missing value|L'Antarctique est...|\n",
      "|Raton laveur|Le raton laveur c...|       Procyon lotor|          40 à 80 cm|Amérique du Nord,...|Le raton laveur v...|Son surnom de « l...|\n",
      "|      Renard|Le renard roux, a...|       Vulpes vulpes|         90 à 120 cm|Europe, Afrique d...|L’espèce vit dans...|\"Les renards util...|\n",
      "+------------+--------------------+--------------------+--------------------+--------------------+--------------------+--------------------+\n",
      "\n"
     ]
    }
   ],
   "execution_count": 5
  },
  {
   "cell_type": "code",
   "id": "ea765c7833f919a6",
   "metadata": {
    "ExecuteTime": {
     "end_time": "2024-12-20T09:23:11.616944Z",
     "start_time": "2024-12-20T09:23:10.506192Z"
    }
   },
   "source": [
    "# Sauvegarde au format CSV\n",
    "cleaned_df.write.csv(\"./output/data/nettoye.csv\", header=True, mode=\"overwrite\")\n",
    "\n",
    "# Sauvegarde au format Parquet\n",
    "cleaned_df.write.parquet(\"./output/data/nettoye.parquet\", mode=\"overwrite\")\n"
   ],
   "outputs": [
    {
     "name": "stderr",
     "output_type": "stream",
     "text": [
      "                                                                                \r"
     ]
    }
   ],
   "execution_count": 6
  },
  {
   "cell_type": "code",
   "id": "aa4438a0086f2a2f",
   "metadata": {
    "ExecuteTime": {
     "end_time": "2024-12-20T09:23:12.420970Z",
     "start_time": "2024-12-20T09:23:11.645172Z"
    }
   },
   "source": [
    "# Écrire les données dans la table MySQL\n",
    "cleaned_df.write \\\n",
    "    .jdbc(url=db_url, table=\"Animaux\", mode=\"overwrite\", properties=db_properties)\n"
   ],
   "outputs": [],
   "execution_count": 7
  }
 ],
 "metadata": {
  "kernelspec": {
   "display_name": "Python 3 (ipykernel)",
   "language": "python",
   "name": "python3"
  },
  "language_info": {
   "codemirror_mode": {
    "name": "ipython",
    "version": 3
   },
   "file_extension": ".py",
   "mimetype": "text/x-python",
   "name": "python",
   "nbconvert_exporter": "python",
   "pygments_lexer": "ipython3",
   "version": "3.9.21"
  }
 },
 "nbformat": 4,
 "nbformat_minor": 5
}
