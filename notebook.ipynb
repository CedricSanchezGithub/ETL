{
 "cells": [
  {
   "cell_type": "code",
   "id": "initial_id",
   "metadata": {
    "ExecuteTime": {
     "end_time": "2024-12-13T10:48:14.350835Z",
     "start_time": "2024-12-13T10:48:14.347451Z"
    }
   },
   "source": [
    "# Importation des bibliothèques nécessaires\n",
    "from pyspark.sql import SparkSession\n",
    "from pyspark.sql.functions import col\n",
    "import pandas as pd\n",
    "import os"
   ],
   "outputs": [],
   "execution_count": 2
  },
  {
   "cell_type": "code",
   "id": "e8a7bb1efd54b46f",
   "metadata": {
    "ExecuteTime": {
     "end_time": "2024-12-13T10:48:19.381823Z",
     "start_time": "2024-12-13T10:48:16.719306Z"
    }
   },
   "source": [
    "# Initialisation de SparkSession\n",
    "spark = SparkSession.builder \\\n",
    "    .appName(\"WildLens ETL\") \\\n",
    "    .getOrCreate()"
   ],
   "outputs": [
    {
     "name": "stderr",
     "output_type": "stream",
     "text": [
      "/home/jupyter/.local/lib/python3.9/site-packages/pyspark/bin/load-spark-env.sh: line 68: ps: command not found\n",
      "Setting default log level to \"WARN\".\n",
      "To adjust logging level use sc.setLogLevel(newLevel). For SparkR, use setLogLevel(newLevel).\n",
      "24/12/13 10:48:18 WARN NativeCodeLoader: Unable to load native-hadoop library for your platform... using builtin-java classes where applicable\n"
     ]
    }
   ],
   "execution_count": 3
  },
  {
   "cell_type": "code",
   "id": "5668463f7b56240d",
   "metadata": {
    "ExecuteTime": {
     "end_time": "2024-12-13T10:48:23.839894Z",
     "start_time": "2024-12-13T10:48:20.589012Z"
    }
   },
   "source": [
    "# Chargement des informations sur les espèces\n",
    "species_info_path = './data/csv/infos_especes.csv'\n",
    "species_info_df = spark.read.csv(species_info_path, header=True, inferSchema=True)\n",
    "species_info_df.show(5)\n"
   ],
   "outputs": [
    {
     "name": "stdout",
     "output_type": "stream",
     "text": [
      "+-------------------------------------------------------------------+\n",
      "|Espèce;Description;Nom latin;Famille;Taille;Région;Habitat;Fun fact|\n",
      "+-------------------------------------------------------------------+\n",
      "|                                               Castor;Le castor ...|\n",
      "|                                               Chat;Le Chat sauv...|\n",
      "|                                               Chien;Alors qu'on...|\n",
      "|                                                   Coyote;Le coyote|\n",
      "|                                               Ecureuil;L’écureu...|\n",
      "+-------------------------------------------------------------------+\n",
      "only showing top 5 rows\n",
      "\n"
     ]
    }
   ],
   "execution_count": 4
  },
  {
   "cell_type": "code",
   "id": "d68b8e6a75d28847",
   "metadata": {
    "ExecuteTime": {
     "end_time": "2024-12-13T10:32:36.424491Z",
     "start_time": "2024-12-13T10:32:36.418763Z"
    }
   },
   "source": [
    "import sys\n",
    "print(\"sys.executable\")"
   ],
   "outputs": [
    {
     "name": "stdout",
     "output_type": "stream",
     "text": [
      "sys.executable\n"
     ]
    }
   ],
   "execution_count": 1
  }
 ],
 "metadata": {
  "kernelspec": {
   "display_name": "Python 3 (ipykernel)",
   "language": "python",
   "name": "python3"
  },
  "language_info": {
   "codemirror_mode": {
    "name": "ipython",
    "version": 3
   },
   "file_extension": ".py",
   "mimetype": "text/x-python",
   "name": "python",
   "nbconvert_exporter": "python",
   "pygments_lexer": "ipython3",
   "version": "3.9.21"
  }
 },
 "nbformat": 4,
 "nbformat_minor": 5
}
